{
 "cells": [
  {
   "cell_type": "code",
   "execution_count": 5,
   "metadata": {},
   "outputs": [],
   "source": [
    "import dash\n",
    "from dash import dcc\n",
    "from dash import html\n",
    "import pandas as pd\n",
    "import plotly.express as px\n",
    "\n",
    "\n",
    "df = pd.read_excel('D:/CCNY/Spring 2023/CSc 47400/informative-graphics/COVID-19 Data Analysis/1/New Data/Covid_Protection_Efficacy_By_Country_New.xlsx')"
   ]
  },
  {
   "attachments": {},
   "cell_type": "markdown",
   "metadata": {},
   "source": [
    "The graphic below shows what type of vaccines are used by each country. \n",
    "\n",
    "There is overlapping data as there can be multiple countries using the same vaccine. \n",
    "\n",
    "Click on the legend to see enable and disable the country. Best if all of them unselected and then clicked on one by one to avoid overlapping data. "
   ]
  },
  {
   "cell_type": "code",
   "execution_count": 6,
   "metadata": {},
   "outputs": [
    {
     "data": {
      "application/vnd.plotly.v1+json": {
       "config": {
        "plotlyServerURL": "https://plot.ly"
       },
       "data": [
        {
         "colorscale": [
          [
           0,
           "#636efa"
          ],
          [
           1,
           "#636efa"
          ]
         ],
         "geo": "geo",
         "hovertemplate": "vaccine=AstraZeneca - Vaxzevria<br>iso3_list=%{location}<extra></extra>",
         "locationmode": "ISO-3",
         "locations": [
          "AFG",
          "ALB",
          "AND",
          "AIA",
          "ATG",
          "ARG",
          "ARM",
          "AUS",
          "AUT",
          "AZE",
          "BHS",
          "BHR",
          "BGD",
          "BRB",
          "BEL",
          "BLZ",
          "BEN",
          "BMU",
          "BTN",
          "BOL",
          "BRA",
          "VGB",
          "BRN",
          "BGR",
          "KHM",
          "CAN",
          "CHL",
          "COL",
          "CRI",
          "HRV",
          "CUW",
          "CYP",
          "CZE",
          "DNK",
          "DJI",
          "DMA",
          "DOM",
          "ECU",
          "EGY",
          "SLV",
          "EST",
          "FJI",
          "FIN",
          "FRA",
          "GEO",
          "DEU",
          "GRC",
          "GRD",
          "GLP",
          "GTM",
          "GUY",
          "HND",
          "HUN",
          "ISL",
          "IDN",
          "IRN",
          "IRQ",
          "IRL",
          "ISR",
          "ITA",
          "JAM",
          "JPN",
          "JOR",
          "KIR",
          "XKX",
          "KWT",
          "KGZ",
          "LAO",
          "LVA",
          "LBN",
          "LBY",
          "LTU",
          "LUX",
          "MYS",
          "MDV",
          "MLT",
          "MEX",
          "FSM",
          "MCO",
          "MNG",
          "MNE",
          "MSR",
          "MAR",
          "NRU",
          "NPL",
          "NLD",
          "NZL",
          "NIC",
          "MKD",
          "NOR",
          "PSE",
          "OMN",
          "PAK",
          "PAN",
          "PNG",
          "PRY",
          "PER",
          "PHL",
          "PCN",
          "POL",
          "PRT",
          "QAT",
          "KOR",
          "MDA",
          "ROU",
          "KNA",
          "LCA",
          "VCT",
          "WSM",
          "STP",
          "SAU",
          "SRB",
          "SGP",
          "SXM",
          "SVK",
          "SVN",
          "SLB",
          "SOM",
          "ESP",
          "LKA",
          "SDN",
          "SUR",
          "SWE",
          "SYR",
          "TJK",
          "THA",
          "GBR",
          "TLS",
          "TON",
          "TTO",
          "TUN",
          "TKM",
          "TUV",
          "UKR",
          "ARE",
          "URY",
          "VUT",
          "VNM",
          "YEM"
         ],
         "name": "AstraZeneca - Vaxzevria",
         "showlegend": true,
         "showscale": false,
         "type": "choropleth",
         "z": [
          1,
          1,
          1,
          1,
          1,
          1,
          1,
          1,
          1,
          1,
          1,
          1,
          1,
          1,
          1,
          1,
          1,
          1,
          1,
          1,
          1,
          1,
          1,
          1,
          1,
          1,
          1,
          1,
          1,
          1,
          1,
          1,
          1,
          1,
          1,
          1,
          1,
          1,
          1,
          1,
          1,
          1,
          1,
          1,
          1,
          1,
          1,
          1,
          1,
          1,
          1,
          1,
          1,
          1,
          1,
          1,
          1,
          1,
          1,
          1,
          1,
          1,
          1,
          1,
          1,
          1,
          1,
          1,
          1,
          1,
          1,
          1,
          1,
          1,
          1,
          1,
          1,
          1,
          1,
          1,
          1,
          1,
          1,
          1,
          1,
          1,
          1,
          1,
          1,
          1,
          1,
          1,
          1,
          1,
          1,
          1,
          1,
          1,
          1,
          1,
          1,
          1,
          1,
          1,
          1,
          1,
          1,
          1,
          1,
          1,
          1,
          1,
          1,
          1,
          1,
          1,
          1,
          1,
          1,
          1,
          1,
          1,
          1,
          1,
          1,
          1,
          1,
          1,
          1,
          1,
          1,
          1,
          1,
          1,
          1,
          1,
          1,
          1,
          1
         ]
        },
        {
         "colorscale": [
          [
           0,
           "#EF553B"
          ],
          [
           1,
           "#EF553B"
          ]
         ],
         "geo": "geo",
         "hovertemplate": "vaccine=Beijing CNBG - BBIBP-CorV<br>iso3_list=%{location}<extra></extra>",
         "locationmode": "ISO-3",
         "locations": [
          "AFG",
          "DZA",
          "ATG",
          "ARG",
          "ARM",
          "BHR",
          "BGD",
          "BRB",
          "BLR",
          "BLZ",
          "BTN",
          "BOL",
          "BRN",
          "BFA",
          "BDI",
          "CPV",
          "KHM",
          "CMR",
          "TCD",
          "CHN",
          "COM",
          "COG",
          "CIV",
          "DJI",
          "DMA",
          "EGY",
          "SLV",
          "GNQ",
          "ETH",
          "GAB",
          "GMB",
          "GEO",
          "GIN",
          "GNB",
          "GUY",
          "HUN",
          "IDN",
          "IRN",
          "IRQ",
          "JAM",
          "JOR",
          "KAZ",
          "KEN",
          "KIR",
          "KWT",
          "KGZ",
          "LAO",
          "LBN",
          "LSO",
          "LBY",
          "MDG",
          "MYS",
          "MDV",
          "MRT",
          "MUS",
          "MNG",
          "MNE",
          "MAR",
          "MOZ",
          "MMR",
          "NAM",
          "NPL",
          "NER",
          "MKD",
          "PSE",
          "OMN",
          "PAK",
          "PNG",
          "PRY",
          "PER",
          "PHL",
          "PRT",
          "QAT",
          "MDA",
          "RWA",
          "SAU",
          "SEN",
          "SRB",
          "SYC",
          "SLE",
          "SGP",
          "SLB",
          "SOM",
          "LKA",
          "SDN",
          "SUR",
          "SYR",
          "THA",
          "TTO",
          "TUN",
          "TKM",
          "ARE",
          "TZA",
          "VUT",
          "VEN",
          "VNM",
          "YEM",
          "ZMB",
          "ZWE"
         ],
         "name": "Beijing CNBG - BBIBP-CorV",
         "showlegend": true,
         "showscale": false,
         "type": "choropleth",
         "z": [
          1,
          1,
          1,
          1,
          1,
          1,
          1,
          1,
          1,
          1,
          1,
          1,
          1,
          1,
          1,
          1,
          1,
          1,
          1,
          1,
          1,
          1,
          1,
          1,
          1,
          1,
          1,
          1,
          1,
          1,
          1,
          1,
          1,
          1,
          1,
          1,
          1,
          1,
          1,
          1,
          1,
          1,
          1,
          1,
          1,
          1,
          1,
          1,
          1,
          1,
          1,
          1,
          1,
          1,
          1,
          1,
          1,
          1,
          1,
          1,
          1,
          1,
          1,
          1,
          1,
          1,
          1,
          1,
          1,
          1,
          1,
          1,
          1,
          1,
          1,
          1,
          1,
          1,
          1,
          1,
          1,
          1,
          1,
          1,
          1,
          1,
          1,
          1,
          1,
          1,
          1,
          1,
          1,
          1,
          1,
          1,
          1,
          1,
          1
         ]
        },
        {
         "colorscale": [
          [
           0,
           "#00cc96"
          ],
          [
           1,
           "#00cc96"
          ]
         ],
         "geo": "geo",
         "hovertemplate": "vaccine=Bharat - Covaxin<br>iso3_list=%{location}<extra></extra>",
         "locationmode": "ISO-3",
         "locations": [
          "AFG",
          "BHR",
          "BWA",
          "CAF",
          "COM",
          "DJI",
          "EGY",
          "ETH",
          "IND",
          "IRN",
          "IRQ",
          "JOR",
          "KWT",
          "LBN",
          "LBY",
          "MUS",
          "MAR",
          "NPL",
          "PSE",
          "OMN",
          "PAK",
          "PRY",
          "PHL",
          "PRT",
          "QAT",
          "SAU",
          "SOM",
          "SDN",
          "SYR",
          "TUN",
          "ARE",
          "YEM",
          "ZWE"
         ],
         "name": "Bharat - Covaxin",
         "showlegend": true,
         "showscale": false,
         "type": "choropleth",
         "z": [
          1,
          1,
          1,
          1,
          1,
          1,
          1,
          1,
          1,
          1,
          1,
          1,
          1,
          1,
          1,
          1,
          1,
          1,
          1,
          1,
          1,
          1,
          1,
          1,
          1,
          1,
          1,
          1,
          1,
          1,
          1,
          1,
          1
         ]
        },
        {
         "colorscale": [
          [
           0,
           "#ab63fa"
          ],
          [
           1,
           "#ab63fa"
          ]
         ],
         "geo": "geo",
         "hovertemplate": "vaccine=CanSino - Convidecia<br>iso3_list=%{location}<extra></extra>",
         "locationmode": "ISO-3",
         "locations": [
          "AFG",
          "ARG",
          "BHR",
          "CHL",
          "CHN",
          "DJI",
          "ECU",
          "EGY",
          "IRN",
          "IRQ",
          "JOR",
          "KWT",
          "LBN",
          "LBY",
          "MYS",
          "MEX",
          "MAR",
          "PSE",
          "OMN",
          "PAK",
          "QAT",
          "SAU",
          "SOM",
          "SDN",
          "SYR",
          "TUN",
          "ARE",
          "YEM"
         ],
         "name": "CanSino - Convidecia",
         "showlegend": true,
         "showscale": false,
         "type": "choropleth",
         "z": [
          1,
          1,
          1,
          1,
          1,
          1,
          1,
          1,
          1,
          1,
          1,
          1,
          1,
          1,
          1,
          1,
          1,
          1,
          1,
          1,
          1,
          1,
          1,
          1,
          1,
          1,
          1,
          1
         ]
        },
        {
         "colorscale": [
          [
           0,
           "#FFA15A"
          ],
          [
           1,
           "#FFA15A"
          ]
         ],
         "geo": "geo",
         "hovertemplate": "vaccine=Gamaleya - Gam-Covid-Vac<br>iso3_list=%{location}<extra></extra>",
         "locationmode": "ISO-3",
         "locations": [
          "AFG",
          "ALB",
          "DZA",
          "ATG",
          "ARG",
          "ARM",
          "AZE",
          "BHR",
          "BGD",
          "BLR",
          "BOL",
          "COG",
          "CIV",
          "DJI",
          "EGY",
          "GAB",
          "GHA",
          "GTM",
          "GIN",
          "GUY",
          "HND",
          "HUN",
          "IND",
          "IRN",
          "IRQ",
          "JOR",
          "KAZ",
          "KWT",
          "KGZ",
          "LAO",
          "LBN",
          "LBY",
          "MYS",
          "MDV",
          "MEX",
          "MNG",
          "MNE",
          "MAR",
          "NPL",
          "NIC",
          "MKD",
          "PSE",
          "OMN",
          "PAK",
          "PRY",
          "PHL",
          "QAT",
          "MDA",
          "RWA",
          "VCT",
          "SMR",
          "SAU",
          "SRB",
          "SYC",
          "SVK",
          "SOM",
          "LKA",
          "SDN",
          "SYR",
          "TJK",
          "TUN",
          "TKM",
          "ARE",
          "UZB",
          "VEN",
          "VNM",
          "YEM",
          "ZWE"
         ],
         "name": "Gamaleya - Gam-Covid-Vac",
         "showlegend": true,
         "showscale": false,
         "type": "choropleth",
         "z": [
          1,
          1,
          1,
          1,
          1,
          1,
          1,
          1,
          1,
          1,
          1,
          1,
          1,
          1,
          1,
          1,
          1,
          1,
          1,
          1,
          1,
          1,
          1,
          1,
          1,
          1,
          1,
          1,
          1,
          1,
          1,
          1,
          1,
          1,
          1,
          1,
          1,
          1,
          1,
          1,
          1,
          1,
          1,
          1,
          1,
          1,
          1,
          1,
          1,
          1,
          1,
          1,
          1,
          1,
          1,
          1,
          1,
          1,
          1,
          1,
          1,
          1,
          1,
          1,
          1,
          1,
          1,
          1
         ]
        },
        {
         "colorscale": [
          [
           0,
           "#19d3f3"
          ],
          [
           1,
           "#19d3f3"
          ]
         ],
         "geo": "geo",
         "hovertemplate": "vaccine=Gamaleya - Sputnik-Light<br>iso3_list=%{location}<extra></extra>",
         "locationmode": "ISO-3",
         "locations": [
          "AFG",
          "ARM",
          "AZE",
          "BHR",
          "BLR",
          "DJI",
          "EGY",
          "IRN",
          "IRQ",
          "JOR",
          "KWT",
          "LAO",
          "LBN",
          "LBY",
          "MAR",
          "NIC",
          "PSE",
          "OMN",
          "PAK",
          "PHL",
          "QAT",
          "VCT",
          "SAU",
          "SOM",
          "SDN",
          "SYR",
          "TUN",
          "ARE",
          "UZB",
          "VEN",
          "YEM"
         ],
         "name": "Gamaleya - Sputnik-Light",
         "showlegend": true,
         "showscale": false,
         "type": "choropleth",
         "z": [
          1,
          1,
          1,
          1,
          1,
          1,
          1,
          1,
          1,
          1,
          1,
          1,
          1,
          1,
          1,
          1,
          1,
          1,
          1,
          1,
          1,
          1,
          1,
          1,
          1,
          1,
          1,
          1,
          1,
          1,
          1
         ]
        },
        {
         "colorscale": [
          [
           0,
           "#FF6692"
          ],
          [
           1,
           "#FF6692"
          ]
         ],
         "geo": "geo",
         "hovertemplate": "vaccine=Janssen - Ad26.COV 2-S<br>iso3_list=%{location}<extra></extra>",
         "locationmode": "ISO-3",
         "locations": [
          "AFG",
          "ASM",
          "ATG",
          "ABW",
          "AUS",
          "AUT",
          "BHS",
          "BHR",
          "BGD",
          "BRB",
          "BEL",
          "BLZ",
          "BEN",
          "BOL",
          "BWA",
          "BRA",
          "VGB",
          "BRN",
          "BGR",
          "BFA",
          "KHM",
          "CMR",
          "CAN",
          "COL",
          "CIV",
          "HRV",
          "CYP",
          "CZE",
          "DNK",
          "DJI",
          "EGY",
          "EST",
          "SWZ",
          "ETH",
          "FIN",
          "FRA",
          "PYF",
          "DEU",
          "GRC",
          "GRD",
          "GLP",
          "GUM",
          "GIN",
          "GUY",
          "HTI",
          "HND",
          "HUN",
          "ISL",
          "IND",
          "IDN",
          "IRN",
          "IRQ",
          "IRL",
          "ITA",
          "JAM",
          "JOR",
          "KEN",
          "KWT",
          "LAO",
          "LVA",
          "LBN",
          "LSO",
          "LBY",
          "LIE",
          "LTU",
          "LUX",
          "MDG",
          "MWI",
          "MYS",
          "MDV",
          "MLT",
          "MHL",
          "MEX",
          "FSM",
          "MCO",
          "MAR",
          "MOZ",
          "NAM",
          "NPL",
          "NLD",
          "NCL",
          "NZL",
          "NIC",
          "MNP",
          "NOR",
          "PSE",
          "OMN",
          "PAK",
          "PLW",
          "PNG",
          "PHL",
          "POL",
          "PRT",
          "PRI",
          "QAT",
          "KOR",
          "MDA",
          "ROU",
          "RWA",
          "LCA",
          "SAU",
          "SEN",
          "SVK",
          "SVN",
          "SOM",
          "ZAF",
          "SSD",
          "ESP",
          "SDN",
          "CHE",
          "SYR",
          "THA",
          "TTO",
          "TUN",
          "UGA",
          "UKR",
          "ARE",
          "TZA",
          "USA",
          "VUT",
          "YEM",
          "ZMB"
         ],
         "name": "Janssen - Ad26.COV 2-S",
         "showlegend": true,
         "showscale": false,
         "type": "choropleth",
         "z": [
          1,
          1,
          1,
          1,
          1,
          1,
          1,
          1,
          1,
          1,
          1,
          1,
          1,
          1,
          1,
          1,
          1,
          1,
          1,
          1,
          1,
          1,
          1,
          1,
          1,
          1,
          1,
          1,
          1,
          1,
          1,
          1,
          1,
          1,
          1,
          1,
          1,
          1,
          1,
          1,
          1,
          1,
          1,
          1,
          1,
          1,
          1,
          1,
          1,
          1,
          1,
          1,
          1,
          1,
          1,
          1,
          1,
          1,
          1,
          1,
          1,
          1,
          1,
          1,
          1,
          1,
          1,
          1,
          1,
          1,
          1,
          1,
          1,
          1,
          1,
          1,
          1,
          1,
          1,
          1,
          1,
          1,
          1,
          1,
          1,
          1,
          1,
          1,
          1,
          1,
          1,
          1,
          1,
          1,
          1,
          1,
          1,
          1,
          1,
          1,
          1,
          1,
          1,
          1,
          1,
          1,
          1,
          1,
          1,
          1,
          1,
          1,
          1,
          1,
          1,
          1,
          1,
          1,
          1,
          1,
          1,
          1
         ]
        },
        {
         "colorscale": [
          [
           0,
           "#B6E880"
          ],
          [
           1,
           "#B6E880"
          ]
         ],
         "geo": "geo",
         "hovertemplate": "vaccine=Moderna - Spikevax<br>iso3_list=%{location}<extra></extra>",
         "locationmode": "ISO-3",
         "locations": [
          "AFG",
          "ASM",
          "AND",
          "ARG",
          "ARM",
          "AUS",
          "AUT",
          "BHR",
          "BGD",
          "BEL",
          "BMU",
          "BTN",
          "BOL",
          "BWA",
          "BRN",
          "BGR",
          "CPV",
          "KHM",
          "CAN",
          "CHL",
          "COL",
          "COG",
          "CRI",
          "HRV",
          "CUW",
          "CYP",
          "CZE",
          "DNK",
          "DJI",
          "DMA",
          "EGY",
          "SLV",
          "EST",
          "FJI",
          "FIN",
          "FRA",
          "GUF",
          "DEU",
          "GRC",
          "GRD",
          "GLP",
          "GUM",
          "GTM",
          "GUY",
          "HTI",
          "HND",
          "HUN",
          "ISL",
          "IND",
          "IDN",
          "IRN",
          "IRQ",
          "IRL",
          "ISR",
          "ITA",
          "JPN",
          "JOR",
          "KEN",
          "KWT",
          "KGZ",
          "LVA",
          "LBN",
          "LBY",
          "LIE",
          "LTU",
          "LUX",
          "MYS",
          "MDV",
          "MLT",
          "MHL",
          "MEX",
          "FSM",
          "MCO",
          "MNG",
          "MAR",
          "NPL",
          "NLD",
          "MKD",
          "MNP",
          "NOR",
          "PSE",
          "OMN",
          "PAK",
          "PLW",
          "PRY",
          "PER",
          "PHL",
          "POL",
          "PRT",
          "PRI",
          "QAT",
          "KOR",
          "MDA",
          "ROU",
          "RWA",
          "LCA",
          "SAU",
          "SRB",
          "SGP",
          "SXM",
          "SVK",
          "SVN",
          "SOM",
          "ESP",
          "LKA",
          "SDN",
          "SUR",
          "SWE",
          "CHE",
          "SYR",
          "TJK",
          "THA",
          "GBR",
          "TUN",
          "UGA",
          "UKR",
          "ARE",
          "USA",
          "UZB",
          "VNM",
          "WLF",
          "YEM"
         ],
         "name": "Moderna - Spikevax",
         "showlegend": true,
         "showscale": false,
         "type": "choropleth",
         "z": [
          1,
          1,
          1,
          1,
          1,
          1,
          1,
          1,
          1,
          1,
          1,
          1,
          1,
          1,
          1,
          1,
          1,
          1,
          1,
          1,
          1,
          1,
          1,
          1,
          1,
          1,
          1,
          1,
          1,
          1,
          1,
          1,
          1,
          1,
          1,
          1,
          1,
          1,
          1,
          1,
          1,
          1,
          1,
          1,
          1,
          1,
          1,
          1,
          1,
          1,
          1,
          1,
          1,
          1,
          1,
          1,
          1,
          1,
          1,
          1,
          1,
          1,
          1,
          1,
          1,
          1,
          1,
          1,
          1,
          1,
          1,
          1,
          1,
          1,
          1,
          1,
          1,
          1,
          1,
          1,
          1,
          1,
          1,
          1,
          1,
          1,
          1,
          1,
          1,
          1,
          1,
          1,
          1,
          1,
          1,
          1,
          1,
          1,
          1,
          1,
          1,
          1,
          1,
          1,
          1,
          1,
          1,
          1,
          1,
          1,
          1,
          1,
          1,
          1,
          1,
          1,
          1,
          1,
          1,
          1,
          1,
          1
         ]
        },
        {
         "colorscale": [
          [
           0,
           "#FF97FF"
          ],
          [
           1,
           "#FF97FF"
          ]
         ],
         "geo": "geo",
         "hovertemplate": "vaccine=Pfizer BioNTech - Comirnaty<br>iso3_list=%{location}<extra></extra>",
         "locationmode": "ISO-3",
         "locations": [
          "AFG",
          "ALB",
          "ASM",
          "AND",
          "AIA",
          "ATG",
          "ARG",
          "ARM",
          "ABW",
          "AUS",
          "AUT",
          "AZE",
          "BHS",
          "BHR",
          "BGD",
          "BRB",
          "BEL",
          "BLZ",
          "BEN",
          "BMU",
          "BTN",
          "BOL",
          "BWA",
          "BRA",
          "BRN",
          "BGR",
          "CPV",
          "KHM",
          "CMR",
          "CAN",
          "CYM",
          "CHL",
          "CHN",
          "COL",
          "COK",
          "CRI",
          "CIV",
          "HRV",
          "CUW",
          "CYP",
          "CZE",
          "DNK",
          "DJI",
          "DMA",
          "ECU",
          "EGY",
          "SLV",
          "EST",
          "SWZ",
          "FIN",
          "FRA",
          "GUF",
          "PYF",
          "GAB",
          "GEO",
          "DEU",
          "GRC",
          "GRD",
          "GLP",
          "GUM",
          "GTM",
          "GIN",
          "GUY",
          "HND",
          "HUN",
          "ISL",
          "IDN",
          "IRN",
          "IRQ",
          "IRL",
          "ISR",
          "ITA",
          "JAM",
          "JPN",
          "JOR",
          "KAZ",
          "KEN",
          "XKX",
          "KWT",
          "KGZ",
          "LAO",
          "LVA",
          "LBN",
          "LBY",
          "LIE",
          "LTU",
          "LUX",
          "MYS",
          "MDV",
          "MLT",
          "MHL",
          "MTQ",
          "MEX",
          "FSM",
          "MCO",
          "MNG",
          "MNE",
          "MAR",
          "NAM",
          "NPL",
          "NLD",
          "NCL",
          "NZL",
          "NIC",
          "NIU",
          "MKD",
          "MNP",
          "NOR",
          "PSE",
          "OMN",
          "PAK",
          "PLW",
          "PAN",
          "PRY",
          "PER",
          "PHL",
          "POL",
          "PRT",
          "PRI",
          "QAT",
          "KOR",
          "MDA",
          "ROU",
          "RWA",
          "KNA",
          "LCA",
          "VCT",
          "WSM",
          "SMR",
          "SAU",
          "SRB",
          "SGP",
          "SXM",
          "SVK",
          "SVN",
          "SLB",
          "SOM",
          "ZAF",
          "ESP",
          "LKA",
          "SDN",
          "SUR",
          "SWE",
          "CHE",
          "SYR",
          "TJK",
          "THA",
          "GBR",
          "TLS",
          "TKL",
          "TON",
          "TTO",
          "TUN",
          "TUR",
          "TCA",
          "UGA",
          "UKR",
          "ARE",
          "TZA",
          "USA",
          "URY",
          "UZB",
          "VNM",
          "YEM"
         ],
         "name": "Pfizer BioNTech - Comirnaty",
         "showlegend": true,
         "showscale": false,
         "type": "choropleth",
         "z": [
          1,
          1,
          1,
          1,
          1,
          1,
          1,
          1,
          1,
          1,
          1,
          1,
          1,
          1,
          1,
          1,
          1,
          1,
          1,
          1,
          1,
          1,
          1,
          1,
          1,
          1,
          1,
          1,
          1,
          1,
          1,
          1,
          1,
          1,
          1,
          1,
          1,
          1,
          1,
          1,
          1,
          1,
          1,
          1,
          1,
          1,
          1,
          1,
          1,
          1,
          1,
          1,
          1,
          1,
          1,
          1,
          1,
          1,
          1,
          1,
          1,
          1,
          1,
          1,
          1,
          1,
          1,
          1,
          1,
          1,
          1,
          1,
          1,
          1,
          1,
          1,
          1,
          1,
          1,
          1,
          1,
          1,
          1,
          1,
          1,
          1,
          1,
          1,
          1,
          1,
          1,
          1,
          1,
          1,
          1,
          1,
          1,
          1,
          1,
          1,
          1,
          1,
          1,
          1,
          1,
          1,
          1,
          1,
          1,
          1,
          1,
          1,
          1,
          1,
          1,
          1,
          1,
          1,
          1,
          1,
          1,
          1,
          1,
          1,
          1,
          1,
          1,
          1,
          1,
          1,
          1,
          1,
          1,
          1,
          1,
          1,
          1,
          1,
          1,
          1,
          1,
          1,
          1,
          1,
          1,
          1,
          1,
          1,
          1,
          1,
          1,
          1,
          1,
          1,
          1,
          1,
          1,
          1,
          1,
          1,
          1,
          1,
          1,
          1
         ]
        },
        {
         "colorscale": [
          [
           0,
           "#FECB52"
          ],
          [
           1,
           "#FECB52"
          ]
         ],
         "geo": "geo",
         "hovertemplate": "vaccine=SII - Covishield<br>iso3_list=%{location}<extra></extra>",
         "locationmode": "ISO-3",
         "locations": [
          "AFG",
          "ALB",
          "DZA",
          "AGO",
          "ATG",
          "ARG",
          "BHS",
          "BHR",
          "BGD",
          "BRB",
          "BLZ",
          "BEN",
          "BTN",
          "BOL",
          "BWA",
          "BRA",
          "BFA",
          "CPV",
          "KHM",
          "CMR",
          "CAN",
          "CAF",
          "COM",
          "COG",
          "CIV",
          "COD",
          "DJI",
          "DMA",
          "DOM",
          "SLV",
          "SWZ",
          "ETH",
          "FJI",
          "GMB",
          "GHA",
          "GRD",
          "GTM",
          "GIN",
          "GNB",
          "GUY",
          "HND",
          "IND",
          "JAM",
          "KEN",
          "LAO",
          "LSO",
          "LBR",
          "MDG",
          "MWI",
          "MDV",
          "MLI",
          "MRT",
          "MUS",
          "MNG",
          "MOZ",
          "MMR",
          "NAM",
          "NRU",
          "NPL",
          "NIC",
          "NER",
          "NGA",
          "OMN",
          "PAK",
          "PNG",
          "RWA",
          "KNA",
          "LCA",
          "VCT",
          "STP",
          "SEN",
          "SYC",
          "SLE",
          "SLB",
          "SOM",
          "SSD",
          "LKA",
          "SDN",
          "SUR",
          "SYR",
          "TJK",
          "THA",
          "TLS",
          "TGO",
          "TTO",
          "UGA",
          "UKR",
          "ARE",
          "UZB",
          "YEM",
          "ZMB"
         ],
         "name": "SII - Covishield",
         "showlegend": true,
         "showscale": false,
         "type": "choropleth",
         "z": [
          1,
          1,
          1,
          1,
          1,
          1,
          1,
          1,
          1,
          1,
          1,
          1,
          1,
          1,
          1,
          1,
          1,
          1,
          1,
          1,
          1,
          1,
          1,
          1,
          1,
          1,
          1,
          1,
          1,
          1,
          1,
          1,
          1,
          1,
          1,
          1,
          1,
          1,
          1,
          1,
          1,
          1,
          1,
          1,
          1,
          1,
          1,
          1,
          1,
          1,
          1,
          1,
          1,
          1,
          1,
          1,
          1,
          1,
          1,
          1,
          1,
          1,
          1,
          1,
          1,
          1,
          1,
          1,
          1,
          1,
          1,
          1,
          1,
          1,
          1,
          1,
          1,
          1,
          1,
          1,
          1,
          1,
          1,
          1,
          1,
          1,
          1,
          1,
          1,
          1,
          1
         ]
        },
        {
         "colorscale": [
          [
           0,
           "#636efa"
          ],
          [
           1,
           "#636efa"
          ]
         ],
         "geo": "geo",
         "hovertemplate": "vaccine=Sinovac - CoronaVac<br>iso3_list=%{location}<extra></extra>",
         "locationmode": "ISO-3",
         "locations": [
          "AFG",
          "ALB",
          "DZA",
          "ARM",
          "AZE",
          "BHR",
          "BGD",
          "BEN",
          "BWA",
          "BRA",
          "KHM",
          "CHL",
          "CHN",
          "COL",
          "DJI",
          "DOM",
          "ECU",
          "EGY",
          "SLV",
          "GNQ",
          "GEO",
          "GIN",
          "HUN",
          "IDN",
          "IRN",
          "IRQ",
          "JOR",
          "KAZ",
          "KWT",
          "LAO",
          "LBN",
          "LBY",
          "MYS",
          "MDV",
          "MEX",
          "MAR",
          "MKD",
          "PSE",
          "OMN",
          "PAK",
          "PRY",
          "PHL",
          "PRT",
          "QAT",
          "MDA",
          "RWA",
          "SAU",
          "SOM",
          "SDN",
          "SYR",
          "TJK",
          "THA",
          "TLS",
          "TUN",
          "UGA",
          "UKR",
          "ARE",
          "URY",
          "UZB",
          "VEN",
          "YEM",
          "ZWE"
         ],
         "name": "Sinovac - CoronaVac",
         "showlegend": true,
         "showscale": false,
         "type": "choropleth",
         "z": [
          1,
          1,
          1,
          1,
          1,
          1,
          1,
          1,
          1,
          1,
          1,
          1,
          1,
          1,
          1,
          1,
          1,
          1,
          1,
          1,
          1,
          1,
          1,
          1,
          1,
          1,
          1,
          1,
          1,
          1,
          1,
          1,
          1,
          1,
          1,
          1,
          1,
          1,
          1,
          1,
          1,
          1,
          1,
          1,
          1,
          1,
          1,
          1,
          1,
          1,
          1,
          1,
          1,
          1,
          1,
          1,
          1,
          1,
          1,
          1,
          1,
          1
         ]
        },
        {
         "colorscale": [
          [
           0,
           "#EF553B"
          ],
          [
           1,
           "#EF553B"
          ]
         ],
         "geo": "geo",
         "hovertemplate": "vaccine=Wuhan CNBG - Inactivated<br>iso3_list=%{location}<extra></extra>",
         "locationmode": "ISO-3",
         "locations": [
          "ARM",
          "CHN",
          "MKD"
         ],
         "name": "Wuhan CNBG - Inactivated",
         "showlegend": true,
         "showscale": false,
         "type": "choropleth",
         "z": [
          1,
          1,
          1
         ]
        },
        {
         "colorscale": [
          [
           0,
           "#00cc96"
          ],
          [
           1,
           "#00cc96"
          ]
         ],
         "geo": "geo",
         "hovertemplate": "vaccine=Novavax-NUVAXOVID<br>iso3_list=%{location}<extra></extra>",
         "locationmode": "ISO-3",
         "locations": [
          "AUS",
          "AUT",
          "HRV",
          "CYP",
          "CZE",
          "EST",
          "FRA",
          "DEU",
          "GRC",
          "GLP",
          "ISL",
          "IDN",
          "IRL",
          "ITA",
          "JPN",
          "LVA",
          "LUX",
          "MCO",
          "NLD",
          "NZL",
          "PHL",
          "POL",
          "PRT",
          "PRI",
          "KOR",
          "SVK",
          "SVN",
          "SWE",
          "CHE",
          "USA"
         ],
         "name": "Novavax-NUVAXOVID",
         "showlegend": true,
         "showscale": false,
         "type": "choropleth",
         "z": [
          1,
          1,
          1,
          1,
          1,
          1,
          1,
          1,
          1,
          1,
          1,
          1,
          1,
          1,
          1,
          1,
          1,
          1,
          1,
          1,
          1,
          1,
          1,
          1,
          1,
          1,
          1,
          1,
          1,
          1
         ]
        },
        {
         "colorscale": [
          [
           0,
           "#ab63fa"
          ],
          [
           1,
           "#ab63fa"
          ]
         ],
         "geo": "geo",
         "hovertemplate": "vaccine=Moderna â€“ Spikevax Bivalent Original/Omicron BA.1<br>iso3_list=%{location}<extra></extra>",
         "locationmode": "ISO-3",
         "locations": [
          "AUT",
          "EST",
          "ITA",
          "LUX",
          "PRT",
          "CHE"
         ],
         "name": "Moderna â€“ Spikevax Bivalent Original/Omicron BA.1",
         "showlegend": true,
         "showscale": false,
         "type": "choropleth",
         "z": [
          1,
          1,
          1,
          1,
          1,
          1
         ]
        },
        {
         "colorscale": [
          [
           0,
           "#FFA15A"
          ],
          [
           1,
           "#FFA15A"
          ]
         ],
         "geo": "geo",
         "hovertemplate": "vaccine=Pfizer BioNTech - Comirnaty Bivalent Original/Omicron BA.1<br>iso3_list=%{location}<extra></extra>",
         "locationmode": "ISO-3",
         "locations": [
          "AUT",
          "CZE",
          "EST",
          "GRC",
          "HUN",
          "ITA",
          "LUX",
          "PRT",
          "CHE"
         ],
         "name": "Pfizer BioNTech - Comirnaty Bivalent Original/Omicron BA.1",
         "showlegend": true,
         "showscale": false,
         "type": "choropleth",
         "z": [
          1,
          1,
          1,
          1,
          1,
          1,
          1,
          1,
          1
         ]
        },
        {
         "colorscale": [
          [
           0,
           "#19d3f3"
          ],
          [
           1,
           "#19d3f3"
          ]
         ],
         "geo": "geo",
         "hovertemplate": "vaccine=Pfizer BioNTech - Comirnaty Bivalent Original/Omicron BA.4/BA.5<br>iso3_list=%{location}<extra></extra>",
         "locationmode": "ISO-3",
         "locations": [
          "AUT",
          "CZE",
          "EST",
          "GRC",
          "ITA",
          "LUX",
          "PRT"
         ],
         "name": "Pfizer BioNTech - Comirnaty Bivalent Original/Omicron BA.4/BA.5",
         "showlegend": true,
         "showscale": false,
         "type": "choropleth",
         "z": [
          1,
          1,
          1,
          1,
          1,
          1,
          1
         ]
        },
        {
         "colorscale": [
          [
           0,
           "#FF6692"
          ],
          [
           1,
           "#FF6692"
          ]
         ],
         "geo": "geo",
         "hovertemplate": "vaccine=Unknown Vaccine<br>iso3_list=%{location}<extra></extra>",
         "locationmode": "ISO-3",
         "locations": [
          "AUT",
          "HRV",
          "DNK",
          "FIN",
          "FRA",
          "DEU",
          "LTU",
          "MCO",
          "MNE",
          "NLD",
          "SVK",
          "SVN",
          "SWE",
          "TKM",
          "UZB"
         ],
         "name": "Unknown Vaccine",
         "showlegend": true,
         "showscale": false,
         "type": "choropleth",
         "z": [
          1,
          1,
          1,
          1,
          1,
          1,
          1,
          1,
          1,
          1,
          1,
          1,
          1,
          1,
          1
         ]
        },
        {
         "colorscale": [
          [
           0,
           "#B6E880"
          ],
          [
           1,
           "#B6E880"
          ]
         ],
         "geo": "geo",
         "hovertemplate": "vaccine=Valneva - VLA2001<br>iso3_list=%{location}<extra></extra>",
         "locationmode": "ISO-3",
         "locations": [
          "AUT",
          "DEU"
         ],
         "name": "Valneva - VLA2001",
         "showlegend": true,
         "showscale": false,
         "type": "choropleth",
         "z": [
          1,
          1
         ]
        },
        {
         "colorscale": [
          [
           0,
           "#FF97FF"
          ],
          [
           1,
           "#FF97FF"
          ]
         ],
         "geo": "geo",
         "hovertemplate": "vaccine=Chumakov - Covi-Vac<br>iso3_list=%{location}<extra></extra>",
         "locationmode": "ISO-3",
         "locations": [
          "BLR"
         ],
         "name": "Chumakov - Covi-Vac",
         "showlegend": true,
         "showscale": false,
         "type": "choropleth",
         "z": [
          1
         ]
        },
        {
         "colorscale": [
          [
           0,
           "#FECB52"
          ],
          [
           1,
           "#FECB52"
          ]
         ],
         "geo": "geo",
         "hovertemplate": "vaccine=Moderna<br>iso3_list=%{location}<extra></extra>",
         "locationmode": "ISO-3",
         "locations": [
          "XAA"
         ],
         "name": "Moderna",
         "showlegend": true,
         "showscale": false,
         "type": "choropleth",
         "z": [
          1
         ]
        },
        {
         "colorscale": [
          [
           0,
           "#636efa"
          ],
          [
           1,
           "#636efa"
          ]
         ],
         "geo": "geo",
         "hovertemplate": "vaccine= Pfizer/BioNTech<br>iso3_list=%{location}<extra></extra>",
         "locationmode": "ISO-3",
         "locations": [
          "XAA"
         ],
         "name": " Pfizer/BioNTech",
         "showlegend": true,
         "showscale": false,
         "type": "choropleth",
         "z": [
          1
         ]
        },
        {
         "colorscale": [
          [
           0,
           "#EF553B"
          ],
          [
           1,
           "#EF553B"
          ]
         ],
         "geo": "geo",
         "hovertemplate": "vaccine=Moderna - mRNA-1273<br>iso3_list=%{location}<extra></extra>",
         "locationmode": "ISO-3",
         "locations": [
          "BES",
          "FRO",
          "GRL",
          "GGY",
          "IMN",
          "JEY"
         ],
         "name": "Moderna - mRNA-1273",
         "showlegend": true,
         "showscale": false,
         "type": "choropleth",
         "z": [
          1,
          1,
          1,
          1,
          1,
          1
         ]
        },
        {
         "colorscale": [
          [
           0,
           "#00cc96"
          ],
          [
           1,
           "#00cc96"
          ]
         ],
         "geo": "geo",
         "hovertemplate": "vaccine= Pfizer BioNTech - Comirnaty<br>iso3_list=%{location}<extra></extra>",
         "locationmode": "ISO-3",
         "locations": [
          "BES",
          "BIH",
          "FRO",
          "GIB",
          "GGY",
          "IMN",
          "JEY"
         ],
         "name": " Pfizer BioNTech - Comirnaty",
         "showlegend": true,
         "showscale": false,
         "type": "choropleth",
         "z": [
          1,
          1,
          1,
          1,
          1,
          1,
          1
         ]
        },
        {
         "colorscale": [
          [
           0,
           "#ab63fa"
          ],
          [
           1,
           "#ab63fa"
          ]
         ],
         "geo": "geo",
         "hovertemplate": "vaccine=AstraZeneca - AZD1222<br>iso3_list=%{location}<extra></extra>",
         "locationmode": "ISO-3",
         "locations": [
          "BIH",
          "FLK",
          "GIB",
          "SHN"
         ],
         "name": "AstraZeneca - AZD1222",
         "showlegend": true,
         "showscale": false,
         "type": "choropleth",
         "z": [
          1,
          1,
          1,
          1
         ]
        },
        {
         "colorscale": [
          [
           0,
           "#FFA15A"
          ],
          [
           1,
           "#FFA15A"
          ]
         ],
         "geo": "geo",
         "hovertemplate": "vaccine= Sinovac - CoronaVac<br>iso3_list=%{location}<extra></extra>",
         "locationmode": "ISO-3",
         "locations": [
          "BIH",
          "TUR"
         ],
         "name": " Sinovac - CoronaVac",
         "showlegend": true,
         "showscale": false,
         "type": "choropleth",
         "z": [
          1,
          1
         ]
        },
        {
         "colorscale": [
          [
           0,
           "#19d3f3"
          ],
          [
           1,
           "#19d3f3"
          ]
         ],
         "geo": "geo",
         "hovertemplate": "vaccine= Gamaleya - Sputnik V<br>iso3_list=%{location}<extra></extra>",
         "locationmode": "ISO-3",
         "locations": [
          "BIH",
          "RUS"
         ],
         "name": " Gamaleya - Sputnik V",
         "showlegend": true,
         "showscale": false,
         "type": "choropleth",
         "z": [
          1,
          1
         ]
        },
        {
         "colorscale": [
          [
           0,
           "#FF6692"
          ],
          [
           1,
           "#FF6692"
          ]
         ],
         "geo": "geo",
         "hovertemplate": "vaccine=Anhui ZL - Zifivax<br>iso3_list=%{location}<extra></extra>",
         "locationmode": "ISO-3",
         "locations": [
          "CHN",
          "TKM",
          "UZB"
         ],
         "name": "Anhui ZL - Zifivax",
         "showlegend": true,
         "showscale": false,
         "type": "choropleth",
         "z": [
          1,
          1,
          1
         ]
        },
        {
         "colorscale": [
          [
           0,
           "#B6E880"
          ],
          [
           1,
           "#B6E880"
          ]
         ],
         "geo": "geo",
         "hovertemplate": "vaccine=IMB - Covidful<br>iso3_list=%{location}<extra></extra>",
         "locationmode": "ISO-3",
         "locations": [
          "CHN"
         ],
         "name": "IMB - Covidful",
         "showlegend": true,
         "showscale": false,
         "type": "choropleth",
         "z": [
          1
         ]
        },
        {
         "colorscale": [
          [
           0,
           "#FF97FF"
          ],
          [
           1,
           "#FF97FF"
          ]
         ],
         "geo": "geo",
         "hovertemplate": "vaccine=Shenzhen - LV-SMENP-DC<br>iso3_list=%{location}<extra></extra>",
         "locationmode": "ISO-3",
         "locations": [
          "CHN"
         ],
         "name": "Shenzhen - LV-SMENP-DC",
         "showlegend": true,
         "showscale": false,
         "type": "choropleth",
         "z": [
          1
         ]
        },
        {
         "colorscale": [
          [
           0,
           "#FECB52"
          ],
          [
           1,
           "#FECB52"
          ]
         ],
         "geo": "geo",
         "hovertemplate": "vaccine=CIGB - CIGB-66<br>iso3_list=%{location}<extra></extra>",
         "locationmode": "ISO-3",
         "locations": [
          "CUB",
          "NIC",
          "VEN",
          "VNM"
         ],
         "name": "CIGB - CIGB-66",
         "showlegend": true,
         "showscale": false,
         "type": "choropleth",
         "z": [
          1,
          1,
          1,
          1
         ]
        },
        {
         "colorscale": [
          [
           0,
           "#636efa"
          ],
          [
           1,
           "#636efa"
          ]
         ],
         "geo": "geo",
         "hovertemplate": "vaccine=Finlay - Soberana Plus<br>iso3_list=%{location}<extra></extra>",
         "locationmode": "ISO-3",
         "locations": [
          "CUB",
          "NIC"
         ],
         "name": "Finlay - Soberana Plus",
         "showlegend": true,
         "showscale": false,
         "type": "choropleth",
         "z": [
          1,
          1
         ]
        },
        {
         "colorscale": [
          [
           0,
           "#EF553B"
          ],
          [
           1,
           "#EF553B"
          ]
         ],
         "geo": "geo",
         "hovertemplate": "vaccine=Finlay - Soberana-02<br>iso3_list=%{location}<extra></extra>",
         "locationmode": "ISO-3",
         "locations": [
          "CUB",
          "IRN",
          "NIC",
          "VEN"
         ],
         "name": "Finlay - Soberana-02",
         "showlegend": true,
         "showscale": false,
         "type": "choropleth",
         "z": [
          1,
          1,
          1,
          1
         ]
        },
        {
         "colorscale": [
          [
           0,
           "#00cc96"
          ],
          [
           1,
           "#00cc96"
          ]
         ],
         "geo": "geo",
         "hovertemplate": "vaccine=nan<br>iso3_list=%{location}<extra></extra>",
         "locationmode": "ISO-3",
         "locations": [
          "ERI"
         ],
         "name": "nan",
         "showlegend": true,
         "showscale": false,
         "type": "choropleth",
         "z": [
          1
         ]
        },
        {
         "colorscale": [
          [
           0,
           "#ab63fa"
          ],
          [
           1,
           "#ab63fa"
          ]
         ],
         "geo": "geo",
         "hovertemplate": "vaccine=Moderna â€“ Spikevax Bivalent Original/Omicron  - Generic<br>iso3_list=%{location}<extra></extra>",
         "locationmode": "ISO-3",
         "locations": [
          "DEU"
         ],
         "name": "Moderna â€“ Spikevax Bivalent Original/Omicron  - Generic",
         "showlegend": true,
         "showscale": false,
         "type": "choropleth",
         "z": [
          1
         ]
        },
        {
         "colorscale": [
          [
           0,
           "#FFA15A"
          ],
          [
           1,
           "#FFA15A"
          ]
         ],
         "geo": "geo",
         "hovertemplate": "vaccine=Pfizer BioNTech - Comirnaty Bivalent Original/Omicron - Generic<br>iso3_list=%{location}<extra></extra>",
         "locationmode": "ISO-3",
         "locations": [
          "DEU"
         ],
         "name": "Pfizer BioNTech - Comirnaty Bivalent Original/Omicron - Generic",
         "showlegend": true,
         "showscale": false,
         "type": "choropleth",
         "z": [
          1
         ]
        },
        {
         "colorscale": [
          [
           0,
           "#19d3f3"
          ],
          [
           1,
           "#19d3f3"
          ]
         ],
         "geo": "geo",
         "hovertemplate": "vaccine= AstraZeneca - AZD1222<br>iso3_list=%{location}<extra></extra>",
         "locationmode": "ISO-3",
         "locations": [
          "GGY",
          "IMN",
          "JEY"
         ],
         "name": " AstraZeneca - AZD1222",
         "showlegend": true,
         "showscale": false,
         "type": "choropleth",
         "z": [
          1,
          1,
          1
         ]
        },
        {
         "colorscale": [
          [
           0,
           "#FF6692"
          ],
          [
           1,
           "#FF6692"
          ]
         ],
         "geo": "geo",
         "hovertemplate": "vaccine=Biological E - Corbevax<br>iso3_list=%{location}<extra></extra>",
         "locationmode": "ISO-3",
         "locations": [
          "IND"
         ],
         "name": "Biological E - Corbevax",
         "showlegend": true,
         "showscale": false,
         "type": "choropleth",
         "z": [
          1
         ]
        },
        {
         "colorscale": [
          [
           0,
           "#B6E880"
          ],
          [
           1,
           "#B6E880"
          ]
         ],
         "geo": "geo",
         "hovertemplate": "vaccine=SII - Covovax<br>iso3_list=%{location}<extra></extra>",
         "locationmode": "ISO-3",
         "locations": [
          "IND",
          "THA"
         ],
         "name": "SII - Covovax",
         "showlegend": true,
         "showscale": false,
         "type": "choropleth",
         "z": [
          1,
          1
         ]
        },
        {
         "colorscale": [
          [
           0,
           "#FF97FF"
          ],
          [
           1,
           "#FF97FF"
          ]
         ],
         "geo": "geo",
         "hovertemplate": "vaccine=Zydus - ZyCov-D<br>iso3_list=%{location}<extra></extra>",
         "locationmode": "ISO-3",
         "locations": [
          "IND"
         ],
         "name": "Zydus - ZyCov-D",
         "showlegend": true,
         "showscale": false,
         "type": "choropleth",
         "z": [
          1
         ]
        },
        {
         "colorscale": [
          [
           0,
           "#FECB52"
          ],
          [
           1,
           "#FECB52"
          ]
         ],
         "geo": "geo",
         "hovertemplate": "vaccine=Shifa - COVIran Barakat<br>iso3_list=%{location}<extra></extra>",
         "locationmode": "ISO-3",
         "locations": [
          "IRN"
         ],
         "name": "Shifa - COVIran Barakat",
         "showlegend": true,
         "showscale": false,
         "type": "choropleth",
         "z": [
          1
         ]
        },
        {
         "colorscale": [
          [
           0,
           "#636efa"
          ],
          [
           1,
           "#636efa"
          ]
         ],
         "geo": "geo",
         "hovertemplate": "vaccine=RIBSP - QazVac<br>iso3_list=%{location}<extra></extra>",
         "locationmode": "ISO-3",
         "locations": [
          "KAZ",
          "KGZ",
          "TKM"
         ],
         "name": "RIBSP - QazVac",
         "showlegend": true,
         "showscale": false,
         "type": "choropleth",
         "z": [
          1,
          1,
          1
         ]
        },
        {
         "colorscale": [
          [
           0,
           "#EF553B"
          ],
          [
           1,
           "#EF553B"
          ]
         ],
         "geo": "geo",
         "hovertemplate": "vaccine=Novavax - Covavax<br>iso3_list=%{location}<extra></extra>",
         "locationmode": "ISO-3",
         "locations": [
          "MCO"
         ],
         "name": "Novavax - Covavax",
         "showlegend": true,
         "showscale": false,
         "type": "choropleth",
         "z": [
          1
         ]
        },
        {
         "colorscale": [
          [
           0,
           "#00cc96"
          ],
          [
           1,
           "#00cc96"
          ]
         ],
         "geo": "geo",
         "hovertemplate": "vaccine=Julphar - Hayat-Vax<br>iso3_list=%{location}<extra></extra>",
         "locationmode": "ISO-3",
         "locations": [
          "PRY",
          "PHL",
          "SYC"
         ],
         "name": "Julphar - Hayat-Vax",
         "showlegend": true,
         "showscale": false,
         "type": "choropleth",
         "z": [
          1,
          1,
          1
         ]
        },
        {
         "colorscale": [
          [
           0,
           "#ab63fa"
          ],
          [
           1,
           "#ab63fa"
          ]
         ],
         "geo": "geo",
         "hovertemplate": "vaccine=SRCVB - EpiVacCorona<br>iso3_list=%{location}<extra></extra>",
         "locationmode": "ISO-3",
         "locations": [
          "RUS",
          "TKM"
         ],
         "name": "SRCVB - EpiVacCorona",
         "showlegend": true,
         "showscale": false,
         "type": "choropleth",
         "z": [
          1,
          1
         ]
        },
        {
         "colorscale": [
          [
           0,
           "#FFA15A"
          ],
          [
           1,
           "#FFA15A"
          ]
         ],
         "geo": "geo",
         "hovertemplate": "vaccine= Turkovac<br>iso3_list=%{location}<extra></extra>",
         "locationmode": "ISO-3",
         "locations": [
          "TUR"
         ],
         "name": " Turkovac",
         "showlegend": true,
         "showscale": false,
         "type": "choropleth",
         "z": [
          1
         ]
        }
       ],
       "layout": {
        "geo": {
         "center": {},
         "domain": {
          "x": [
           0,
           1
          ],
          "y": [
           0,
           1
          ]
         },
         "projection": {
          "type": "natural earth"
         }
        },
        "height": 1000,
        "legend": {
         "title": {
          "text": "vaccine"
         },
         "tracegroupgap": 0
        },
        "template": {
         "data": {
          "bar": [
           {
            "error_x": {
             "color": "#2a3f5f"
            },
            "error_y": {
             "color": "#2a3f5f"
            },
            "marker": {
             "line": {
              "color": "#E5ECF6",
              "width": 0.5
             },
             "pattern": {
              "fillmode": "overlay",
              "size": 10,
              "solidity": 0.2
             }
            },
            "type": "bar"
           }
          ],
          "barpolar": [
           {
            "marker": {
             "line": {
              "color": "#E5ECF6",
              "width": 0.5
             },
             "pattern": {
              "fillmode": "overlay",
              "size": 10,
              "solidity": 0.2
             }
            },
            "type": "barpolar"
           }
          ],
          "carpet": [
           {
            "aaxis": {
             "endlinecolor": "#2a3f5f",
             "gridcolor": "white",
             "linecolor": "white",
             "minorgridcolor": "white",
             "startlinecolor": "#2a3f5f"
            },
            "baxis": {
             "endlinecolor": "#2a3f5f",
             "gridcolor": "white",
             "linecolor": "white",
             "minorgridcolor": "white",
             "startlinecolor": "#2a3f5f"
            },
            "type": "carpet"
           }
          ],
          "choropleth": [
           {
            "colorbar": {
             "outlinewidth": 0,
             "ticks": ""
            },
            "type": "choropleth"
           }
          ],
          "contour": [
           {
            "colorbar": {
             "outlinewidth": 0,
             "ticks": ""
            },
            "colorscale": [
             [
              0,
              "#0d0887"
             ],
             [
              0.1111111111111111,
              "#46039f"
             ],
             [
              0.2222222222222222,
              "#7201a8"
             ],
             [
              0.3333333333333333,
              "#9c179e"
             ],
             [
              0.4444444444444444,
              "#bd3786"
             ],
             [
              0.5555555555555556,
              "#d8576b"
             ],
             [
              0.6666666666666666,
              "#ed7953"
             ],
             [
              0.7777777777777778,
              "#fb9f3a"
             ],
             [
              0.8888888888888888,
              "#fdca26"
             ],
             [
              1,
              "#f0f921"
             ]
            ],
            "type": "contour"
           }
          ],
          "contourcarpet": [
           {
            "colorbar": {
             "outlinewidth": 0,
             "ticks": ""
            },
            "type": "contourcarpet"
           }
          ],
          "heatmap": [
           {
            "colorbar": {
             "outlinewidth": 0,
             "ticks": ""
            },
            "colorscale": [
             [
              0,
              "#0d0887"
             ],
             [
              0.1111111111111111,
              "#46039f"
             ],
             [
              0.2222222222222222,
              "#7201a8"
             ],
             [
              0.3333333333333333,
              "#9c179e"
             ],
             [
              0.4444444444444444,
              "#bd3786"
             ],
             [
              0.5555555555555556,
              "#d8576b"
             ],
             [
              0.6666666666666666,
              "#ed7953"
             ],
             [
              0.7777777777777778,
              "#fb9f3a"
             ],
             [
              0.8888888888888888,
              "#fdca26"
             ],
             [
              1,
              "#f0f921"
             ]
            ],
            "type": "heatmap"
           }
          ],
          "heatmapgl": [
           {
            "colorbar": {
             "outlinewidth": 0,
             "ticks": ""
            },
            "colorscale": [
             [
              0,
              "#0d0887"
             ],
             [
              0.1111111111111111,
              "#46039f"
             ],
             [
              0.2222222222222222,
              "#7201a8"
             ],
             [
              0.3333333333333333,
              "#9c179e"
             ],
             [
              0.4444444444444444,
              "#bd3786"
             ],
             [
              0.5555555555555556,
              "#d8576b"
             ],
             [
              0.6666666666666666,
              "#ed7953"
             ],
             [
              0.7777777777777778,
              "#fb9f3a"
             ],
             [
              0.8888888888888888,
              "#fdca26"
             ],
             [
              1,
              "#f0f921"
             ]
            ],
            "type": "heatmapgl"
           }
          ],
          "histogram": [
           {
            "marker": {
             "pattern": {
              "fillmode": "overlay",
              "size": 10,
              "solidity": 0.2
             }
            },
            "type": "histogram"
           }
          ],
          "histogram2d": [
           {
            "colorbar": {
             "outlinewidth": 0,
             "ticks": ""
            },
            "colorscale": [
             [
              0,
              "#0d0887"
             ],
             [
              0.1111111111111111,
              "#46039f"
             ],
             [
              0.2222222222222222,
              "#7201a8"
             ],
             [
              0.3333333333333333,
              "#9c179e"
             ],
             [
              0.4444444444444444,
              "#bd3786"
             ],
             [
              0.5555555555555556,
              "#d8576b"
             ],
             [
              0.6666666666666666,
              "#ed7953"
             ],
             [
              0.7777777777777778,
              "#fb9f3a"
             ],
             [
              0.8888888888888888,
              "#fdca26"
             ],
             [
              1,
              "#f0f921"
             ]
            ],
            "type": "histogram2d"
           }
          ],
          "histogram2dcontour": [
           {
            "colorbar": {
             "outlinewidth": 0,
             "ticks": ""
            },
            "colorscale": [
             [
              0,
              "#0d0887"
             ],
             [
              0.1111111111111111,
              "#46039f"
             ],
             [
              0.2222222222222222,
              "#7201a8"
             ],
             [
              0.3333333333333333,
              "#9c179e"
             ],
             [
              0.4444444444444444,
              "#bd3786"
             ],
             [
              0.5555555555555556,
              "#d8576b"
             ],
             [
              0.6666666666666666,
              "#ed7953"
             ],
             [
              0.7777777777777778,
              "#fb9f3a"
             ],
             [
              0.8888888888888888,
              "#fdca26"
             ],
             [
              1,
              "#f0f921"
             ]
            ],
            "type": "histogram2dcontour"
           }
          ],
          "mesh3d": [
           {
            "colorbar": {
             "outlinewidth": 0,
             "ticks": ""
            },
            "type": "mesh3d"
           }
          ],
          "parcoords": [
           {
            "line": {
             "colorbar": {
              "outlinewidth": 0,
              "ticks": ""
             }
            },
            "type": "parcoords"
           }
          ],
          "pie": [
           {
            "automargin": true,
            "type": "pie"
           }
          ],
          "scatter": [
           {
            "fillpattern": {
             "fillmode": "overlay",
             "size": 10,
             "solidity": 0.2
            },
            "type": "scatter"
           }
          ],
          "scatter3d": [
           {
            "line": {
             "colorbar": {
              "outlinewidth": 0,
              "ticks": ""
             }
            },
            "marker": {
             "colorbar": {
              "outlinewidth": 0,
              "ticks": ""
             }
            },
            "type": "scatter3d"
           }
          ],
          "scattercarpet": [
           {
            "marker": {
             "colorbar": {
              "outlinewidth": 0,
              "ticks": ""
             }
            },
            "type": "scattercarpet"
           }
          ],
          "scattergeo": [
           {
            "marker": {
             "colorbar": {
              "outlinewidth": 0,
              "ticks": ""
             }
            },
            "type": "scattergeo"
           }
          ],
          "scattergl": [
           {
            "marker": {
             "colorbar": {
              "outlinewidth": 0,
              "ticks": ""
             }
            },
            "type": "scattergl"
           }
          ],
          "scattermapbox": [
           {
            "marker": {
             "colorbar": {
              "outlinewidth": 0,
              "ticks": ""
             }
            },
            "type": "scattermapbox"
           }
          ],
          "scatterpolar": [
           {
            "marker": {
             "colorbar": {
              "outlinewidth": 0,
              "ticks": ""
             }
            },
            "type": "scatterpolar"
           }
          ],
          "scatterpolargl": [
           {
            "marker": {
             "colorbar": {
              "outlinewidth": 0,
              "ticks": ""
             }
            },
            "type": "scatterpolargl"
           }
          ],
          "scatterternary": [
           {
            "marker": {
             "colorbar": {
              "outlinewidth": 0,
              "ticks": ""
             }
            },
            "type": "scatterternary"
           }
          ],
          "surface": [
           {
            "colorbar": {
             "outlinewidth": 0,
             "ticks": ""
            },
            "colorscale": [
             [
              0,
              "#0d0887"
             ],
             [
              0.1111111111111111,
              "#46039f"
             ],
             [
              0.2222222222222222,
              "#7201a8"
             ],
             [
              0.3333333333333333,
              "#9c179e"
             ],
             [
              0.4444444444444444,
              "#bd3786"
             ],
             [
              0.5555555555555556,
              "#d8576b"
             ],
             [
              0.6666666666666666,
              "#ed7953"
             ],
             [
              0.7777777777777778,
              "#fb9f3a"
             ],
             [
              0.8888888888888888,
              "#fdca26"
             ],
             [
              1,
              "#f0f921"
             ]
            ],
            "type": "surface"
           }
          ],
          "table": [
           {
            "cells": {
             "fill": {
              "color": "#EBF0F8"
             },
             "line": {
              "color": "white"
             }
            },
            "header": {
             "fill": {
              "color": "#C8D4E3"
             },
             "line": {
              "color": "white"
             }
            },
            "type": "table"
           }
          ]
         },
         "layout": {
          "annotationdefaults": {
           "arrowcolor": "#2a3f5f",
           "arrowhead": 0,
           "arrowwidth": 1
          },
          "autotypenumbers": "strict",
          "coloraxis": {
           "colorbar": {
            "outlinewidth": 0,
            "ticks": ""
           }
          },
          "colorscale": {
           "diverging": [
            [
             0,
             "#8e0152"
            ],
            [
             0.1,
             "#c51b7d"
            ],
            [
             0.2,
             "#de77ae"
            ],
            [
             0.3,
             "#f1b6da"
            ],
            [
             0.4,
             "#fde0ef"
            ],
            [
             0.5,
             "#f7f7f7"
            ],
            [
             0.6,
             "#e6f5d0"
            ],
            [
             0.7,
             "#b8e186"
            ],
            [
             0.8,
             "#7fbc41"
            ],
            [
             0.9,
             "#4d9221"
            ],
            [
             1,
             "#276419"
            ]
           ],
           "sequential": [
            [
             0,
             "#0d0887"
            ],
            [
             0.1111111111111111,
             "#46039f"
            ],
            [
             0.2222222222222222,
             "#7201a8"
            ],
            [
             0.3333333333333333,
             "#9c179e"
            ],
            [
             0.4444444444444444,
             "#bd3786"
            ],
            [
             0.5555555555555556,
             "#d8576b"
            ],
            [
             0.6666666666666666,
             "#ed7953"
            ],
            [
             0.7777777777777778,
             "#fb9f3a"
            ],
            [
             0.8888888888888888,
             "#fdca26"
            ],
            [
             1,
             "#f0f921"
            ]
           ],
           "sequentialminus": [
            [
             0,
             "#0d0887"
            ],
            [
             0.1111111111111111,
             "#46039f"
            ],
            [
             0.2222222222222222,
             "#7201a8"
            ],
            [
             0.3333333333333333,
             "#9c179e"
            ],
            [
             0.4444444444444444,
             "#bd3786"
            ],
            [
             0.5555555555555556,
             "#d8576b"
            ],
            [
             0.6666666666666666,
             "#ed7953"
            ],
            [
             0.7777777777777778,
             "#fb9f3a"
            ],
            [
             0.8888888888888888,
             "#fdca26"
            ],
            [
             1,
             "#f0f921"
            ]
           ]
          },
          "colorway": [
           "#636efa",
           "#EF553B",
           "#00cc96",
           "#ab63fa",
           "#FFA15A",
           "#19d3f3",
           "#FF6692",
           "#B6E880",
           "#FF97FF",
           "#FECB52"
          ],
          "font": {
           "color": "#2a3f5f"
          },
          "geo": {
           "bgcolor": "white",
           "lakecolor": "white",
           "landcolor": "#E5ECF6",
           "showlakes": true,
           "showland": true,
           "subunitcolor": "white"
          },
          "hoverlabel": {
           "align": "left"
          },
          "hovermode": "closest",
          "mapbox": {
           "style": "light"
          },
          "paper_bgcolor": "white",
          "plot_bgcolor": "#E5ECF6",
          "polar": {
           "angularaxis": {
            "gridcolor": "white",
            "linecolor": "white",
            "ticks": ""
           },
           "bgcolor": "#E5ECF6",
           "radialaxis": {
            "gridcolor": "white",
            "linecolor": "white",
            "ticks": ""
           }
          },
          "scene": {
           "xaxis": {
            "backgroundcolor": "#E5ECF6",
            "gridcolor": "white",
            "gridwidth": 2,
            "linecolor": "white",
            "showbackground": true,
            "ticks": "",
            "zerolinecolor": "white"
           },
           "yaxis": {
            "backgroundcolor": "#E5ECF6",
            "gridcolor": "white",
            "gridwidth": 2,
            "linecolor": "white",
            "showbackground": true,
            "ticks": "",
            "zerolinecolor": "white"
           },
           "zaxis": {
            "backgroundcolor": "#E5ECF6",
            "gridcolor": "white",
            "gridwidth": 2,
            "linecolor": "white",
            "showbackground": true,
            "ticks": "",
            "zerolinecolor": "white"
           }
          },
          "shapedefaults": {
           "line": {
            "color": "#2a3f5f"
           }
          },
          "ternary": {
           "aaxis": {
            "gridcolor": "white",
            "linecolor": "white",
            "ticks": ""
           },
           "baxis": {
            "gridcolor": "white",
            "linecolor": "white",
            "ticks": ""
           },
           "bgcolor": "#E5ECF6",
           "caxis": {
            "gridcolor": "white",
            "linecolor": "white",
            "ticks": ""
           }
          },
          "title": {
           "x": 0.05
          },
          "xaxis": {
           "automargin": true,
           "gridcolor": "white",
           "linecolor": "white",
           "ticks": "",
           "title": {
            "standoff": 15
           },
           "zerolinecolor": "white",
           "zerolinewidth": 2
          },
          "yaxis": {
           "automargin": true,
           "gridcolor": "white",
           "linecolor": "white",
           "ticks": "",
           "title": {
            "standoff": 15
           },
           "zerolinecolor": "white",
           "zerolinewidth": 2
          }
         }
        },
        "title": {
         "text": "Vaccine usage by country"
        },
        "width": 2000
       }
      }
     },
     "metadata": {},
     "output_type": "display_data"
    }
   ],
   "source": [
    "vaccine_dict = {}\n",
    "\n",
    "for index, row in df.iterrows():\n",
    "    vaccines = str(row['VACCINES_USED']).split(',')\n",
    "    for vaccine in vaccines:\n",
    "        if vaccine in vaccine_dict:\n",
    "            vaccine_dict[vaccine].append(row['ISO3'])\n",
    "        else:\n",
    "            vaccine_dict[vaccine] = [row['ISO3']]\n",
    "\n",
    "data = []\n",
    "for vaccine, iso3_list in vaccine_dict.items():\n",
    "    data.append({\"vaccine\": vaccine, \"iso3_list\": iso3_list})\n",
    "\n",
    "vaccine_df = pd.DataFrame(data)\n",
    "\n",
    "vaccine_df = vaccine_df.explode(\"iso3_list\")\n",
    "\n",
    "fig = px.choropleth(vaccine_df, \n",
    "                    locations=\"iso3_list\", \n",
    "                    locationmode=\"ISO-3\",\n",
    "                    color=\"vaccine\",\n",
    "                    projection=\"natural earth\",\n",
    "                    title=\"Vaccine usage by country\",\n",
    "                    height=1000,\n",
    "                    width=2000,\n",
    "                   )\n",
    "\n",
    "fig.show()\n",
    "\n"
   ]
  },
  {
   "attachments": {},
   "cell_type": "markdown",
   "metadata": {},
   "source": [
    "The chart below shows the rapid increase in vaccinations from "
   ]
  },
  {
   "cell_type": "code",
   "execution_count": 7,
   "metadata": {},
   "outputs": [
    {
     "data": {
      "application/vnd.plotly.v1+json": {
       "config": {
        "plotlyServerURL": "https://plot.ly"
       },
       "data": [
        {
         "alignmentgroup": "True",
         "bingroup": "y",
         "histfunc": "sum",
         "hovertemplate": "COUNTRY=Saint Helena, Ascension and Tristan da Cunha<br>sum of Population Vaccinated=%{x}<br>DATE_UPDATED=%{y}<extra></extra>",
         "legendgroup": "Saint Helena, Ascension and Tristan da Cunha",
         "marker": {
          "color": "rgb(255,237,111)",
          "pattern": {
           "shape": ""
          }
         },
         "name": "Saint Helena, Ascension and Tristan da Cunha",
         "nbinsy": 14,
         "offsetgroup": "Saint Helena, Ascension and Tristan da Cunha",
         "orientation": "h",
         "showlegend": true,
         "type": "histogram",
         "x": [
          4361
         ],
         "xaxis": "x",
         "y": [
          "2021-05-31T00:00:00"
         ],
         "yaxis": "y"
        },
        {
         "alignmentgroup": "True",
         "bingroup": "y",
         "histfunc": "sum",
         "hovertemplate": "COUNTRY=Bonaire, Sint Eustatius and Saba<br>sum of Population Vaccinated=%{x}<br>DATE_UPDATED=%{y}<extra></extra>",
         "legendgroup": "Bonaire, Sint Eustatius and Saba",
         "marker": {
          "color": "rgb(204,235,197)",
          "pattern": {
           "shape": ""
          }
         },
         "name": "Bonaire, Sint Eustatius and Saba",
         "nbinsy": 14,
         "offsetgroup": "Bonaire, Sint Eustatius and Saba",
         "orientation": "h",
         "showlegend": true,
         "type": "histogram",
         "x": [
          19109
         ],
         "xaxis": "x",
         "y": [
          "2021-09-30T00:00:00"
         ],
         "yaxis": "y"
        },
        {
         "alignmentgroup": "True",
         "bingroup": "y",
         "histfunc": "sum",
         "hovertemplate": "COUNTRY=Bosnia and Herzegovina<br>sum of Population Vaccinated=%{x}<br>DATE_UPDATED=%{y}<extra></extra>",
         "legendgroup": "Bosnia and Herzegovina",
         "marker": {
          "color": "rgb(188,128,189)",
          "pattern": {
           "shape": ""
          }
         },
         "name": "Bosnia and Herzegovina",
         "nbinsy": 14,
         "offsetgroup": "Bosnia and Herzegovina",
         "orientation": "h",
         "showlegend": true,
         "type": "histogram",
         "x": [
          943394
         ],
         "xaxis": "x",
         "y": [
          "2022-01-31T00:00:00"
         ],
         "yaxis": "y"
        },
        {
         "alignmentgroup": "True",
         "bingroup": "y",
         "histfunc": "sum",
         "hovertemplate": "COUNTRY=Faroe Islands<br>sum of Population Vaccinated=%{x}<br>DATE_UPDATED=%{y}<extra></extra>",
         "legendgroup": "Faroe Islands",
         "marker": {
          "color": "rgb(217,217,217)",
          "pattern": {
           "shape": ""
          }
         },
         "name": "Faroe Islands",
         "nbinsy": 14,
         "offsetgroup": "Faroe Islands",
         "orientation": "h",
         "showlegend": true,
         "type": "histogram",
         "x": [
          41715
         ],
         "xaxis": "x",
         "y": [
          "2022-02-28T00:00:00"
         ],
         "yaxis": "y"
        },
        {
         "alignmentgroup": "True",
         "bingroup": "y",
         "histfunc": "sum",
         "hovertemplate": "COUNTRY=Pitcairn Islands<br>sum of Population Vaccinated=%{x}<br>DATE_UPDATED=%{y}<extra></extra>",
         "legendgroup": "Pitcairn Islands",
         "marker": {
          "color": "rgb(252,205,229)",
          "pattern": {
           "shape": ""
          }
         },
         "name": "Pitcairn Islands",
         "nbinsy": 14,
         "offsetgroup": "Pitcairn Islands",
         "orientation": "h",
         "showlegend": true,
         "type": "histogram",
         "x": [
          47
         ],
         "xaxis": "x",
         "y": [
          "2022-02-28T00:00:00"
         ],
         "yaxis": "y"
        },
        {
         "alignmentgroup": "True",
         "bingroup": "y",
         "histfunc": "sum",
         "hovertemplate": "COUNTRY=Ukraine<br>sum of Population Vaccinated=%{x}<br>DATE_UPDATED=%{y}<extra></extra>",
         "legendgroup": "Ukraine",
         "marker": {
          "color": "rgb(179,222,105)",
          "pattern": {
           "shape": ""
          }
         },
         "name": "Ukraine",
         "nbinsy": 14,
         "offsetgroup": "Ukraine",
         "orientation": "h",
         "showlegend": true,
         "type": "histogram",
         "x": [
          15774300
         ],
         "xaxis": "x",
         "y": [
          "2022-02-28T00:00:00"
         ],
         "yaxis": "y"
        },
        {
         "alignmentgroup": "True",
         "bingroup": "y",
         "histfunc": "sum",
         "hovertemplate": "COUNTRY=Greenland<br>sum of Population Vaccinated=%{x}<br>DATE_UPDATED=%{y}<extra></extra>",
         "legendgroup": "Greenland",
         "marker": {
          "color": "rgb(253,180,98)",
          "pattern": {
           "shape": ""
          }
         },
         "name": "Greenland",
         "nbinsy": 14,
         "offsetgroup": "Greenland",
         "orientation": "h",
         "showlegend": true,
         "type": "histogram",
         "x": [
          41227
         ],
         "xaxis": "x",
         "y": [
          "2022-03-31T00:00:00"
         ],
         "yaxis": "y"
        },
        {
         "alignmentgroup": "True",
         "bingroup": "y",
         "histfunc": "sum",
         "hovertemplate": "COUNTRY=Liechtenstein<br>sum of Population Vaccinated=%{x}<br>DATE_UPDATED=%{y}<extra></extra>",
         "legendgroup": "Liechtenstein",
         "marker": {
          "color": "rgb(128,177,211)",
          "pattern": {
           "shape": ""
          }
         },
         "name": "Liechtenstein",
         "nbinsy": 14,
         "offsetgroup": "Liechtenstein",
         "orientation": "h",
         "showlegend": true,
         "type": "histogram",
         "x": [
          26765
         ],
         "xaxis": "x",
         "y": [
          "2022-04-30T00:00:00"
         ],
         "yaxis": "y"
        },
        {
         "alignmentgroup": "True",
         "bingroup": "y",
         "histfunc": "sum",
         "hovertemplate": "COUNTRY=Armenia<br>sum of Population Vaccinated=%{x}<br>DATE_UPDATED=%{y}<extra></extra>",
         "legendgroup": "Armenia",
         "marker": {
          "color": "rgb(251,128,114)",
          "pattern": {
           "shape": ""
          }
         },
         "name": "Armenia",
         "nbinsy": 14,
         "offsetgroup": "Armenia",
         "orientation": "h",
         "showlegend": true,
         "type": "histogram",
         "x": [
          1129669
         ],
         "xaxis": "x",
         "y": [
          "2022-05-31T00:00:00"
         ],
         "yaxis": "y"
        },
        {
         "alignmentgroup": "True",
         "bingroup": "y",
         "histfunc": "sum",
         "hovertemplate": "COUNTRY=Cook Islands<br>sum of Population Vaccinated=%{x}<br>DATE_UPDATED=%{y}<extra></extra>",
         "legendgroup": "Cook Islands",
         "marker": {
          "color": "rgb(190,186,218)",
          "pattern": {
           "shape": ""
          }
         },
         "name": "Cook Islands",
         "nbinsy": 14,
         "offsetgroup": "Cook Islands",
         "orientation": "h",
         "showlegend": true,
         "type": "histogram",
         "x": [
          15084
         ],
         "xaxis": "x",
         "y": [
          "2022-05-31T00:00:00"
         ],
         "yaxis": "y"
        },
        {
         "alignmentgroup": "True",
         "bingroup": "y",
         "histfunc": "sum",
         "hovertemplate": "COUNTRY=San Marino<br>sum of Population Vaccinated=%{x}<br>DATE_UPDATED=%{y}<extra></extra>",
         "legendgroup": "San Marino",
         "marker": {
          "color": "rgb(255,255,179)",
          "pattern": {
           "shape": ""
          }
         },
         "name": "San Marino",
         "nbinsy": 14,
         "offsetgroup": "San Marino",
         "orientation": "h",
         "showlegend": true,
         "type": "histogram",
         "x": [
          26357
         ],
         "xaxis": "x",
         "y": [
          "2022-05-31T00:00:00"
         ],
         "yaxis": "y"
        },
        {
         "alignmentgroup": "True",
         "bingroup": "y",
         "histfunc": "sum",
         "hovertemplate": "COUNTRY=Falkland Islands (Malvinas)<br>sum of Population Vaccinated=%{x}<br>DATE_UPDATED=%{y}<extra></extra>",
         "legendgroup": "Falkland Islands (Malvinas)",
         "marker": {
          "color": "rgb(141,211,199)",
          "pattern": {
           "shape": ""
          }
         },
         "name": "Falkland Islands (Malvinas)",
         "nbinsy": 14,
         "offsetgroup": "Falkland Islands (Malvinas)",
         "orientation": "h",
         "showlegend": true,
         "type": "histogram",
         "x": [
          2632
         ],
         "xaxis": "x",
         "y": [
          "2022-06-30T00:00:00"
         ],
         "yaxis": "y"
        },
        {
         "alignmentgroup": "True",
         "bingroup": "y",
         "histfunc": "sum",
         "hovertemplate": "COUNTRY=Isle of Man<br>sum of Population Vaccinated=%{x}<br>DATE_UPDATED=%{y}<extra></extra>",
         "legendgroup": "Isle of Man",
         "marker": {
          "color": "rgb(255,237,111)",
          "pattern": {
           "shape": ""
          }
         },
         "name": "Isle of Man",
         "nbinsy": 14,
         "offsetgroup": "Isle of Man",
         "orientation": "h",
         "showlegend": true,
         "type": "histogram",
         "x": [
          69560
         ],
         "xaxis": "x",
         "y": [
          "2022-06-30T00:00:00"
         ],
         "yaxis": "y"
        },
        {
         "alignmentgroup": "True",
         "bingroup": "y",
         "histfunc": "sum",
         "hovertemplate": "COUNTRY=Israel<br>sum of Population Vaccinated=%{x}<br>DATE_UPDATED=%{y}<extra></extra>",
         "legendgroup": "Israel",
         "marker": {
          "color": "rgb(204,235,197)",
          "pattern": {
           "shape": ""
          }
         },
         "name": "Israel",
         "nbinsy": 14,
         "offsetgroup": "Israel",
         "orientation": "h",
         "showlegend": true,
         "type": "histogram",
         "x": [
          6722139
         ],
         "xaxis": "x",
         "y": [
          "2022-06-30T00:00:00"
         ],
         "yaxis": "y"
        },
        {
         "alignmentgroup": "True",
         "bingroup": "y",
         "histfunc": "sum",
         "hovertemplate": "COUNTRY=Myanmar<br>sum of Population Vaccinated=%{x}<br>DATE_UPDATED=%{y}<extra></extra>",
         "legendgroup": "Myanmar",
         "marker": {
          "color": "rgb(188,128,189)",
          "pattern": {
           "shape": ""
          }
         },
         "name": "Myanmar",
         "nbinsy": 14,
         "offsetgroup": "Myanmar",
         "orientation": "h",
         "showlegend": true,
         "type": "histogram",
         "x": [
          34777314
         ],
         "xaxis": "x",
         "y": [
          "2022-06-30T00:00:00"
         ],
         "yaxis": "y"
        },
        {
         "alignmentgroup": "True",
         "bingroup": "y",
         "histfunc": "sum",
         "hovertemplate": "COUNTRY=Congo<br>sum of Population Vaccinated=%{x}<br>DATE_UPDATED=%{y}<extra></extra>",
         "legendgroup": "Congo",
         "marker": {
          "color": "rgb(217,217,217)",
          "pattern": {
           "shape": ""
          }
         },
         "name": "Congo",
         "nbinsy": 14,
         "offsetgroup": "Congo",
         "orientation": "h",
         "showlegend": true,
         "type": "histogram",
         "x": [
          695760
         ],
         "xaxis": "x",
         "y": [
          "2022-07-31T00:00:00"
         ],
         "yaxis": "y"
        },
        {
         "alignmentgroup": "True",
         "bingroup": "y",
         "histfunc": "sum",
         "hovertemplate": "COUNTRY=Equatorial Guinea<br>sum of Population Vaccinated=%{x}<br>DATE_UPDATED=%{y}<extra></extra>",
         "legendgroup": "Equatorial Guinea",
         "marker": {
          "color": "rgb(252,205,229)",
          "pattern": {
           "shape": ""
          }
         },
         "name": "Equatorial Guinea",
         "nbinsy": 14,
         "offsetgroup": "Equatorial Guinea",
         "orientation": "h",
         "showlegend": true,
         "type": "histogram",
         "x": [
          270109
         ],
         "xaxis": "x",
         "y": [
          "2022-07-31T00:00:00"
         ],
         "yaxis": "y"
        },
        {
         "alignmentgroup": "True",
         "bingroup": "y",
         "histfunc": "sum",
         "hovertemplate": "COUNTRY=Eritrea<br>sum of Population Vaccinated=%{x}<br>DATE_UPDATED=%{y}<extra></extra>",
         "legendgroup": "Eritrea",
         "marker": {
          "color": "rgb(179,222,105)",
          "pattern": {
           "shape": ""
          }
         },
         "name": "Eritrea",
         "nbinsy": 14,
         "offsetgroup": "Eritrea",
         "orientation": "h",
         "showlegend": true,
         "type": "histogram",
         "x": [
          0
         ],
         "xaxis": "x",
         "y": [
          "2022-07-31T00:00:00"
         ],
         "yaxis": "y"
        },
        {
         "alignmentgroup": "True",
         "bingroup": "y",
         "histfunc": "sum",
         "hovertemplate": "COUNTRY=Ethiopia<br>sum of Population Vaccinated=%{x}<br>DATE_UPDATED=%{y}<extra></extra>",
         "legendgroup": "Ethiopia",
         "marker": {
          "color": "rgb(253,180,98)",
          "pattern": {
           "shape": ""
          }
         },
         "name": "Ethiopia",
         "nbinsy": 14,
         "offsetgroup": "Ethiopia",
         "orientation": "h",
         "showlegend": true,
         "type": "histogram",
         "x": [
          43111242
         ],
         "xaxis": "x",
         "y": [
          "2022-07-31T00:00:00"
         ],
         "yaxis": "y"
        },
        {
         "alignmentgroup": "True",
         "bingroup": "y",
         "histfunc": "sum",
         "hovertemplate": "COUNTRY=Nauru<br>sum of Population Vaccinated=%{x}<br>DATE_UPDATED=%{y}<extra></extra>",
         "legendgroup": "Nauru",
         "marker": {
          "color": "rgb(128,177,211)",
          "pattern": {
           "shape": ""
          }
         },
         "name": "Nauru",
         "nbinsy": 14,
         "offsetgroup": "Nauru",
         "orientation": "h",
         "showlegend": true,
         "type": "histogram",
         "x": [
          11522
         ],
         "xaxis": "x",
         "y": [
          "2022-07-31T00:00:00"
         ],
         "yaxis": "y"
        },
        {
         "alignmentgroup": "True",
         "bingroup": "y",
         "histfunc": "sum",
         "hovertemplate": "COUNTRY=United Arab Emirates<br>sum of Population Vaccinated=%{x}<br>DATE_UPDATED=%{y}<extra></extra>",
         "legendgroup": "United Arab Emirates",
         "marker": {
          "color": "rgb(251,128,114)",
          "pattern": {
           "shape": ""
          }
         },
         "name": "United Arab Emirates",
         "nbinsy": 14,
         "offsetgroup": "United Arab Emirates",
         "orientation": "h",
         "showlegend": true,
         "type": "histogram",
         "x": [
          9991089
         ],
         "xaxis": "x",
         "y": [
          "2022-07-31T00:00:00"
         ],
         "yaxis": "y"
        },
        {
         "alignmentgroup": "True",
         "bingroup": "y",
         "histfunc": "sum",
         "hovertemplate": "COUNTRY=Wallis and Futuna<br>sum of Population Vaccinated=%{x}<br>DATE_UPDATED=%{y}<extra></extra>",
         "legendgroup": "Wallis and Futuna",
         "marker": {
          "color": "rgb(190,186,218)",
          "pattern": {
           "shape": ""
          }
         },
         "name": "Wallis and Futuna",
         "nbinsy": 14,
         "offsetgroup": "Wallis and Futuna",
         "orientation": "h",
         "showlegend": true,
         "type": "histogram",
         "x": [
          7150
         ],
         "xaxis": "x",
         "y": [
          "2022-07-31T00:00:00"
         ],
         "yaxis": "y"
        },
        {
         "alignmentgroup": "True",
         "bingroup": "y",
         "histfunc": "sum",
         "hovertemplate": "COUNTRY=American Samoa<br>sum of Population Vaccinated=%{x}<br>DATE_UPDATED=%{y}<extra></extra>",
         "legendgroup": "American Samoa",
         "marker": {
          "color": "rgb(255,255,179)",
          "pattern": {
           "shape": ""
          }
         },
         "name": "American Samoa",
         "nbinsy": 14,
         "offsetgroup": "American Samoa",
         "orientation": "h",
         "showlegend": true,
         "type": "histogram",
         "x": [
          0
         ],
         "xaxis": "x",
         "y": [
          "2022-08-31T00:00:00"
         ],
         "yaxis": "y"
        },
        {
         "alignmentgroup": "True",
         "bingroup": "y",
         "histfunc": "sum",
         "hovertemplate": "COUNTRY=Guam<br>sum of Population Vaccinated=%{x}<br>DATE_UPDATED=%{y}<extra></extra>",
         "legendgroup": "Guam",
         "marker": {
          "color": "rgb(141,211,199)",
          "pattern": {
           "shape": ""
          }
         },
         "name": "Guam",
         "nbinsy": 14,
         "offsetgroup": "Guam",
         "orientation": "h",
         "showlegend": true,
         "type": "histogram",
         "x": [
          0
         ],
         "xaxis": "x",
         "y": [
          "2022-08-31T00:00:00"
         ],
         "yaxis": "y"
        },
        {
         "alignmentgroup": "True",
         "bingroup": "y",
         "histfunc": "sum",
         "hovertemplate": "COUNTRY=Jordan<br>sum of Population Vaccinated=%{x}<br>DATE_UPDATED=%{y}<extra></extra>",
         "legendgroup": "Jordan",
         "marker": {
          "color": "rgb(255,237,111)",
          "pattern": {
           "shape": ""
          }
         },
         "name": "Jordan",
         "nbinsy": 14,
         "offsetgroup": "Jordan",
         "orientation": "h",
         "showlegend": true,
         "type": "histogram",
         "x": [
          4821579
         ],
         "xaxis": "x",
         "y": [
          "2022-08-31T00:00:00"
         ],
         "yaxis": "y"
        },
        {
         "alignmentgroup": "True",
         "bingroup": "y",
         "histfunc": "sum",
         "hovertemplate": "COUNTRY=Micronesia (Federated States of)<br>sum of Population Vaccinated=%{x}<br>DATE_UPDATED=%{y}<extra></extra>",
         "legendgroup": "Micronesia (Federated States of)",
         "marker": {
          "color": "rgb(204,235,197)",
          "pattern": {
           "shape": ""
          }
         },
         "name": "Micronesia (Federated States of)",
         "nbinsy": 14,
         "offsetgroup": "Micronesia (Federated States of)",
         "orientation": "h",
         "showlegend": true,
         "type": "histogram",
         "x": [
          0
         ],
         "xaxis": "x",
         "y": [
          "2022-08-31T00:00:00"
         ],
         "yaxis": "y"
        },
        {
         "alignmentgroup": "True",
         "bingroup": "y",
         "histfunc": "sum",
         "hovertemplate": "COUNTRY=Tuvalu<br>sum of Population Vaccinated=%{x}<br>DATE_UPDATED=%{y}<extra></extra>",
         "legendgroup": "Tuvalu",
         "marker": {
          "color": "rgb(188,128,189)",
          "pattern": {
           "shape": ""
          }
         },
         "name": "Tuvalu",
         "nbinsy": 14,
         "offsetgroup": "Tuvalu",
         "orientation": "h",
         "showlegend": true,
         "type": "histogram",
         "x": [
          9603
         ],
         "xaxis": "x",
         "y": [
          "2022-08-31T00:00:00"
         ],
         "yaxis": "y"
        },
        {
         "alignmentgroup": "True",
         "bingroup": "y",
         "histfunc": "sum",
         "hovertemplate": "COUNTRY=Vanuatu<br>sum of Population Vaccinated=%{x}<br>DATE_UPDATED=%{y}<extra></extra>",
         "legendgroup": "Vanuatu",
         "marker": {
          "color": "rgb(217,217,217)",
          "pattern": {
           "shape": ""
          }
         },
         "name": "Vanuatu",
         "nbinsy": 14,
         "offsetgroup": "Vanuatu",
         "orientation": "h",
         "showlegend": true,
         "type": "histogram",
         "x": [
          144824
         ],
         "xaxis": "x",
         "y": [
          "2022-08-31T00:00:00"
         ],
         "yaxis": "y"
        },
        {
         "alignmentgroup": "True",
         "bingroup": "y",
         "histfunc": "sum",
         "hovertemplate": "COUNTRY=Algeria<br>sum of Population Vaccinated=%{x}<br>DATE_UPDATED=%{y}<extra></extra>",
         "legendgroup": "Algeria",
         "marker": {
          "color": "rgb(252,205,229)",
          "pattern": {
           "shape": ""
          }
         },
         "name": "Algeria",
         "nbinsy": 14,
         "offsetgroup": "Algeria",
         "orientation": "h",
         "showlegend": true,
         "type": "histogram",
         "x": [
          7840131
         ],
         "xaxis": "x",
         "y": [
          "2022-09-30T00:00:00"
         ],
         "yaxis": "y"
        },
        {
         "alignmentgroup": "True",
         "bingroup": "y",
         "histfunc": "sum",
         "hovertemplate": "COUNTRY=Cabo Verde<br>sum of Population Vaccinated=%{x}<br>DATE_UPDATED=%{y}<extra></extra>",
         "legendgroup": "Cabo Verde",
         "marker": {
          "color": "rgb(179,222,105)",
          "pattern": {
           "shape": ""
          }
         },
         "name": "Cabo Verde",
         "nbinsy": 14,
         "offsetgroup": "Cabo Verde",
         "orientation": "h",
         "showlegend": true,
         "type": "histogram",
         "x": [
          356734
         ],
         "xaxis": "x",
         "y": [
          "2022-09-30T00:00:00"
         ],
         "yaxis": "y"
        },
        {
         "alignmentgroup": "True",
         "bingroup": "y",
         "histfunc": "sum",
         "hovertemplate": "COUNTRY=French Polynesia<br>sum of Population Vaccinated=%{x}<br>DATE_UPDATED=%{y}<extra></extra>",
         "legendgroup": "French Polynesia",
         "marker": {
          "color": "rgb(253,180,98)",
          "pattern": {
           "shape": ""
          }
         },
         "name": "French Polynesia",
         "nbinsy": 14,
         "offsetgroup": "French Polynesia",
         "orientation": "h",
         "showlegend": true,
         "type": "histogram",
         "x": [
          190908
         ],
         "xaxis": "x",
         "y": [
          "2022-09-30T00:00:00"
         ],
         "yaxis": "y"
        },
        {
         "alignmentgroup": "True",
         "bingroup": "y",
         "histfunc": "sum",
         "hovertemplate": "COUNTRY=Netherlands<br>sum of Population Vaccinated=%{x}<br>DATE_UPDATED=%{y}<extra></extra>",
         "legendgroup": "Netherlands",
         "marker": {
          "color": "rgb(128,177,211)",
          "pattern": {
           "shape": ""
          }
         },
         "name": "Netherlands",
         "nbinsy": 14,
         "offsetgroup": "Netherlands",
         "orientation": "h",
         "showlegend": true,
         "type": "histogram",
         "x": [
          12775557
         ],
         "xaxis": "x",
         "y": [
          "2022-09-30T00:00:00"
         ],
         "yaxis": "y"
        },
        {
         "alignmentgroup": "True",
         "bingroup": "y",
         "histfunc": "sum",
         "hovertemplate": "COUNTRY=Serbia<br>sum of Population Vaccinated=%{x}<br>DATE_UPDATED=%{y}<extra></extra>",
         "legendgroup": "Serbia",
         "marker": {
          "color": "rgb(251,128,114)",
          "pattern": {
           "shape": ""
          }
         },
         "name": "Serbia",
         "nbinsy": 14,
         "offsetgroup": "Serbia",
         "orientation": "h",
         "showlegend": true,
         "type": "histogram",
         "x": [
          3354075
         ],
         "xaxis": "x",
         "y": [
          "2022-09-30T00:00:00"
         ],
         "yaxis": "y"
        },
        {
         "alignmentgroup": "True",
         "bingroup": "y",
         "histfunc": "sum",
         "hovertemplate": "COUNTRY=The United Kingdom<br>sum of Population Vaccinated=%{x}<br>DATE_UPDATED=%{y}<extra></extra>",
         "legendgroup": "The United Kingdom",
         "marker": {
          "color": "rgb(190,186,218)",
          "pattern": {
           "shape": ""
          }
         },
         "name": "The United Kingdom",
         "nbinsy": 14,
         "offsetgroup": "The United Kingdom",
         "orientation": "h",
         "showlegend": true,
         "type": "histogram",
         "x": [
          53813491
         ],
         "xaxis": "x",
         "y": [
          "2022-09-30T00:00:00"
         ],
         "yaxis": "y"
        },
        {
         "alignmentgroup": "True",
         "bingroup": "y",
         "histfunc": "sum",
         "hovertemplate": "COUNTRY=Turkmenistan<br>sum of Population Vaccinated=%{x}<br>DATE_UPDATED=%{y}<extra></extra>",
         "legendgroup": "Turkmenistan",
         "marker": {
          "color": "rgb(255,255,179)",
          "pattern": {
           "shape": ""
          }
         },
         "name": "Turkmenistan",
         "nbinsy": 14,
         "offsetgroup": "Turkmenistan",
         "orientation": "h",
         "showlegend": true,
         "type": "histogram",
         "x": [
          3728004
         ],
         "xaxis": "x",
         "y": [
          "2022-09-30T00:00:00"
         ],
         "yaxis": "y"
        },
        {
         "alignmentgroup": "True",
         "bingroup": "y",
         "histfunc": "sum",
         "hovertemplate": "COUNTRY=Argentina<br>sum of Population Vaccinated=%{x}<br>DATE_UPDATED=%{y}<extra></extra>",
         "legendgroup": "Argentina",
         "marker": {
          "color": "rgb(141,211,199)",
          "pattern": {
           "shape": ""
          }
         },
         "name": "Argentina",
         "nbinsy": 14,
         "offsetgroup": "Argentina",
         "orientation": "h",
         "showlegend": true,
         "type": "histogram",
         "x": [
          41452030
         ],
         "xaxis": "x",
         "y": [
          "2022-10-31T00:00:00"
         ],
         "yaxis": "y"
        },
        {
         "alignmentgroup": "True",
         "bingroup": "y",
         "histfunc": "sum",
         "hovertemplate": "COUNTRY=Bhutan<br>sum of Population Vaccinated=%{x}<br>DATE_UPDATED=%{y}<extra></extra>",
         "legendgroup": "Bhutan",
         "marker": {
          "color": "rgb(255,237,111)",
          "pattern": {
           "shape": ""
          }
         },
         "name": "Bhutan",
         "nbinsy": 14,
         "offsetgroup": "Bhutan",
         "orientation": "h",
         "showlegend": true,
         "type": "histogram",
         "x": [
          699116
         ],
         "xaxis": "x",
         "y": [
          "2022-10-31T00:00:00"
         ],
         "yaxis": "y"
        },
        {
         "alignmentgroup": "True",
         "bingroup": "y",
         "histfunc": "sum",
         "hovertemplate": "COUNTRY=Comoros<br>sum of Population Vaccinated=%{x}<br>DATE_UPDATED=%{y}<extra></extra>",
         "legendgroup": "Comoros",
         "marker": {
          "color": "rgb(204,235,197)",
          "pattern": {
           "shape": ""
          }
         },
         "name": "Comoros",
         "nbinsy": 14,
         "offsetgroup": "Comoros",
         "orientation": "h",
         "showlegend": true,
         "type": "histogram",
         "x": [
          438825
         ],
         "xaxis": "x",
         "y": [
          "2022-10-31T00:00:00"
         ],
         "yaxis": "y"
        },
        {
         "alignmentgroup": "True",
         "bingroup": "y",
         "histfunc": "sum",
         "hovertemplate": "COUNTRY=Croatia<br>sum of Population Vaccinated=%{x}<br>DATE_UPDATED=%{y}<extra></extra>",
         "legendgroup": "Croatia",
         "marker": {
          "color": "rgb(188,128,189)",
          "pattern": {
           "shape": ""
          }
         },
         "name": "Croatia",
         "nbinsy": 14,
         "offsetgroup": "Croatia",
         "orientation": "h",
         "showlegend": true,
         "type": "histogram",
         "x": [
          2321052
         ],
         "xaxis": "x",
         "y": [
          "2022-10-31T00:00:00"
         ],
         "yaxis": "y"
        },
        {
         "alignmentgroup": "True",
         "bingroup": "y",
         "histfunc": "sum",
         "hovertemplate": "COUNTRY=Kosovo<br>sum of Population Vaccinated=%{x}<br>DATE_UPDATED=%{y}<extra></extra>",
         "legendgroup": "Kosovo",
         "marker": {
          "color": "rgb(217,217,217)",
          "pattern": {
           "shape": ""
          }
         },
         "name": "Kosovo",
         "nbinsy": 14,
         "offsetgroup": "Kosovo",
         "orientation": "h",
         "showlegend": true,
         "type": "histogram",
         "x": [
          906807
         ],
         "xaxis": "x",
         "y": [
          "2022-10-31T00:00:00"
         ],
         "yaxis": "y"
        },
        {
         "alignmentgroup": "True",
         "bingroup": "y",
         "histfunc": "sum",
         "hovertemplate": "COUNTRY=Libya<br>sum of Population Vaccinated=%{x}<br>DATE_UPDATED=%{y}<extra></extra>",
         "legendgroup": "Libya",
         "marker": {
          "color": "rgb(252,205,229)",
          "pattern": {
           "shape": ""
          }
         },
         "name": "Libya",
         "nbinsy": 14,
         "offsetgroup": "Libya",
         "orientation": "h",
         "showlegend": true,
         "type": "histogram",
         "x": [
          2316327
         ],
         "xaxis": "x",
         "y": [
          "2022-10-31T00:00:00"
         ],
         "yaxis": "y"
        },
        {
         "alignmentgroup": "True",
         "bingroup": "y",
         "histfunc": "sum",
         "hovertemplate": "COUNTRY=Niue<br>sum of Population Vaccinated=%{x}<br>DATE_UPDATED=%{y}<extra></extra>",
         "legendgroup": "Niue",
         "marker": {
          "color": "rgb(179,222,105)",
          "pattern": {
           "shape": ""
          }
         },
         "name": "Niue",
         "nbinsy": 14,
         "offsetgroup": "Niue",
         "orientation": "h",
         "showlegend": true,
         "type": "histogram",
         "x": [
          1636
         ],
         "xaxis": "x",
         "y": [
          "2022-10-31T00:00:00"
         ],
         "yaxis": "y"
        },
        {
         "alignmentgroup": "True",
         "bingroup": "y",
         "histfunc": "sum",
         "hovertemplate": "COUNTRY=Oman<br>sum of Population Vaccinated=%{x}<br>DATE_UPDATED=%{y}<extra></extra>",
         "legendgroup": "Oman",
         "marker": {
          "color": "rgb(253,180,98)",
          "pattern": {
           "shape": ""
          }
         },
         "name": "Oman",
         "nbinsy": 14,
         "offsetgroup": "Oman",
         "orientation": "h",
         "showlegend": true,
         "type": "histogram",
         "x": [
          3257365
         ],
         "xaxis": "x",
         "y": [
          "2022-10-31T00:00:00"
         ],
         "yaxis": "y"
        },
        {
         "alignmentgroup": "True",
         "bingroup": "y",
         "histfunc": "sum",
         "hovertemplate": "COUNTRY=Republic of Korea<br>sum of Population Vaccinated=%{x}<br>DATE_UPDATED=%{y}<extra></extra>",
         "legendgroup": "Republic of Korea",
         "marker": {
          "color": "rgb(128,177,211)",
          "pattern": {
           "shape": ""
          }
         },
         "name": "Republic of Korea",
         "nbinsy": 14,
         "offsetgroup": "Republic of Korea",
         "orientation": "h",
         "showlegend": true,
         "type": "histogram",
         "x": [
          44849950
         ],
         "xaxis": "x",
         "y": [
          "2022-10-31T00:00:00"
         ],
         "yaxis": "y"
        },
        {
         "alignmentgroup": "True",
         "bingroup": "y",
         "histfunc": "sum",
         "hovertemplate": "COUNTRY=Solomon Islands<br>sum of Population Vaccinated=%{x}<br>DATE_UPDATED=%{y}<extra></extra>",
         "legendgroup": "Solomon Islands",
         "marker": {
          "color": "rgb(251,128,114)",
          "pattern": {
           "shape": ""
          }
         },
         "name": "Solomon Islands",
         "nbinsy": 14,
         "offsetgroup": "Solomon Islands",
         "orientation": "h",
         "showlegend": true,
         "type": "histogram",
         "x": [
          343821
         ],
         "xaxis": "x",
         "y": [
          "2022-10-31T00:00:00"
         ],
         "yaxis": "y"
        },
        {
         "alignmentgroup": "True",
         "bingroup": "y",
         "histfunc": "sum",
         "hovertemplate": "COUNTRY=Sri Lanka<br>sum of Population Vaccinated=%{x}<br>DATE_UPDATED=%{y}<extra></extra>",
         "legendgroup": "Sri Lanka",
         "marker": {
          "color": "rgb(190,186,218)",
          "pattern": {
           "shape": ""
          }
         },
         "name": "Sri Lanka",
         "nbinsy": 14,
         "offsetgroup": "Sri Lanka",
         "orientation": "h",
         "showlegend": true,
         "type": "histogram",
         "x": [
          17143761
         ],
         "xaxis": "x",
         "y": [
          "2022-10-31T00:00:00"
         ],
         "yaxis": "y"
        },
        {
         "alignmentgroup": "True",
         "bingroup": "y",
         "histfunc": "sum",
         "hovertemplate": "COUNTRY=occupied Palestinian territory<br>sum of Population Vaccinated=%{x}<br>DATE_UPDATED=%{y}<extra></extra>",
         "legendgroup": "occupied Palestinian territory",
         "marker": {
          "color": "rgb(255,255,179)",
          "pattern": {
           "shape": ""
          }
         },
         "name": "occupied Palestinian territory",
         "nbinsy": 14,
         "offsetgroup": "occupied Palestinian territory",
         "orientation": "h",
         "showlegend": true,
         "type": "histogram",
         "x": [
          2012767
         ],
         "xaxis": "x",
         "y": [
          "2022-10-31T00:00:00"
         ],
         "yaxis": "y"
        },
        {
         "alignmentgroup": "True",
         "bingroup": "y",
         "histfunc": "sum",
         "hovertemplate": "COUNTRY=Andorra<br>sum of Population Vaccinated=%{x}<br>DATE_UPDATED=%{y}<extra></extra>",
         "legendgroup": "Andorra",
         "marker": {
          "color": "rgb(141,211,199)",
          "pattern": {
           "shape": ""
          }
         },
         "name": "Andorra",
         "nbinsy": 14,
         "offsetgroup": "Andorra",
         "orientation": "h",
         "showlegend": true,
         "type": "histogram",
         "x": [
          57901
         ],
         "xaxis": "x",
         "y": [
          "2022-11-30T00:00:00"
         ],
         "yaxis": "y"
        },
        {
         "alignmentgroup": "True",
         "bingroup": "y",
         "histfunc": "sum",
         "hovertemplate": "COUNTRY=Australia<br>sum of Population Vaccinated=%{x}<br>DATE_UPDATED=%{y}<extra></extra>",
         "legendgroup": "Australia",
         "marker": {
          "color": "rgb(255,237,111)",
          "pattern": {
           "shape": ""
          }
         },
         "name": "Australia",
         "nbinsy": 14,
         "offsetgroup": "Australia",
         "orientation": "h",
         "showlegend": true,
         "type": "histogram",
         "x": [
          22236698
         ],
         "xaxis": "x",
         "y": [
          "2022-11-30T00:00:00"
         ],
         "yaxis": "y"
        },
        {
         "alignmentgroup": "True",
         "bingroup": "y",
         "histfunc": "sum",
         "hovertemplate": "COUNTRY=Brunei Darussalam<br>sum of Population Vaccinated=%{x}<br>DATE_UPDATED=%{y}<extra></extra>",
         "legendgroup": "Brunei Darussalam",
         "marker": {
          "color": "rgb(204,235,197)",
          "pattern": {
           "shape": ""
          }
         },
         "name": "Brunei Darussalam",
         "nbinsy": 14,
         "offsetgroup": "Brunei Darussalam",
         "orientation": "h",
         "showlegend": true,
         "type": "histogram",
         "x": [
          450788
         ],
         "xaxis": "x",
         "y": [
          "2022-11-30T00:00:00"
         ],
         "yaxis": "y"
        },
        {
         "alignmentgroup": "True",
         "bingroup": "y",
         "histfunc": "sum",
         "hovertemplate": "COUNTRY=Burkina Faso<br>sum of Population Vaccinated=%{x}<br>DATE_UPDATED=%{y}<extra></extra>",
         "legendgroup": "Burkina Faso",
         "marker": {
          "color": "rgb(188,128,189)",
          "pattern": {
           "shape": ""
          }
         },
         "name": "Burkina Faso",
         "nbinsy": 14,
         "offsetgroup": "Burkina Faso",
         "orientation": "h",
         "showlegend": true,
         "type": "histogram",
         "x": [
          4366726
         ],
         "xaxis": "x",
         "y": [
          "2022-11-30T00:00:00"
         ],
         "yaxis": "y"
        },
        {
         "alignmentgroup": "True",
         "bingroup": "y",
         "histfunc": "sum",
         "hovertemplate": "COUNTRY=China<br>sum of Population Vaccinated=%{x}<br>DATE_UPDATED=%{y}<extra></extra>",
         "legendgroup": "China",
         "marker": {
          "color": "rgb(217,217,217)",
          "pattern": {
           "shape": ""
          }
         },
         "name": "China",
         "nbinsy": 14,
         "offsetgroup": "China",
         "orientation": "h",
         "showlegend": true,
         "type": "histogram",
         "x": [
          1310267000
         ],
         "xaxis": "x",
         "y": [
          "2022-11-30T00:00:00"
         ],
         "yaxis": "y"
        },
        {
         "alignmentgroup": "True",
         "bingroup": "y",
         "histfunc": "sum",
         "hovertemplate": "COUNTRY=Fiji<br>sum of Population Vaccinated=%{x}<br>DATE_UPDATED=%{y}<extra></extra>",
         "legendgroup": "Fiji",
         "marker": {
          "color": "rgb(252,205,229)",
          "pattern": {
           "shape": ""
          }
         },
         "name": "Fiji",
         "nbinsy": 14,
         "offsetgroup": "Fiji",
         "orientation": "h",
         "showlegend": true,
         "type": "histogram",
         "x": [
          2632
         ],
         "xaxis": "x",
         "y": [
          "2022-11-30T00:00:00"
         ],
         "yaxis": "y"
        },
        {
         "alignmentgroup": "True",
         "bingroup": "y",
         "histfunc": "sum",
         "hovertemplate": "COUNTRY=Gabon<br>sum of Population Vaccinated=%{x}<br>DATE_UPDATED=%{y}<extra></extra>",
         "legendgroup": "Gabon",
         "marker": {
          "color": "rgb(179,222,105)",
          "pattern": {
           "shape": ""
          }
         },
         "name": "Gabon",
         "nbinsy": 14,
         "offsetgroup": "Gabon",
         "orientation": "h",
         "showlegend": true,
         "type": "histogram",
         "x": [
          311040
         ],
         "xaxis": "x",
         "y": [
          "2022-11-30T00:00:00"
         ],
         "yaxis": "y"
        },
        {
         "alignmentgroup": "True",
         "bingroup": "y",
         "histfunc": "sum",
         "hovertemplate": "COUNTRY=Gambia<br>sum of Population Vaccinated=%{x}<br>DATE_UPDATED=%{y}<extra></extra>",
         "legendgroup": "Gambia",
         "marker": {
          "color": "rgb(253,180,98)",
          "pattern": {
           "shape": ""
          }
         },
         "name": "Gambia",
         "nbinsy": 14,
         "offsetgroup": "Gambia",
         "orientation": "h",
         "showlegend": true,
         "type": "histogram",
         "x": [
          548701
         ],
         "xaxis": "x",
         "y": [
          "2022-11-30T00:00:00"
         ],
         "yaxis": "y"
        },
        {
         "alignmentgroup": "True",
         "bingroup": "y",
         "histfunc": "sum",
         "hovertemplate": "COUNTRY=Georgia<br>sum of Population Vaccinated=%{x}<br>DATE_UPDATED=%{y}<extra></extra>",
         "legendgroup": "Georgia",
         "marker": {
          "color": "rgb(128,177,211)",
          "pattern": {
           "shape": ""
          }
         },
         "name": "Georgia",
         "nbinsy": 14,
         "offsetgroup": "Georgia",
         "orientation": "h",
         "showlegend": true,
         "type": "histogram",
         "x": [
          1654504
         ],
         "xaxis": "x",
         "y": [
          "2022-11-30T00:00:00"
         ],
         "yaxis": "y"
        },
        {
         "alignmentgroup": "True",
         "bingroup": "y",
         "histfunc": "sum",
         "hovertemplate": "COUNTRY=Japan<br>sum of Population Vaccinated=%{x}<br>DATE_UPDATED=%{y}<extra></extra>",
         "legendgroup": "Japan",
         "marker": {
          "color": "rgb(251,128,114)",
          "pattern": {
           "shape": ""
          }
         },
         "name": "Japan",
         "nbinsy": 14,
         "offsetgroup": "Japan",
         "orientation": "h",
         "showlegend": true,
         "type": "histogram",
         "x": [
          104630376
         ],
         "xaxis": "x",
         "y": [
          "2022-11-30T00:00:00"
         ],
         "yaxis": "y"
        },
        {
         "alignmentgroup": "True",
         "bingroup": "y",
         "histfunc": "sum",
         "hovertemplate": "COUNTRY=Kiribati<br>sum of Population Vaccinated=%{x}<br>DATE_UPDATED=%{y}<extra></extra>",
         "legendgroup": "Kiribati",
         "marker": {
          "color": "rgb(190,186,218)",
          "pattern": {
           "shape": ""
          }
         },
         "name": "Kiribati",
         "nbinsy": 14,
         "offsetgroup": "Kiribati",
         "orientation": "h",
         "showlegend": true,
         "type": "histogram",
         "x": [
          99607
         ],
         "xaxis": "x",
         "y": [
          "2022-11-30T00:00:00"
         ],
         "yaxis": "y"
        },
        {
         "alignmentgroup": "True",
         "bingroup": "y",
         "histfunc": "sum",
         "hovertemplate": "COUNTRY=Lao People's Democratic Republic<br>sum of Population Vaccinated=%{x}<br>DATE_UPDATED=%{y}<extra></extra>",
         "legendgroup": "Lao People's Democratic Republic",
         "marker": {
          "color": "rgb(255,255,179)",
          "pattern": {
           "shape": ""
          }
         },
         "name": "Lao People's Democratic Republic",
         "nbinsy": 14,
         "offsetgroup": "Lao People's Democratic Republic",
         "orientation": "h",
         "showlegend": true,
         "type": "histogram",
         "x": [
          5888649
         ],
         "xaxis": "x",
         "y": [
          "2022-11-30T00:00:00"
         ],
         "yaxis": "y"
        },
        {
         "alignmentgroup": "True",
         "bingroup": "y",
         "histfunc": "sum",
         "hovertemplate": "COUNTRY=Marshall Islands<br>sum of Population Vaccinated=%{x}<br>DATE_UPDATED=%{y}<extra></extra>",
         "legendgroup": "Marshall Islands",
         "marker": {
          "color": "rgb(141,211,199)",
          "pattern": {
           "shape": ""
          }
         },
         "name": "Marshall Islands",
         "nbinsy": 14,
         "offsetgroup": "Marshall Islands",
         "orientation": "h",
         "showlegend": true,
         "type": "histogram",
         "x": [
          0
         ],
         "xaxis": "x",
         "y": [
          "2022-11-30T00:00:00"
         ],
         "yaxis": "y"
        },
        {
         "alignmentgroup": "True",
         "bingroup": "y",
         "histfunc": "sum",
         "hovertemplate": "COUNTRY=Monaco<br>sum of Population Vaccinated=%{x}<br>DATE_UPDATED=%{y}<extra></extra>",
         "legendgroup": "Monaco",
         "marker": {
          "color": "rgb(255,237,111)",
          "pattern": {
           "shape": ""
          }
         },
         "name": "Monaco",
         "nbinsy": 14,
         "offsetgroup": "Monaco",
         "orientation": "h",
         "showlegend": true,
         "type": "histogram",
         "x": [
          28875
         ],
         "xaxis": "x",
         "y": [
          "2022-11-30T00:00:00"
         ],
         "yaxis": "y"
        },
        {
         "alignmentgroup": "True",
         "bingroup": "y",
         "histfunc": "sum",
         "hovertemplate": "COUNTRY=Northern Mariana Islands (Commonwealth of the)<br>sum of Population Vaccinated=%{x}<br>DATE_UPDATED=%{y}<extra></extra>",
         "legendgroup": "Northern Mariana Islands (Commonwealth of the)",
         "marker": {
          "color": "rgb(204,235,197)",
          "pattern": {
           "shape": ""
          }
         },
         "name": "Northern Mariana Islands (Commonwealth of the)",
         "nbinsy": 14,
         "offsetgroup": "Northern Mariana Islands (Commonwealth of the)",
         "orientation": "h",
         "showlegend": true,
         "type": "histogram",
         "x": [
          0
         ],
         "xaxis": "x",
         "y": [
          "2022-11-30T00:00:00"
         ],
         "yaxis": "y"
        },
        {
         "alignmentgroup": "True",
         "bingroup": "y",
         "histfunc": "sum",
         "hovertemplate": "COUNTRY=Palau<br>sum of Population Vaccinated=%{x}<br>DATE_UPDATED=%{y}<extra></extra>",
         "legendgroup": "Palau",
         "marker": {
          "color": "rgb(188,128,189)",
          "pattern": {
           "shape": ""
          }
         },
         "name": "Palau",
         "nbinsy": 14,
         "offsetgroup": "Palau",
         "orientation": "h",
         "showlegend": true,
         "type": "histogram",
         "x": [
          0
         ],
         "xaxis": "x",
         "y": [
          "2022-11-30T00:00:00"
         ],
         "yaxis": "y"
        },
        {
         "alignmentgroup": "True",
         "bingroup": "y",
         "histfunc": "sum",
         "hovertemplate": "COUNTRY=Rwanda<br>sum of Population Vaccinated=%{x}<br>DATE_UPDATED=%{y}<extra></extra>",
         "legendgroup": "Rwanda",
         "marker": {
          "color": "rgb(217,217,217)",
          "pattern": {
           "shape": ""
          }
         },
         "name": "Rwanda",
         "nbinsy": 14,
         "offsetgroup": "Rwanda",
         "orientation": "h",
         "showlegend": true,
         "type": "histogram",
         "x": [
          10572981
         ],
         "xaxis": "x",
         "y": [
          "2022-11-30T00:00:00"
         ],
         "yaxis": "y"
        },
        {
         "alignmentgroup": "True",
         "bingroup": "y",
         "histfunc": "sum",
         "hovertemplate": "COUNTRY=Samoa<br>sum of Population Vaccinated=%{x}<br>DATE_UPDATED=%{y}<extra></extra>",
         "legendgroup": "Samoa",
         "marker": {
          "color": "rgb(252,205,229)",
          "pattern": {
           "shape": ""
          }
         },
         "name": "Samoa",
         "nbinsy": 14,
         "offsetgroup": "Samoa",
         "orientation": "h",
         "showlegend": true,
         "type": "histogram",
         "x": [
          191171
         ],
         "xaxis": "x",
         "y": [
          "2022-11-30T00:00:00"
         ],
         "yaxis": "y"
        },
        {
         "alignmentgroup": "True",
         "bingroup": "y",
         "histfunc": "sum",
         "hovertemplate": "COUNTRY=Sao Tome and Principe<br>sum of Population Vaccinated=%{x}<br>DATE_UPDATED=%{y}<extra></extra>",
         "legendgroup": "Sao Tome and Principe",
         "marker": {
          "color": "rgb(179,222,105)",
          "pattern": {
           "shape": ""
          }
         },
         "name": "Sao Tome and Principe",
         "nbinsy": 14,
         "offsetgroup": "Sao Tome and Principe",
         "orientation": "h",
         "showlegend": true,
         "type": "histogram",
         "x": [
          127564
         ],
         "xaxis": "x",
         "y": [
          "2022-11-30T00:00:00"
         ],
         "yaxis": "y"
        },
        {
         "alignmentgroup": "True",
         "bingroup": "y",
         "histfunc": "sum",
         "hovertemplate": "COUNTRY=Senegal<br>sum of Population Vaccinated=%{x}<br>DATE_UPDATED=%{y}<extra></extra>",
         "legendgroup": "Senegal",
         "marker": {
          "color": "rgb(253,180,98)",
          "pattern": {
           "shape": ""
          }
         },
         "name": "Senegal",
         "nbinsy": 14,
         "offsetgroup": "Senegal",
         "orientation": "h",
         "showlegend": true,
         "type": "histogram",
         "x": [
          2051994
         ],
         "xaxis": "x",
         "y": [
          "2022-11-30T00:00:00"
         ],
         "yaxis": "y"
        },
        {
         "alignmentgroup": "True",
         "bingroup": "y",
         "histfunc": "sum",
         "hovertemplate": "COUNTRY=Singapore<br>sum of Population Vaccinated=%{x}<br>DATE_UPDATED=%{y}<extra></extra>",
         "legendgroup": "Singapore",
         "marker": {
          "color": "rgb(128,177,211)",
          "pattern": {
           "shape": ""
          }
         },
         "name": "Singapore",
         "nbinsy": 14,
         "offsetgroup": "Singapore",
         "orientation": "h",
         "showlegend": true,
         "type": "histogram",
         "x": [
          5160551
         ],
         "xaxis": "x",
         "y": [
          "2022-11-30T00:00:00"
         ],
         "yaxis": "y"
        },
        {
         "alignmentgroup": "True",
         "bingroup": "y",
         "histfunc": "sum",
         "hovertemplate": "COUNTRY=Thailand<br>sum of Population Vaccinated=%{x}<br>DATE_UPDATED=%{y}<extra></extra>",
         "legendgroup": "Thailand",
         "marker": {
          "color": "rgb(251,128,114)",
          "pattern": {
           "shape": ""
          }
         },
         "name": "Thailand",
         "nbinsy": 14,
         "offsetgroup": "Thailand",
         "orientation": "h",
         "showlegend": true,
         "type": "histogram",
         "x": [
          57005497
         ],
         "xaxis": "x",
         "y": [
          "2022-11-30T00:00:00"
         ],
         "yaxis": "y"
        },
        {
         "alignmentgroup": "True",
         "bingroup": "y",
         "histfunc": "sum",
         "hovertemplate": "COUNTRY=Tokelau<br>sum of Population Vaccinated=%{x}<br>DATE_UPDATED=%{y}<extra></extra>",
         "legendgroup": "Tokelau",
         "marker": {
          "color": "rgb(190,186,218)",
          "pattern": {
           "shape": ""
          }
         },
         "name": "Tokelau",
         "nbinsy": 14,
         "offsetgroup": "Tokelau",
         "orientation": "h",
         "showlegend": true,
         "type": "histogram",
         "x": [
          2203
         ],
         "xaxis": "x",
         "y": [
          "2022-11-30T00:00:00"
         ],
         "yaxis": "y"
        },
        {
         "alignmentgroup": "True",
         "bingroup": "y",
         "histfunc": "sum",
         "hovertemplate": "COUNTRY=Tonga<br>sum of Population Vaccinated=%{x}<br>DATE_UPDATED=%{y}<extra></extra>",
         "legendgroup": "Tonga",
         "marker": {
          "color": "rgb(255,255,179)",
          "pattern": {
           "shape": ""
          }
         },
         "name": "Tonga",
         "nbinsy": 14,
         "offsetgroup": "Tonga",
         "orientation": "h",
         "showlegend": true,
         "type": "histogram",
         "x": [
          91949
         ],
         "xaxis": "x",
         "y": [
          "2022-11-30T00:00:00"
         ],
         "yaxis": "y"
        },
        {
         "alignmentgroup": "True",
         "bingroup": "y",
         "histfunc": "sum",
         "hovertemplate": "COUNTRY=Zimbabwe<br>sum of Population Vaccinated=%{x}<br>DATE_UPDATED=%{y}<extra></extra>",
         "legendgroup": "Zimbabwe",
         "marker": {
          "color": "rgb(141,211,199)",
          "pattern": {
           "shape": ""
          }
         },
         "name": "Zimbabwe",
         "nbinsy": 14,
         "offsetgroup": "Zimbabwe",
         "orientation": "h",
         "showlegend": true,
         "type": "histogram",
         "x": [
          6437808
         ],
         "xaxis": "x",
         "y": [
          "2022-11-30T00:00:00"
         ],
         "yaxis": "y"
        },
        {
         "alignmentgroup": "True",
         "bingroup": "y",
         "histfunc": "sum",
         "hovertemplate": "COUNTRY=Afghanistan<br>sum of Population Vaccinated=%{x}<br>DATE_UPDATED=%{y}<extra></extra>",
         "legendgroup": "Afghanistan",
         "marker": {
          "color": "rgb(255,237,111)",
          "pattern": {
           "shape": ""
          }
         },
         "name": "Afghanistan",
         "nbinsy": 14,
         "offsetgroup": "Afghanistan",
         "orientation": "h",
         "showlegend": true,
         "type": "histogram",
         "x": [
          11684678
         ],
         "xaxis": "x",
         "y": [
          "2022-12-31T00:00:00"
         ],
         "yaxis": "y"
        },
        {
         "alignmentgroup": "True",
         "bingroup": "y",
         "histfunc": "sum",
         "hovertemplate": "COUNTRY=Albania<br>sum of Population Vaccinated=%{x}<br>DATE_UPDATED=%{y}<extra></extra>",
         "legendgroup": "Albania",
         "marker": {
          "color": "rgb(204,235,197)",
          "pattern": {
           "shape": ""
          }
         },
         "name": "Albania",
         "nbinsy": 14,
         "offsetgroup": "Albania",
         "orientation": "h",
         "showlegend": true,
         "type": "histogram",
         "x": [
          1344582
         ],
         "xaxis": "x",
         "y": [
          "2022-12-31T00:00:00"
         ],
         "yaxis": "y"
        },
        {
         "alignmentgroup": "True",
         "bingroup": "y",
         "histfunc": "sum",
         "hovertemplate": "COUNTRY=Angola<br>sum of Population Vaccinated=%{x}<br>DATE_UPDATED=%{y}<extra></extra>",
         "legendgroup": "Angola",
         "marker": {
          "color": "rgb(188,128,189)",
          "pattern": {
           "shape": ""
          }
         },
         "name": "Angola",
         "nbinsy": 14,
         "offsetgroup": "Angola",
         "orientation": "h",
         "showlegend": true,
         "type": "histogram",
         "x": [
          15079129
         ],
         "xaxis": "x",
         "y": [
          "2022-12-31T00:00:00"
         ],
         "yaxis": "y"
        },
        {
         "alignmentgroup": "True",
         "bingroup": "y",
         "histfunc": "sum",
         "hovertemplate": "COUNTRY=Anguilla<br>sum of Population Vaccinated=%{x}<br>DATE_UPDATED=%{y}<extra></extra>",
         "legendgroup": "Anguilla",
         "marker": {
          "color": "rgb(217,217,217)",
          "pattern": {
           "shape": ""
          }
         },
         "name": "Anguilla",
         "nbinsy": 14,
         "offsetgroup": "Anguilla",
         "orientation": "h",
         "showlegend": true,
         "type": "histogram",
         "x": [
          10853
         ],
         "xaxis": "x",
         "y": [
          "2022-12-31T00:00:00"
         ],
         "yaxis": "y"
        },
        {
         "alignmentgroup": "True",
         "bingroup": "y",
         "histfunc": "sum",
         "hovertemplate": "COUNTRY=Antigua and Barbuda<br>sum of Population Vaccinated=%{x}<br>DATE_UPDATED=%{y}<extra></extra>",
         "legendgroup": "Antigua and Barbuda",
         "marker": {
          "color": "rgb(252,205,229)",
          "pattern": {
           "shape": ""
          }
         },
         "name": "Antigua and Barbuda",
         "nbinsy": 14,
         "offsetgroup": "Antigua and Barbuda",
         "orientation": "h",
         "showlegend": true,
         "type": "histogram",
         "x": [
          64290
         ],
         "xaxis": "x",
         "y": [
          "2022-12-31T00:00:00"
         ],
         "yaxis": "y"
        },
        {
         "alignmentgroup": "True",
         "bingroup": "y",
         "histfunc": "sum",
         "hovertemplate": "COUNTRY=Aruba<br>sum of Population Vaccinated=%{x}<br>DATE_UPDATED=%{y}<extra></extra>",
         "legendgroup": "Aruba",
         "marker": {
          "color": "rgb(179,222,105)",
          "pattern": {
           "shape": ""
          }
         },
         "name": "Aruba",
         "nbinsy": 14,
         "offsetgroup": "Aruba",
         "orientation": "h",
         "showlegend": true,
         "type": "histogram",
         "x": [
          90243
         ],
         "xaxis": "x",
         "y": [
          "2022-12-31T00:00:00"
         ],
         "yaxis": "y"
        },
        {
         "alignmentgroup": "True",
         "bingroup": "y",
         "histfunc": "sum",
         "hovertemplate": "COUNTRY=Austria<br>sum of Population Vaccinated=%{x}<br>DATE_UPDATED=%{y}<extra></extra>",
         "legendgroup": "Austria",
         "marker": {
          "color": "rgb(253,180,98)",
          "pattern": {
           "shape": ""
          }
         },
         "name": "Austria",
         "nbinsy": 14,
         "offsetgroup": "Austria",
         "orientation": "h",
         "showlegend": true,
         "type": "histogram",
         "x": [
          6895915
         ],
         "xaxis": "x",
         "y": [
          "2022-12-31T00:00:00"
         ],
         "yaxis": "y"
        },
        {
         "alignmentgroup": "True",
         "bingroup": "y",
         "histfunc": "sum",
         "hovertemplate": "COUNTRY=Azerbaijan<br>sum of Population Vaccinated=%{x}<br>DATE_UPDATED=%{y}<extra></extra>",
         "legendgroup": "Azerbaijan",
         "marker": {
          "color": "rgb(128,177,211)",
          "pattern": {
           "shape": ""
          }
         },
         "name": "Azerbaijan",
         "nbinsy": 14,
         "offsetgroup": "Azerbaijan",
         "orientation": "h",
         "showlegend": true,
         "type": "histogram",
         "x": [
          5373253
         ],
         "xaxis": "x",
         "y": [
          "2022-12-31T00:00:00"
         ],
         "yaxis": "y"
        },
        {
         "alignmentgroup": "True",
         "bingroup": "y",
         "histfunc": "sum",
         "hovertemplate": "COUNTRY=Bahamas<br>sum of Population Vaccinated=%{x}<br>DATE_UPDATED=%{y}<extra></extra>",
         "legendgroup": "Bahamas",
         "marker": {
          "color": "rgb(251,128,114)",
          "pattern": {
           "shape": ""
          }
         },
         "name": "Bahamas",
         "nbinsy": 14,
         "offsetgroup": "Bahamas",
         "orientation": "h",
         "showlegend": true,
         "type": "histogram",
         "x": [
          174147
         ],
         "xaxis": "x",
         "y": [
          "2022-12-31T00:00:00"
         ],
         "yaxis": "y"
        },
        {
         "alignmentgroup": "True",
         "bingroup": "y",
         "histfunc": "sum",
         "hovertemplate": "COUNTRY=Bahrain<br>sum of Population Vaccinated=%{x}<br>DATE_UPDATED=%{y}<extra></extra>",
         "legendgroup": "Bahrain",
         "marker": {
          "color": "rgb(190,186,218)",
          "pattern": {
           "shape": ""
          }
         },
         "name": "Bahrain",
         "nbinsy": 14,
         "offsetgroup": "Bahrain",
         "orientation": "h",
         "showlegend": true,
         "type": "histogram",
         "x": [
          1241174
         ],
         "xaxis": "x",
         "y": [
          "2022-12-31T00:00:00"
         ],
         "yaxis": "y"
        },
        {
         "alignmentgroup": "True",
         "bingroup": "y",
         "histfunc": "sum",
         "hovertemplate": "COUNTRY=Bangladesh<br>sum of Population Vaccinated=%{x}<br>DATE_UPDATED=%{y}<extra></extra>",
         "legendgroup": "Bangladesh",
         "marker": {
          "color": "rgb(255,255,179)",
          "pattern": {
           "shape": ""
          }
         },
         "name": "Bangladesh",
         "nbinsy": 14,
         "offsetgroup": "Bangladesh",
         "orientation": "h",
         "showlegend": true,
         "type": "histogram",
         "x": [
          150956628
         ],
         "xaxis": "x",
         "y": [
          "2022-12-31T00:00:00"
         ],
         "yaxis": "y"
        },
        {
         "alignmentgroup": "True",
         "bingroup": "y",
         "histfunc": "sum",
         "hovertemplate": "COUNTRY=Barbados<br>sum of Population Vaccinated=%{x}<br>DATE_UPDATED=%{y}<extra></extra>",
         "legendgroup": "Barbados",
         "marker": {
          "color": "rgb(141,211,199)",
          "pattern": {
           "shape": ""
          }
         },
         "name": "Barbados",
         "nbinsy": 14,
         "offsetgroup": "Barbados",
         "orientation": "h",
         "showlegend": true,
         "type": "histogram",
         "x": [
          163833
         ],
         "xaxis": "x",
         "y": [
          "2022-12-31T00:00:00"
         ],
         "yaxis": "y"
        },
        {
         "alignmentgroup": "True",
         "bingroup": "y",
         "histfunc": "sum",
         "hovertemplate": "COUNTRY=Belarus<br>sum of Population Vaccinated=%{x}<br>DATE_UPDATED=%{y}<extra></extra>",
         "legendgroup": "Belarus",
         "marker": {
          "color": "rgb(255,237,111)",
          "pattern": {
           "shape": ""
          }
         },
         "name": "Belarus",
         "nbinsy": 14,
         "offsetgroup": "Belarus",
         "orientation": "h",
         "showlegend": true,
         "type": "histogram",
         "x": [
          6527591
         ],
         "xaxis": "x",
         "y": [
          "2022-12-31T00:00:00"
         ],
         "yaxis": "y"
        },
        {
         "alignmentgroup": "True",
         "bingroup": "y",
         "histfunc": "sum",
         "hovertemplate": "COUNTRY=Belgium<br>sum of Population Vaccinated=%{x}<br>DATE_UPDATED=%{y}<extra></extra>",
         "legendgroup": "Belgium",
         "marker": {
          "color": "rgb(204,235,197)",
          "pattern": {
           "shape": ""
          }
         },
         "name": "Belgium",
         "nbinsy": 14,
         "offsetgroup": "Belgium",
         "orientation": "h",
         "showlegend": true,
         "type": "histogram",
         "x": [
          9265134
         ],
         "xaxis": "x",
         "y": [
          "2022-12-31T00:00:00"
         ],
         "yaxis": "y"
        },
        {
         "alignmentgroup": "True",
         "bingroup": "y",
         "histfunc": "sum",
         "hovertemplate": "COUNTRY=Belize<br>sum of Population Vaccinated=%{x}<br>DATE_UPDATED=%{y}<extra></extra>",
         "legendgroup": "Belize",
         "marker": {
          "color": "rgb(188,128,189)",
          "pattern": {
           "shape": ""
          }
         },
         "name": "Belize",
         "nbinsy": 14,
         "offsetgroup": "Belize",
         "orientation": "h",
         "showlegend": true,
         "type": "histogram",
         "x": [
          251890
         ],
         "xaxis": "x",
         "y": [
          "2022-12-31T00:00:00"
         ],
         "yaxis": "y"
        },
        {
         "alignmentgroup": "True",
         "bingroup": "y",
         "histfunc": "sum",
         "hovertemplate": "COUNTRY=Benin<br>sum of Population Vaccinated=%{x}<br>DATE_UPDATED=%{y}<extra></extra>",
         "legendgroup": "Benin",
         "marker": {
          "color": "rgb(217,217,217)",
          "pattern": {
           "shape": ""
          }
         },
         "name": "Benin",
         "nbinsy": 14,
         "offsetgroup": "Benin",
         "orientation": "h",
         "showlegend": true,
         "type": "histogram",
         "x": [
          3697190
         ],
         "xaxis": "x",
         "y": [
          "2022-12-31T00:00:00"
         ],
         "yaxis": "y"
        },
        {
         "alignmentgroup": "True",
         "bingroup": "y",
         "histfunc": "sum",
         "hovertemplate": "COUNTRY=Bermuda<br>sum of Population Vaccinated=%{x}<br>DATE_UPDATED=%{y}<extra></extra>",
         "legendgroup": "Bermuda",
         "marker": {
          "color": "rgb(252,205,229)",
          "pattern": {
           "shape": ""
          }
         },
         "name": "Bermuda",
         "nbinsy": 14,
         "offsetgroup": "Bermuda",
         "orientation": "h",
         "showlegend": true,
         "type": "histogram",
         "x": [
          48554
         ],
         "xaxis": "x",
         "y": [
          "2022-12-31T00:00:00"
         ],
         "yaxis": "y"
        },
        {
         "alignmentgroup": "True",
         "bingroup": "y",
         "histfunc": "sum",
         "hovertemplate": "COUNTRY=Bolivia (Plurinational State of)<br>sum of Population Vaccinated=%{x}<br>DATE_UPDATED=%{y}<extra></extra>",
         "legendgroup": "Bolivia (Plurinational State of)",
         "marker": {
          "color": "rgb(179,222,105)",
          "pattern": {
           "shape": ""
          }
         },
         "name": "Bolivia (Plurinational State of)",
         "nbinsy": 14,
         "offsetgroup": "Bolivia (Plurinational State of)",
         "orientation": "h",
         "showlegend": true,
         "type": "histogram",
         "x": [
          7361008
         ],
         "xaxis": "x",
         "y": [
          "2022-12-31T00:00:00"
         ],
         "yaxis": "y"
        },
        {
         "alignmentgroup": "True",
         "bingroup": "y",
         "histfunc": "sum",
         "hovertemplate": "COUNTRY=Bonaire<br>sum of Population Vaccinated=%{x}<br>DATE_UPDATED=%{y}<extra></extra>",
         "legendgroup": "Bonaire",
         "marker": {
          "color": "rgb(253,180,98)",
          "pattern": {
           "shape": ""
          }
         },
         "name": "Bonaire",
         "nbinsy": 14,
         "offsetgroup": "Bonaire",
         "orientation": "h",
         "showlegend": true,
         "type": "histogram",
         "x": [
          19109
         ],
         "xaxis": "x",
         "y": [
          "2022-12-31T00:00:00"
         ],
         "yaxis": "y"
        },
        {
         "alignmentgroup": "True",
         "bingroup": "y",
         "histfunc": "sum",
         "hovertemplate": "COUNTRY=Botswana<br>sum of Population Vaccinated=%{x}<br>DATE_UPDATED=%{y}<extra></extra>",
         "legendgroup": "Botswana",
         "marker": {
          "color": "rgb(128,177,211)",
          "pattern": {
           "shape": ""
          }
         },
         "name": "Botswana",
         "nbinsy": 14,
         "offsetgroup": "Botswana",
         "orientation": "h",
         "showlegend": true,
         "type": "histogram",
         "x": [
          1691984
         ],
         "xaxis": "x",
         "y": [
          "2022-12-31T00:00:00"
         ],
         "yaxis": "y"
        },
        {
         "alignmentgroup": "True",
         "bingroup": "y",
         "histfunc": "sum",
         "hovertemplate": "COUNTRY=Brazil<br>sum of Population Vaccinated=%{x}<br>DATE_UPDATED=%{y}<extra></extra>",
         "legendgroup": "Brazil",
         "marker": {
          "color": "rgb(251,128,114)",
          "pattern": {
           "shape": ""
          }
         },
         "name": "Brazil",
         "nbinsy": 14,
         "offsetgroup": "Brazil",
         "orientation": "h",
         "showlegend": true,
         "type": "histogram",
         "x": [
          189087256
         ],
         "xaxis": "x",
         "y": [
          "2022-12-31T00:00:00"
         ],
         "yaxis": "y"
        },
        {
         "alignmentgroup": "True",
         "bingroup": "y",
         "histfunc": "sum",
         "hovertemplate": "COUNTRY=British Virgin Islands<br>sum of Population Vaccinated=%{x}<br>DATE_UPDATED=%{y}<extra></extra>",
         "legendgroup": "British Virgin Islands",
         "marker": {
          "color": "rgb(190,186,218)",
          "pattern": {
           "shape": ""
          }
         },
         "name": "British Virgin Islands",
         "nbinsy": 14,
         "offsetgroup": "British Virgin Islands",
         "orientation": "h",
         "showlegend": true,
         "type": "histogram",
         "x": [
          19466
         ],
         "xaxis": "x",
         "y": [
          "2022-12-31T00:00:00"
         ],
         "yaxis": "y"
        },
        {
         "alignmentgroup": "True",
         "bingroup": "y",
         "histfunc": "sum",
         "hovertemplate": "COUNTRY=Bulgaria<br>sum of Population Vaccinated=%{x}<br>DATE_UPDATED=%{y}<extra></extra>",
         "legendgroup": "Bulgaria",
         "marker": {
          "color": "rgb(255,255,179)",
          "pattern": {
           "shape": ""
          }
         },
         "name": "Bulgaria",
         "nbinsy": 14,
         "offsetgroup": "Bulgaria",
         "orientation": "h",
         "showlegend": true,
         "type": "histogram",
         "x": [
          2106111
         ],
         "xaxis": "x",
         "y": [
          "2022-12-31T00:00:00"
         ],
         "yaxis": "y"
        },
        {
         "alignmentgroup": "True",
         "bingroup": "y",
         "histfunc": "sum",
         "hovertemplate": "COUNTRY=Burundi<br>sum of Population Vaccinated=%{x}<br>DATE_UPDATED=%{y}<extra></extra>",
         "legendgroup": "Burundi",
         "marker": {
          "color": "rgb(141,211,199)",
          "pattern": {
           "shape": ""
          }
         },
         "name": "Burundi",
         "nbinsy": 14,
         "offsetgroup": "Burundi",
         "orientation": "h",
         "showlegend": true,
         "type": "histogram",
         "x": [
          31292
         ],
         "xaxis": "x",
         "y": [
          "2022-12-31T00:00:00"
         ],
         "yaxis": "y"
        },
        {
         "alignmentgroup": "True",
         "bingroup": "y",
         "histfunc": "sum",
         "hovertemplate": "COUNTRY=Cambodia<br>sum of Population Vaccinated=%{x}<br>DATE_UPDATED=%{y}<extra></extra>",
         "legendgroup": "Cambodia",
         "marker": {
          "color": "rgb(255,237,111)",
          "pattern": {
           "shape": ""
          }
         },
         "name": "Cambodia",
         "nbinsy": 14,
         "offsetgroup": "Cambodia",
         "orientation": "h",
         "showlegend": true,
         "type": "histogram",
         "x": [
          15254468
         ],
         "xaxis": "x",
         "y": [
          "2022-12-31T00:00:00"
         ],
         "yaxis": "y"
        },
        {
         "alignmentgroup": "True",
         "bingroup": "y",
         "histfunc": "sum",
         "hovertemplate": "COUNTRY=Cameroon<br>sum of Population Vaccinated=%{x}<br>DATE_UPDATED=%{y}<extra></extra>",
         "legendgroup": "Cameroon",
         "marker": {
          "color": "rgb(204,235,197)",
          "pattern": {
           "shape": ""
          }
         },
         "name": "Cameroon",
         "nbinsy": 14,
         "offsetgroup": "Cameroon",
         "orientation": "h",
         "showlegend": true,
         "type": "histogram",
         "x": [
          3666816
         ],
         "xaxis": "x",
         "y": [
          "2022-12-31T00:00:00"
         ],
         "yaxis": "y"
        },
        {
         "alignmentgroup": "True",
         "bingroup": "y",
         "histfunc": "sum",
         "hovertemplate": "COUNTRY=Canada<br>sum of Population Vaccinated=%{x}<br>DATE_UPDATED=%{y}<extra></extra>",
         "legendgroup": "Canada",
         "marker": {
          "color": "rgb(188,128,189)",
          "pattern": {
           "shape": ""
          }
         },
         "name": "Canada",
         "nbinsy": 14,
         "offsetgroup": "Canada",
         "orientation": "h",
         "showlegend": true,
         "type": "histogram",
         "x": [
          34763194
         ],
         "xaxis": "x",
         "y": [
          "2022-12-31T00:00:00"
         ],
         "yaxis": "y"
        },
        {
         "alignmentgroup": "True",
         "bingroup": "y",
         "histfunc": "sum",
         "hovertemplate": "COUNTRY=Cayman Islands<br>sum of Population Vaccinated=%{x}<br>DATE_UPDATED=%{y}<extra></extra>",
         "legendgroup": "Cayman Islands",
         "marker": {
          "color": "rgb(217,217,217)",
          "pattern": {
           "shape": ""
          }
         },
         "name": "Cayman Islands",
         "nbinsy": 14,
         "offsetgroup": "Cayman Islands",
         "orientation": "h",
         "showlegend": true,
         "type": "histogram",
         "x": [
          61859
         ],
         "xaxis": "x",
         "y": [
          "2022-12-31T00:00:00"
         ],
         "yaxis": "y"
        },
        {
         "alignmentgroup": "True",
         "bingroup": "y",
         "histfunc": "sum",
         "hovertemplate": "COUNTRY=Central African Republic<br>sum of Population Vaccinated=%{x}<br>DATE_UPDATED=%{y}<extra></extra>",
         "legendgroup": "Central African Republic",
         "marker": {
          "color": "rgb(252,205,229)",
          "pattern": {
           "shape": ""
          }
         },
         "name": "Central African Republic",
         "nbinsy": 14,
         "offsetgroup": "Central African Republic",
         "orientation": "h",
         "showlegend": true,
         "type": "histogram",
         "x": [
          2252721
         ],
         "xaxis": "x",
         "y": [
          "2022-12-31T00:00:00"
         ],
         "yaxis": "y"
        },
        {
         "alignmentgroup": "True",
         "bingroup": "y",
         "histfunc": "sum",
         "hovertemplate": "COUNTRY=Chad<br>sum of Population Vaccinated=%{x}<br>DATE_UPDATED=%{y}<extra></extra>",
         "legendgroup": "Chad",
         "marker": {
          "color": "rgb(179,222,105)",
          "pattern": {
           "shape": ""
          }
         },
         "name": "Chad",
         "nbinsy": 14,
         "offsetgroup": "Chad",
         "orientation": "h",
         "showlegend": true,
         "type": "histogram",
         "x": [
          6208632
         ],
         "xaxis": "x",
         "y": [
          "2022-12-31T00:00:00"
         ],
         "yaxis": "y"
        },
        {
         "alignmentgroup": "True",
         "bingroup": "y",
         "histfunc": "sum",
         "hovertemplate": "COUNTRY=Chile<br>sum of Population Vaccinated=%{x}<br>DATE_UPDATED=%{y}<extra></extra>",
         "legendgroup": "Chile",
         "marker": {
          "color": "rgb(253,180,98)",
          "pattern": {
           "shape": ""
          }
         },
         "name": "Chile",
         "nbinsy": 14,
         "offsetgroup": "Chile",
         "orientation": "h",
         "showlegend": true,
         "type": "histogram",
         "x": [
          18087979
         ],
         "xaxis": "x",
         "y": [
          "2022-12-31T00:00:00"
         ],
         "yaxis": "y"
        },
        {
         "alignmentgroup": "True",
         "bingroup": "y",
         "histfunc": "sum",
         "hovertemplate": "COUNTRY=Colombia<br>sum of Population Vaccinated=%{x}<br>DATE_UPDATED=%{y}<extra></extra>",
         "legendgroup": "Colombia",
         "marker": {
          "color": "rgb(128,177,211)",
          "pattern": {
           "shape": ""
          }
         },
         "name": "Colombia",
         "nbinsy": 14,
         "offsetgroup": "Colombia",
         "orientation": "h",
         "showlegend": true,
         "type": "histogram",
         "x": [
          42959468
         ],
         "xaxis": "x",
         "y": [
          "2022-12-31T00:00:00"
         ],
         "yaxis": "y"
        },
        {
         "alignmentgroup": "True",
         "bingroup": "y",
         "histfunc": "sum",
         "hovertemplate": "COUNTRY=Costa Rica<br>sum of Population Vaccinated=%{x}<br>DATE_UPDATED=%{y}<extra></extra>",
         "legendgroup": "Costa Rica",
         "marker": {
          "color": "rgb(251,128,114)",
          "pattern": {
           "shape": ""
          }
         },
         "name": "Costa Rica",
         "nbinsy": 14,
         "offsetgroup": "Costa Rica",
         "orientation": "h",
         "showlegend": true,
         "type": "histogram",
         "x": [
          4605172
         ],
         "xaxis": "x",
         "y": [
          "2022-12-31T00:00:00"
         ],
         "yaxis": "y"
        },
        {
         "alignmentgroup": "True",
         "bingroup": "y",
         "histfunc": "sum",
         "hovertemplate": "COUNTRY=Cuba<br>sum of Population Vaccinated=%{x}<br>DATE_UPDATED=%{y}<extra></extra>",
         "legendgroup": "Cuba",
         "marker": {
          "color": "rgb(190,186,218)",
          "pattern": {
           "shape": ""
          }
         },
         "name": "Cuba",
         "nbinsy": 14,
         "offsetgroup": "Cuba",
         "orientation": "h",
         "showlegend": true,
         "type": "histogram",
         "x": [
          10725175
         ],
         "xaxis": "x",
         "y": [
          "2022-12-31T00:00:00"
         ],
         "yaxis": "y"
        },
        {
         "alignmentgroup": "True",
         "bingroup": "y",
         "histfunc": "sum",
         "hovertemplate": "COUNTRY=Curaçao<br>sum of Population Vaccinated=%{x}<br>DATE_UPDATED=%{y}<extra></extra>",
         "legendgroup": "Curaçao",
         "marker": {
          "color": "rgb(255,255,179)",
          "pattern": {
           "shape": ""
          }
         },
         "name": "Curaçao",
         "nbinsy": 14,
         "offsetgroup": "Curaçao",
         "orientation": "h",
         "showlegend": true,
         "type": "histogram",
         "x": [
          108601
         ],
         "xaxis": "x",
         "y": [
          "2022-12-31T00:00:00"
         ],
         "yaxis": "y"
        },
        {
         "alignmentgroup": "True",
         "bingroup": "y",
         "histfunc": "sum",
         "hovertemplate": "COUNTRY=Cyprus<br>sum of Population Vaccinated=%{x}<br>DATE_UPDATED=%{y}<extra></extra>",
         "legendgroup": "Cyprus",
         "marker": {
          "color": "rgb(141,211,199)",
          "pattern": {
           "shape": ""
          }
         },
         "name": "Cyprus",
         "nbinsy": 14,
         "offsetgroup": "Cyprus",
         "orientation": "h",
         "showlegend": true,
         "type": "histogram",
         "x": [
          670969
         ],
         "xaxis": "x",
         "y": [
          "2022-12-31T00:00:00"
         ],
         "yaxis": "y"
        },
        {
         "alignmentgroup": "True",
         "bingroup": "y",
         "histfunc": "sum",
         "hovertemplate": "COUNTRY=Czechia<br>sum of Population Vaccinated=%{x}<br>DATE_UPDATED=%{y}<extra></extra>",
         "legendgroup": "Czechia",
         "marker": {
          "color": "rgb(255,237,111)",
          "pattern": {
           "shape": ""
          }
         },
         "name": "Czechia",
         "nbinsy": 14,
         "offsetgroup": "Czechia",
         "orientation": "h",
         "showlegend": true,
         "type": "histogram",
         "x": [
          6977754
         ],
         "xaxis": "x",
         "y": [
          "2022-12-31T00:00:00"
         ],
         "yaxis": "y"
        },
        {
         "alignmentgroup": "True",
         "bingroup": "y",
         "histfunc": "sum",
         "hovertemplate": "COUNTRY=Côte d'Ivoire<br>sum of Population Vaccinated=%{x}<br>DATE_UPDATED=%{y}<extra></extra>",
         "legendgroup": "Côte d'Ivoire",
         "marker": {
          "color": "rgb(204,235,197)",
          "pattern": {
           "shape": ""
          }
         },
         "name": "Côte d'Ivoire",
         "nbinsy": 14,
         "offsetgroup": "Côte d'Ivoire",
         "orientation": "h",
         "showlegend": true,
         "type": "histogram",
         "x": [
          13388664
         ],
         "xaxis": "x",
         "y": [
          "2022-12-31T00:00:00"
         ],
         "yaxis": "y"
        },
        {
         "alignmentgroup": "True",
         "bingroup": "y",
         "histfunc": "sum",
         "hovertemplate": "COUNTRY=Democratic Republic of the Congo<br>sum of Population Vaccinated=%{x}<br>DATE_UPDATED=%{y}<extra></extra>",
         "legendgroup": "Democratic Republic of the Congo",
         "marker": {
          "color": "rgb(188,128,189)",
          "pattern": {
           "shape": ""
          }
         },
         "name": "Democratic Republic of the Congo",
         "nbinsy": 14,
         "offsetgroup": "Democratic Republic of the Congo",
         "orientation": "h",
         "showlegend": true,
         "type": "histogram",
         "x": [
          695760
         ],
         "xaxis": "x",
         "y": [
          "2022-12-31T00:00:00"
         ],
         "yaxis": "y"
        },
        {
         "alignmentgroup": "True",
         "bingroup": "y",
         "histfunc": "sum",
         "hovertemplate": "COUNTRY=Denmark<br>sum of Population Vaccinated=%{x}<br>DATE_UPDATED=%{y}<extra></extra>",
         "legendgroup": "Denmark",
         "marker": {
          "color": "rgb(217,217,217)",
          "pattern": {
           "shape": ""
          }
         },
         "name": "Denmark",
         "nbinsy": 14,
         "offsetgroup": "Denmark",
         "orientation": "h",
         "showlegend": true,
         "type": "histogram",
         "x": [
          4790321
         ],
         "xaxis": "x",
         "y": [
          "2022-12-31T00:00:00"
         ],
         "yaxis": "y"
        },
        {
         "alignmentgroup": "True",
         "bingroup": "y",
         "histfunc": "sum",
         "hovertemplate": "COUNTRY=Djibouti<br>sum of Population Vaccinated=%{x}<br>DATE_UPDATED=%{y}<extra></extra>",
         "legendgroup": "Djibouti",
         "marker": {
          "color": "rgb(252,205,229)",
          "pattern": {
           "shape": ""
          }
         },
         "name": "Djibouti",
         "nbinsy": 14,
         "offsetgroup": "Djibouti",
         "orientation": "h",
         "showlegend": true,
         "type": "histogram",
         "x": [
          317428
         ],
         "xaxis": "x",
         "y": [
          "2022-12-31T00:00:00"
         ],
         "yaxis": "y"
        },
        {
         "alignmentgroup": "True",
         "bingroup": "y",
         "histfunc": "sum",
         "hovertemplate": "COUNTRY=Dominica<br>sum of Population Vaccinated=%{x}<br>DATE_UPDATED=%{y}<extra></extra>",
         "legendgroup": "Dominica",
         "marker": {
          "color": "rgb(179,222,105)",
          "pattern": {
           "shape": ""
          }
         },
         "name": "Dominica",
         "nbinsy": 14,
         "offsetgroup": "Dominica",
         "orientation": "h",
         "showlegend": true,
         "type": "histogram",
         "x": [
          32995
         ],
         "xaxis": "x",
         "y": [
          "2022-12-31T00:00:00"
         ],
         "yaxis": "y"
        },
        {
         "alignmentgroup": "True",
         "bingroup": "y",
         "histfunc": "sum",
         "hovertemplate": "COUNTRY=Dominican Republic<br>sum of Population Vaccinated=%{x}<br>DATE_UPDATED=%{y}<extra></extra>",
         "legendgroup": "Dominican Republic",
         "marker": {
          "color": "rgb(253,180,98)",
          "pattern": {
           "shape": ""
          }
         },
         "name": "Dominican Republic",
         "nbinsy": 14,
         "offsetgroup": "Dominican Republic",
         "orientation": "h",
         "showlegend": true,
         "type": "histogram",
         "x": [
          7305984
         ],
         "xaxis": "x",
         "y": [
          "2022-12-31T00:00:00"
         ],
         "yaxis": "y"
        },
        {
         "alignmentgroup": "True",
         "bingroup": "y",
         "histfunc": "sum",
         "hovertemplate": "COUNTRY=Ecuador<br>sum of Population Vaccinated=%{x}<br>DATE_UPDATED=%{y}<extra></extra>",
         "legendgroup": "Ecuador",
         "marker": {
          "color": "rgb(128,177,211)",
          "pattern": {
           "shape": ""
          }
         },
         "name": "Ecuador",
         "nbinsy": 14,
         "offsetgroup": "Ecuador",
         "orientation": "h",
         "showlegend": true,
         "type": "histogram",
         "x": [
          15325894
         ],
         "xaxis": "x",
         "y": [
          "2022-12-31T00:00:00"
         ],
         "yaxis": "y"
        },
        {
         "alignmentgroup": "True",
         "bingroup": "y",
         "histfunc": "sum",
         "hovertemplate": "COUNTRY=Egypt<br>sum of Population Vaccinated=%{x}<br>DATE_UPDATED=%{y}<extra></extra>",
         "legendgroup": "Egypt",
         "marker": {
          "color": "rgb(251,128,114)",
          "pattern": {
           "shape": ""
          }
         },
         "name": "Egypt",
         "nbinsy": 14,
         "offsetgroup": "Egypt",
         "orientation": "h",
         "showlegend": true,
         "type": "histogram",
         "x": [
          53850471
         ],
         "xaxis": "x",
         "y": [
          "2022-12-31T00:00:00"
         ],
         "yaxis": "y"
        },
        {
         "alignmentgroup": "True",
         "bingroup": "y",
         "histfunc": "sum",
         "hovertemplate": "COUNTRY=El Salvador<br>sum of Population Vaccinated=%{x}<br>DATE_UPDATED=%{y}<extra></extra>",
         "legendgroup": "El Salvador",
         "marker": {
          "color": "rgb(190,186,218)",
          "pattern": {
           "shape": ""
          }
         },
         "name": "El Salvador",
         "nbinsy": 14,
         "offsetgroup": "El Salvador",
         "orientation": "h",
         "showlegend": true,
         "type": "histogram",
         "x": [
          4652597
         ],
         "xaxis": "x",
         "y": [
          "2022-12-31T00:00:00"
         ],
         "yaxis": "y"
        },
        {
         "alignmentgroup": "True",
         "bingroup": "y",
         "histfunc": "sum",
         "hovertemplate": "COUNTRY=Estonia<br>sum of Population Vaccinated=%{x}<br>DATE_UPDATED=%{y}<extra></extra>",
         "legendgroup": "Estonia",
         "marker": {
          "color": "rgb(255,255,179)",
          "pattern": {
           "shape": ""
          }
         },
         "name": "Estonia",
         "nbinsy": 14,
         "offsetgroup": "Estonia",
         "orientation": "h",
         "showlegend": true,
         "type": "histogram",
         "x": [
          868944
         ],
         "xaxis": "x",
         "y": [
          "2022-12-31T00:00:00"
         ],
         "yaxis": "y"
        },
        {
         "alignmentgroup": "True",
         "bingroup": "y",
         "histfunc": "sum",
         "hovertemplate": "COUNTRY=Eswatini<br>sum of Population Vaccinated=%{x}<br>DATE_UPDATED=%{y}<extra></extra>",
         "legendgroup": "Eswatini",
         "marker": {
          "color": "rgb(141,211,199)",
          "pattern": {
           "shape": ""
          }
         },
         "name": "Eswatini",
         "nbinsy": 14,
         "offsetgroup": "Eswatini",
         "orientation": "h",
         "showlegend": true,
         "type": "histogram",
         "x": [
          507582
         ],
         "xaxis": "x",
         "y": [
          "2022-12-31T00:00:00"
         ],
         "yaxis": "y"
        },
        {
         "alignmentgroup": "True",
         "bingroup": "y",
         "histfunc": "sum",
         "hovertemplate": "COUNTRY=Finland<br>sum of Population Vaccinated=%{x}<br>DATE_UPDATED=%{y}<extra></extra>",
         "legendgroup": "Finland",
         "marker": {
          "color": "rgb(255,237,111)",
          "pattern": {
           "shape": ""
          }
         },
         "name": "Finland",
         "nbinsy": 14,
         "offsetgroup": "Finland",
         "orientation": "h",
         "showlegend": true,
         "type": "histogram",
         "x": [
          4524351
         ],
         "xaxis": "x",
         "y": [
          "2022-12-31T00:00:00"
         ],
         "yaxis": "y"
        },
        {
         "alignmentgroup": "True",
         "bingroup": "y",
         "histfunc": "sum",
         "hovertemplate": "COUNTRY=France<br>sum of Population Vaccinated=%{x}<br>DATE_UPDATED=%{y}<extra></extra>",
         "legendgroup": "France",
         "marker": {
          "color": "rgb(204,235,197)",
          "pattern": {
           "shape": ""
          }
         },
         "name": "France",
         "nbinsy": 14,
         "offsetgroup": "France",
         "orientation": "h",
         "showlegend": true,
         "type": "histogram",
         "x": [
          54649808
         ],
         "xaxis": "x",
         "y": [
          "2022-12-31T00:00:00"
         ],
         "yaxis": "y"
        },
        {
         "alignmentgroup": "True",
         "bingroup": "y",
         "histfunc": "sum",
         "hovertemplate": "COUNTRY=French Guiana<br>sum of Population Vaccinated=%{x}<br>DATE_UPDATED=%{y}<extra></extra>",
         "legendgroup": "French Guiana",
         "marker": {
          "color": "rgb(188,128,189)",
          "pattern": {
           "shape": ""
          }
         },
         "name": "French Guiana",
         "nbinsy": 14,
         "offsetgroup": "French Guiana",
         "orientation": "h",
         "showlegend": true,
         "type": "histogram",
         "x": [
          6087292
         ],
         "xaxis": "x",
         "y": [
          "2022-12-31T00:00:00"
         ],
         "yaxis": "y"
        },
        {
         "alignmentgroup": "True",
         "bingroup": "y",
         "histfunc": "sum",
         "hovertemplate": "COUNTRY=Germany<br>sum of Population Vaccinated=%{x}<br>DATE_UPDATED=%{y}<extra></extra>",
         "legendgroup": "Germany",
         "marker": {
          "color": "rgb(217,217,217)",
          "pattern": {
           "shape": ""
          }
         },
         "name": "Germany",
         "nbinsy": 14,
         "offsetgroup": "Germany",
         "orientation": "h",
         "showlegend": true,
         "type": "histogram",
         "x": [
          64870211
         ],
         "xaxis": "x",
         "y": [
          "2022-12-31T00:00:00"
         ],
         "yaxis": "y"
        },
        {
         "alignmentgroup": "True",
         "bingroup": "y",
         "histfunc": "sum",
         "hovertemplate": "COUNTRY=Ghana<br>sum of Population Vaccinated=%{x}<br>DATE_UPDATED=%{y}<extra></extra>",
         "legendgroup": "Ghana",
         "marker": {
          "color": "rgb(252,205,229)",
          "pattern": {
           "shape": ""
          }
         },
         "name": "Ghana",
         "nbinsy": 14,
         "offsetgroup": "Ghana",
         "orientation": "h",
         "showlegend": true,
         "type": "histogram",
         "x": [
          12853113
         ],
         "xaxis": "x",
         "y": [
          "2022-12-31T00:00:00"
         ],
         "yaxis": "y"
        },
        {
         "alignmentgroup": "True",
         "bingroup": "y",
         "histfunc": "sum",
         "hovertemplate": "COUNTRY=Gibraltar<br>sum of Population Vaccinated=%{x}<br>DATE_UPDATED=%{y}<extra></extra>",
         "legendgroup": "Gibraltar",
         "marker": {
          "color": "rgb(179,222,105)",
          "pattern": {
           "shape": ""
          }
         },
         "name": "Gibraltar",
         "nbinsy": 14,
         "offsetgroup": "Gibraltar",
         "orientation": "h",
         "showlegend": true,
         "type": "histogram",
         "x": [
          42175
         ],
         "xaxis": "x",
         "y": [
          "2022-12-31T00:00:00"
         ],
         "yaxis": "y"
        },
        {
         "alignmentgroup": "True",
         "bingroup": "y",
         "histfunc": "sum",
         "hovertemplate": "COUNTRY=Greece<br>sum of Population Vaccinated=%{x}<br>DATE_UPDATED=%{y}<extra></extra>",
         "legendgroup": "Greece",
         "marker": {
          "color": "rgb(253,180,98)",
          "pattern": {
           "shape": ""
          }
         },
         "name": "Greece",
         "nbinsy": 14,
         "offsetgroup": "Greece",
         "orientation": "h",
         "showlegend": true,
         "type": "histogram",
         "x": [
          7933490
         ],
         "xaxis": "x",
         "y": [
          "2022-12-31T00:00:00"
         ],
         "yaxis": "y"
        },
        {
         "alignmentgroup": "True",
         "bingroup": "y",
         "histfunc": "sum",
         "hovertemplate": "COUNTRY=Grenada<br>sum of Population Vaccinated=%{x}<br>DATE_UPDATED=%{y}<extra></extra>",
         "legendgroup": "Grenada",
         "marker": {
          "color": "rgb(128,177,211)",
          "pattern": {
           "shape": ""
          }
         },
         "name": "Grenada",
         "nbinsy": 14,
         "offsetgroup": "Grenada",
         "orientation": "h",
         "showlegend": true,
         "type": "histogram",
         "x": [
          44180
         ],
         "xaxis": "x",
         "y": [
          "2022-12-31T00:00:00"
         ],
         "yaxis": "y"
        },
        {
         "alignmentgroup": "True",
         "bingroup": "y",
         "histfunc": "sum",
         "hovertemplate": "COUNTRY=Guadeloupe<br>sum of Population Vaccinated=%{x}<br>DATE_UPDATED=%{y}<extra></extra>",
         "legendgroup": "Guadeloupe",
         "marker": {
          "color": "rgb(251,128,114)",
          "pattern": {
           "shape": ""
          }
         },
         "name": "Guadeloupe",
         "nbinsy": 14,
         "offsetgroup": "Guadeloupe",
         "orientation": "h",
         "showlegend": true,
         "type": "histogram",
         "x": [
          0
         ],
         "xaxis": "x",
         "y": [
          "2022-12-31T00:00:00"
         ],
         "yaxis": "y"
        },
        {
         "alignmentgroup": "True",
         "bingroup": "y",
         "histfunc": "sum",
         "hovertemplate": "COUNTRY=Guatemala<br>sum of Population Vaccinated=%{x}<br>DATE_UPDATED=%{y}<extra></extra>",
         "legendgroup": "Guatemala",
         "marker": {
          "color": "rgb(190,186,218)",
          "pattern": {
           "shape": ""
          }
         },
         "name": "Guatemala",
         "nbinsy": 14,
         "offsetgroup": "Guatemala",
         "orientation": "h",
         "showlegend": true,
         "type": "histogram",
         "x": [
          8893019
         ],
         "xaxis": "x",
         "y": [
          "2022-12-31T00:00:00"
         ],
         "yaxis": "y"
        },
        {
         "alignmentgroup": "True",
         "bingroup": "y",
         "histfunc": "sum",
         "hovertemplate": "COUNTRY=Guernsey<br>sum of Population Vaccinated=%{x}<br>DATE_UPDATED=%{y}<extra></extra>",
         "legendgroup": "Guernsey",
         "marker": {
          "color": "rgb(255,255,179)",
          "pattern": {
           "shape": ""
          }
         },
         "name": "Guernsey",
         "nbinsy": 14,
         "offsetgroup": "Guernsey",
         "orientation": "h",
         "showlegend": true,
         "type": "histogram",
         "x": [
          54223
         ],
         "xaxis": "x",
         "y": [
          "2022-12-31T00:00:00"
         ],
         "yaxis": "y"
        },
        {
         "alignmentgroup": "True",
         "bingroup": "y",
         "histfunc": "sum",
         "hovertemplate": "COUNTRY=Guinea<br>sum of Population Vaccinated=%{x}<br>DATE_UPDATED=%{y}<extra></extra>",
         "legendgroup": "Guinea",
         "marker": {
          "color": "rgb(141,211,199)",
          "pattern": {
           "shape": ""
          }
         },
         "name": "Guinea",
         "nbinsy": 14,
         "offsetgroup": "Guinea",
         "orientation": "h",
         "showlegend": true,
         "type": "histogram",
         "x": [
          6087292
         ],
         "xaxis": "x",
         "y": [
          "2022-12-31T00:00:00"
         ],
         "yaxis": "y"
        },
        {
         "alignmentgroup": "True",
         "bingroup": "y",
         "histfunc": "sum",
         "hovertemplate": "COUNTRY=Guinea-Bissau<br>sum of Population Vaccinated=%{x}<br>DATE_UPDATED=%{y}<extra></extra>",
         "legendgroup": "Guinea-Bissau",
         "marker": {
          "color": "rgb(255,237,111)",
          "pattern": {
           "shape": ""
          }
         },
         "name": "Guinea-Bissau",
         "nbinsy": 14,
         "offsetgroup": "Guinea-Bissau",
         "orientation": "h",
         "showlegend": true,
         "type": "histogram",
         "x": [
          640393
         ],
         "xaxis": "x",
         "y": [
          "2022-12-31T00:00:00"
         ],
         "yaxis": "y"
        },
        {
         "alignmentgroup": "True",
         "bingroup": "y",
         "histfunc": "sum",
         "hovertemplate": "COUNTRY=Guyana<br>sum of Population Vaccinated=%{x}<br>DATE_UPDATED=%{y}<extra></extra>",
         "legendgroup": "Guyana",
         "marker": {
          "color": "rgb(204,235,197)",
          "pattern": {
           "shape": ""
          }
         },
         "name": "Guyana",
         "nbinsy": 14,
         "offsetgroup": "Guyana",
         "orientation": "h",
         "showlegend": true,
         "type": "histogram",
         "x": [
          493404
         ],
         "xaxis": "x",
         "y": [
          "2022-12-31T00:00:00"
         ],
         "yaxis": "y"
        },
        {
         "alignmentgroup": "True",
         "bingroup": "y",
         "histfunc": "sum",
         "hovertemplate": "COUNTRY=Haiti<br>sum of Population Vaccinated=%{x}<br>DATE_UPDATED=%{y}<extra></extra>",
         "legendgroup": "Haiti",
         "marker": {
          "color": "rgb(188,128,189)",
          "pattern": {
           "shape": ""
          }
         },
         "name": "Haiti",
         "nbinsy": 14,
         "offsetgroup": "Haiti",
         "orientation": "h",
         "showlegend": true,
         "type": "histogram",
         "x": [
          406534
         ],
         "xaxis": "x",
         "y": [
          "2022-12-31T00:00:00"
         ],
         "yaxis": "y"
        },
        {
         "alignmentgroup": "True",
         "bingroup": "y",
         "histfunc": "sum",
         "hovertemplate": "COUNTRY=Honduras<br>sum of Population Vaccinated=%{x}<br>DATE_UPDATED=%{y}<extra></extra>",
         "legendgroup": "Honduras",
         "marker": {
          "color": "rgb(217,217,217)",
          "pattern": {
           "shape": ""
          }
         },
         "name": "Honduras",
         "nbinsy": 14,
         "offsetgroup": "Honduras",
         "orientation": "h",
         "showlegend": true,
         "type": "histogram",
         "x": [
          6479241
         ],
         "xaxis": "x",
         "y": [
          "2022-12-31T00:00:00"
         ],
         "yaxis": "y"
        },
        {
         "alignmentgroup": "True",
         "bingroup": "y",
         "histfunc": "sum",
         "hovertemplate": "COUNTRY=Hungary<br>sum of Population Vaccinated=%{x}<br>DATE_UPDATED=%{y}<extra></extra>",
         "legendgroup": "Hungary",
         "marker": {
          "color": "rgb(252,205,229)",
          "pattern": {
           "shape": ""
          }
         },
         "name": "Hungary",
         "nbinsy": 14,
         "offsetgroup": "Hungary",
         "orientation": "h",
         "showlegend": true,
         "type": "histogram",
         "x": [
          6420813
         ],
         "xaxis": "x",
         "y": [
          "2022-12-31T00:00:00"
         ],
         "yaxis": "y"
        },
        {
         "alignmentgroup": "True",
         "bingroup": "y",
         "histfunc": "sum",
         "hovertemplate": "COUNTRY=Iceland<br>sum of Population Vaccinated=%{x}<br>DATE_UPDATED=%{y}<extra></extra>",
         "legendgroup": "Iceland",
         "marker": {
          "color": "rgb(179,222,105)",
          "pattern": {
           "shape": ""
          }
         },
         "name": "Iceland",
         "nbinsy": 14,
         "offsetgroup": "Iceland",
         "orientation": "h",
         "showlegend": true,
         "type": "histogram",
         "x": [
          309770
         ],
         "xaxis": "x",
         "y": [
          "2022-12-31T00:00:00"
         ],
         "yaxis": "y"
        },
        {
         "alignmentgroup": "True",
         "bingroup": "y",
         "histfunc": "sum",
         "hovertemplate": "COUNTRY=India<br>sum of Population Vaccinated=%{x}<br>DATE_UPDATED=%{y}<extra></extra>",
         "legendgroup": "India",
         "marker": {
          "color": "rgb(253,180,98)",
          "pattern": {
           "shape": ""
          }
         },
         "name": "India",
         "nbinsy": 14,
         "offsetgroup": "India",
         "orientation": "h",
         "showlegend": true,
         "type": "histogram",
         "x": [
          1027346076
         ],
         "xaxis": "x",
         "y": [
          "2022-12-31T00:00:00"
         ],
         "yaxis": "y"
        },
        {
         "alignmentgroup": "True",
         "bingroup": "y",
         "histfunc": "sum",
         "hovertemplate": "COUNTRY=Indonesia<br>sum of Population Vaccinated=%{x}<br>DATE_UPDATED=%{y}<extra></extra>",
         "legendgroup": "Indonesia",
         "marker": {
          "color": "rgb(128,177,211)",
          "pattern": {
           "shape": ""
          }
         },
         "name": "Indonesia",
         "nbinsy": 14,
         "offsetgroup": "Indonesia",
         "orientation": "h",
         "showlegend": true,
         "type": "histogram",
         "x": [
          203657535
         ],
         "xaxis": "x",
         "y": [
          "2022-12-31T00:00:00"
         ],
         "yaxis": "y"
        },
        {
         "alignmentgroup": "True",
         "bingroup": "y",
         "histfunc": "sum",
         "hovertemplate": "COUNTRY=Iran (Islamic Republic of)<br>sum of Population Vaccinated=%{x}<br>DATE_UPDATED=%{y}<extra></extra>",
         "legendgroup": "Iran (Islamic Republic of)",
         "marker": {
          "color": "rgb(251,128,114)",
          "pattern": {
           "shape": ""
          }
         },
         "name": "Iran (Islamic Republic of)",
         "nbinsy": 14,
         "offsetgroup": "Iran (Islamic Republic of)",
         "orientation": "h",
         "showlegend": true,
         "type": "histogram",
         "x": [
          65150916
         ],
         "xaxis": "x",
         "y": [
          "2022-12-31T00:00:00"
         ],
         "yaxis": "y"
        },
        {
         "alignmentgroup": "True",
         "bingroup": "y",
         "histfunc": "sum",
         "hovertemplate": "COUNTRY=Iraq<br>sum of Population Vaccinated=%{x}<br>DATE_UPDATED=%{y}<extra></extra>",
         "legendgroup": "Iraq",
         "marker": {
          "color": "rgb(190,186,218)",
          "pattern": {
           "shape": ""
          }
         },
         "name": "Iraq",
         "nbinsy": 14,
         "offsetgroup": "Iraq",
         "orientation": "h",
         "showlegend": true,
         "type": "histogram",
         "x": [
          11332925
         ],
         "xaxis": "x",
         "y": [
          "2022-12-31T00:00:00"
         ],
         "yaxis": "y"
        },
        {
         "alignmentgroup": "True",
         "bingroup": "y",
         "histfunc": "sum",
         "hovertemplate": "COUNTRY=Ireland<br>sum of Population Vaccinated=%{x}<br>DATE_UPDATED=%{y}<extra></extra>",
         "legendgroup": "Ireland",
         "marker": {
          "color": "rgb(255,255,179)",
          "pattern": {
           "shape": ""
          }
         },
         "name": "Ireland",
         "nbinsy": 14,
         "offsetgroup": "Ireland",
         "orientation": "h",
         "showlegend": true,
         "type": "histogram",
         "x": [
          4107220
         ],
         "xaxis": "x",
         "y": [
          "2022-12-31T00:00:00"
         ],
         "yaxis": "y"
        },
        {
         "alignmentgroup": "True",
         "bingroup": "y",
         "histfunc": "sum",
         "hovertemplate": "COUNTRY=Italy<br>sum of Population Vaccinated=%{x}<br>DATE_UPDATED=%{y}<extra></extra>",
         "legendgroup": "Italy",
         "marker": {
          "color": "rgb(141,211,199)",
          "pattern": {
           "shape": ""
          }
         },
         "name": "Italy",
         "nbinsy": 14,
         "offsetgroup": "Italy",
         "orientation": "h",
         "showlegend": true,
         "type": "histogram",
         "x": [
          50873342
         ],
         "xaxis": "x",
         "y": [
          "2022-12-31T00:00:00"
         ],
         "yaxis": "y"
        },
        {
         "alignmentgroup": "True",
         "bingroup": "y",
         "histfunc": "sum",
         "hovertemplate": "COUNTRY=Jamaica<br>sum of Population Vaccinated=%{x}<br>DATE_UPDATED=%{y}<extra></extra>",
         "legendgroup": "Jamaica",
         "marker": {
          "color": "rgb(255,237,111)",
          "pattern": {
           "shape": ""
          }
         },
         "name": "Jamaica",
         "nbinsy": 14,
         "offsetgroup": "Jamaica",
         "orientation": "h",
         "showlegend": true,
         "type": "histogram",
         "x": [
          847490
         ],
         "xaxis": "x",
         "y": [
          "2022-12-31T00:00:00"
         ],
         "yaxis": "y"
        },
        {
         "alignmentgroup": "True",
         "bingroup": "y",
         "histfunc": "sum",
         "hovertemplate": "COUNTRY=Jersey<br>sum of Population Vaccinated=%{x}<br>DATE_UPDATED=%{y}<extra></extra>",
         "legendgroup": "Jersey",
         "marker": {
          "color": "rgb(204,235,197)",
          "pattern": {
           "shape": ""
          }
         },
         "name": "Jersey",
         "nbinsy": 14,
         "offsetgroup": "Jersey",
         "orientation": "h",
         "showlegend": true,
         "type": "histogram",
         "x": [
          84365
         ],
         "xaxis": "x",
         "y": [
          "2022-12-31T00:00:00"
         ],
         "yaxis": "y"
        },
        {
         "alignmentgroup": "True",
         "bingroup": "y",
         "histfunc": "sum",
         "hovertemplate": "COUNTRY=Kazakhstan<br>sum of Population Vaccinated=%{x}<br>DATE_UPDATED=%{y}<extra></extra>",
         "legendgroup": "Kazakhstan",
         "marker": {
          "color": "rgb(188,128,189)",
          "pattern": {
           "shape": ""
          }
         },
         "name": "Kazakhstan",
         "nbinsy": 14,
         "offsetgroup": "Kazakhstan",
         "orientation": "h",
         "showlegend": true,
         "type": "histogram",
         "x": [
          10858101
         ],
         "xaxis": "x",
         "y": [
          "2022-12-31T00:00:00"
         ],
         "yaxis": "y"
        },
        {
         "alignmentgroup": "True",
         "bingroup": "y",
         "histfunc": "sum",
         "hovertemplate": "COUNTRY=Kenya<br>sum of Population Vaccinated=%{x}<br>DATE_UPDATED=%{y}<extra></extra>",
         "legendgroup": "Kenya",
         "marker": {
          "color": "rgb(217,217,217)",
          "pattern": {
           "shape": ""
          }
         },
         "name": "Kenya",
         "nbinsy": 14,
         "offsetgroup": "Kenya",
         "orientation": "h",
         "showlegend": true,
         "type": "histogram",
         "x": [
          14242625
         ],
         "xaxis": "x",
         "y": [
          "2022-12-31T00:00:00"
         ],
         "yaxis": "y"
        },
        {
         "alignmentgroup": "True",
         "bingroup": "y",
         "histfunc": "sum",
         "hovertemplate": "COUNTRY=Kuwait<br>sum of Population Vaccinated=%{x}<br>DATE_UPDATED=%{y}<extra></extra>",
         "legendgroup": "Kuwait",
         "marker": {
          "color": "rgb(252,205,229)",
          "pattern": {
           "shape": ""
          }
         },
         "name": "Kuwait",
         "nbinsy": 14,
         "offsetgroup": "Kuwait",
         "orientation": "h",
         "showlegend": true,
         "type": "histogram",
         "x": [
          3456075
         ],
         "xaxis": "x",
         "y": [
          "2022-12-31T00:00:00"
         ],
         "yaxis": "y"
        },
        {
         "alignmentgroup": "True",
         "bingroup": "y",
         "histfunc": "sum",
         "hovertemplate": "COUNTRY=Kyrgyzstan<br>sum of Population Vaccinated=%{x}<br>DATE_UPDATED=%{y}<extra></extra>",
         "legendgroup": "Kyrgyzstan",
         "marker": {
          "color": "rgb(179,222,105)",
          "pattern": {
           "shape": ""
          }
         },
         "name": "Kyrgyzstan",
         "nbinsy": 14,
         "offsetgroup": "Kyrgyzstan",
         "orientation": "h",
         "showlegend": true,
         "type": "histogram",
         "x": [
          1646141
         ],
         "xaxis": "x",
         "y": [
          "2022-12-31T00:00:00"
         ],
         "yaxis": "y"
        },
        {
         "alignmentgroup": "True",
         "bingroup": "y",
         "histfunc": "sum",
         "hovertemplate": "COUNTRY=Latvia<br>sum of Population Vaccinated=%{x}<br>DATE_UPDATED=%{y}<extra></extra>",
         "legendgroup": "Latvia",
         "marker": {
          "color": "rgb(253,180,98)",
          "pattern": {
           "shape": ""
          }
         },
         "name": "Latvia",
         "nbinsy": 14,
         "offsetgroup": "Latvia",
         "orientation": "h",
         "showlegend": true,
         "type": "histogram",
         "x": [
          1346184
         ],
         "xaxis": "x",
         "y": [
          "2022-12-31T00:00:00"
         ],
         "yaxis": "y"
        },
        {
         "alignmentgroup": "True",
         "bingroup": "y",
         "histfunc": "sum",
         "hovertemplate": "COUNTRY=Lebanon<br>sum of Population Vaccinated=%{x}<br>DATE_UPDATED=%{y}<extra></extra>",
         "legendgroup": "Lebanon",
         "marker": {
          "color": "rgb(128,177,211)",
          "pattern": {
           "shape": ""
          }
         },
         "name": "Lebanon",
         "nbinsy": 14,
         "offsetgroup": "Lebanon",
         "orientation": "h",
         "showlegend": true,
         "type": "histogram",
         "x": [
          2740227
         ],
         "xaxis": "x",
         "y": [
          "2022-12-31T00:00:00"
         ],
         "yaxis": "y"
        },
        {
         "alignmentgroup": "True",
         "bingroup": "y",
         "histfunc": "sum",
         "hovertemplate": "COUNTRY=Lesotho<br>sum of Population Vaccinated=%{x}<br>DATE_UPDATED=%{y}<extra></extra>",
         "legendgroup": "Lesotho",
         "marker": {
          "color": "rgb(251,128,114)",
          "pattern": {
           "shape": ""
          }
         },
         "name": "Lesotho",
         "nbinsy": 14,
         "offsetgroup": "Lesotho",
         "orientation": "h",
         "showlegend": true,
         "type": "histogram",
         "x": [
          998183
         ],
         "xaxis": "x",
         "y": [
          "2022-12-31T00:00:00"
         ],
         "yaxis": "y"
        },
        {
         "alignmentgroup": "True",
         "bingroup": "y",
         "histfunc": "sum",
         "hovertemplate": "COUNTRY=Liberia<br>sum of Population Vaccinated=%{x}<br>DATE_UPDATED=%{y}<extra></extra>",
         "legendgroup": "Liberia",
         "marker": {
          "color": "rgb(190,186,218)",
          "pattern": {
           "shape": ""
          }
         },
         "name": "Liberia",
         "nbinsy": 14,
         "offsetgroup": "Liberia",
         "orientation": "h",
         "showlegend": true,
         "type": "histogram",
         "x": [
          3903802
         ],
         "xaxis": "x",
         "y": [
          "2022-12-31T00:00:00"
         ],
         "yaxis": "y"
        },
        {
         "alignmentgroup": "True",
         "bingroup": "y",
         "histfunc": "sum",
         "hovertemplate": "COUNTRY=Lithuania<br>sum of Population Vaccinated=%{x}<br>DATE_UPDATED=%{y}<extra></extra>",
         "legendgroup": "Lithuania",
         "marker": {
          "color": "rgb(255,255,179)",
          "pattern": {
           "shape": ""
          }
         },
         "name": "Lithuania",
         "nbinsy": 14,
         "offsetgroup": "Lithuania",
         "orientation": "h",
         "showlegend": true,
         "type": "histogram",
         "x": [
          1956721
         ],
         "xaxis": "x",
         "y": [
          "2022-12-31T00:00:00"
         ],
         "yaxis": "y"
        },
        {
         "alignmentgroup": "True",
         "bingroup": "y",
         "histfunc": "sum",
         "hovertemplate": "COUNTRY=Luxembourg<br>sum of Population Vaccinated=%{x}<br>DATE_UPDATED=%{y}<extra></extra>",
         "legendgroup": "Luxembourg",
         "marker": {
          "color": "rgb(141,211,199)",
          "pattern": {
           "shape": ""
          }
         },
         "name": "Luxembourg",
         "nbinsy": 14,
         "offsetgroup": "Luxembourg",
         "orientation": "h",
         "showlegend": true,
         "type": "histogram",
         "x": [
          481927
         ],
         "xaxis": "x",
         "y": [
          "2022-12-31T00:00:00"
         ],
         "yaxis": "y"
        },
        {
         "alignmentgroup": "True",
         "bingroup": "y",
         "histfunc": "sum",
         "hovertemplate": "COUNTRY=Madagascar<br>sum of Population Vaccinated=%{x}<br>DATE_UPDATED=%{y}<extra></extra>",
         "legendgroup": "Madagascar",
         "marker": {
          "color": "rgb(255,237,111)",
          "pattern": {
           "shape": ""
          }
         },
         "name": "Madagascar",
         "nbinsy": 14,
         "offsetgroup": "Madagascar",
         "orientation": "h",
         "showlegend": true,
         "type": "histogram",
         "x": [
          2183010
         ],
         "xaxis": "x",
         "y": [
          "2022-12-31T00:00:00"
         ],
         "yaxis": "y"
        },
        {
         "alignmentgroup": "True",
         "bingroup": "y",
         "histfunc": "sum",
         "hovertemplate": "COUNTRY=Malawi<br>sum of Population Vaccinated=%{x}<br>DATE_UPDATED=%{y}<extra></extra>",
         "legendgroup": "Malawi",
         "marker": {
          "color": "rgb(204,235,197)",
          "pattern": {
           "shape": ""
          }
         },
         "name": "Malawi",
         "nbinsy": 14,
         "offsetgroup": "Malawi",
         "orientation": "h",
         "showlegend": true,
         "type": "histogram",
         "x": [
          4932472
         ],
         "xaxis": "x",
         "y": [
          "2022-12-31T00:00:00"
         ],
         "yaxis": "y"
        },
        {
         "alignmentgroup": "True",
         "bingroup": "y",
         "histfunc": "sum",
         "hovertemplate": "COUNTRY=Malaysia<br>sum of Population Vaccinated=%{x}<br>DATE_UPDATED=%{y}<extra></extra>",
         "legendgroup": "Malaysia",
         "marker": {
          "color": "rgb(188,128,189)",
          "pattern": {
           "shape": ""
          }
         },
         "name": "Malaysia",
         "nbinsy": 14,
         "offsetgroup": "Malaysia",
         "orientation": "h",
         "showlegend": true,
         "type": "histogram",
         "x": [
          28126965
         ],
         "xaxis": "x",
         "y": [
          "2022-12-31T00:00:00"
         ],
         "yaxis": "y"
        },
        {
         "alignmentgroup": "True",
         "bingroup": "y",
         "histfunc": "sum",
         "hovertemplate": "COUNTRY=Maldives<br>sum of Population Vaccinated=%{x}<br>DATE_UPDATED=%{y}<extra></extra>",
         "legendgroup": "Maldives",
         "marker": {
          "color": "rgb(217,217,217)",
          "pattern": {
           "shape": ""
          }
         },
         "name": "Maldives",
         "nbinsy": 14,
         "offsetgroup": "Maldives",
         "orientation": "h",
         "showlegend": true,
         "type": "histogram",
         "x": [
          399151
         ],
         "xaxis": "x",
         "y": [
          "2022-12-31T00:00:00"
         ],
         "yaxis": "y"
        },
        {
         "alignmentgroup": "True",
         "bingroup": "y",
         "histfunc": "sum",
         "hovertemplate": "COUNTRY=Mali<br>sum of Population Vaccinated=%{x}<br>DATE_UPDATED=%{y}<extra></extra>",
         "legendgroup": "Mali",
         "marker": {
          "color": "rgb(252,205,229)",
          "pattern": {
           "shape": ""
          }
         },
         "name": "Mali",
         "nbinsy": 14,
         "offsetgroup": "Mali",
         "orientation": "h",
         "showlegend": true,
         "type": "histogram",
         "x": [
          3494626
         ],
         "xaxis": "x",
         "y": [
          "2022-12-31T00:00:00"
         ],
         "yaxis": "y"
        },
        {
         "alignmentgroup": "True",
         "bingroup": "y",
         "histfunc": "sum",
         "hovertemplate": "COUNTRY=Malta<br>sum of Population Vaccinated=%{x}<br>DATE_UPDATED=%{y}<extra></extra>",
         "legendgroup": "Malta",
         "marker": {
          "color": "rgb(179,222,105)",
          "pattern": {
           "shape": ""
          }
         },
         "name": "Malta",
         "nbinsy": 14,
         "offsetgroup": "Malta",
         "orientation": "h",
         "showlegend": true,
         "type": "histogram",
         "x": [
          478633
         ],
         "xaxis": "x",
         "y": [
          "2022-12-31T00:00:00"
         ],
         "yaxis": "y"
        },
        {
         "alignmentgroup": "True",
         "bingroup": "y",
         "histfunc": "sum",
         "hovertemplate": "COUNTRY=Martinique<br>sum of Population Vaccinated=%{x}<br>DATE_UPDATED=%{y}<extra></extra>",
         "legendgroup": "Martinique",
         "marker": {
          "color": "rgb(253,180,98)",
          "pattern": {
           "shape": ""
          }
         },
         "name": "Martinique",
         "nbinsy": 14,
         "offsetgroup": "Martinique",
         "orientation": "h",
         "showlegend": true,
         "type": "histogram",
         "x": [
          0
         ],
         "xaxis": "x",
         "y": [
          "2022-12-31T00:00:00"
         ],
         "yaxis": "y"
        },
        {
         "alignmentgroup": "True",
         "bingroup": "y",
         "histfunc": "sum",
         "hovertemplate": "COUNTRY=Mauritania<br>sum of Population Vaccinated=%{x}<br>DATE_UPDATED=%{y}<extra></extra>",
         "legendgroup": "Mauritania",
         "marker": {
          "color": "rgb(128,177,211)",
          "pattern": {
           "shape": ""
          }
         },
         "name": "Mauritania",
         "nbinsy": 14,
         "offsetgroup": "Mauritania",
         "orientation": "h",
         "showlegend": true,
         "type": "histogram",
         "x": [
          2098993
         ],
         "xaxis": "x",
         "y": [
          "2022-12-31T00:00:00"
         ],
         "yaxis": "y"
        },
        {
         "alignmentgroup": "True",
         "bingroup": "y",
         "histfunc": "sum",
         "hovertemplate": "COUNTRY=Mauritius<br>sum of Population Vaccinated=%{x}<br>DATE_UPDATED=%{y}<extra></extra>",
         "legendgroup": "Mauritius",
         "marker": {
          "color": "rgb(251,128,114)",
          "pattern": {
           "shape": ""
          }
         },
         "name": "Mauritius",
         "nbinsy": 14,
         "offsetgroup": "Mauritius",
         "orientation": "h",
         "showlegend": true,
         "type": "histogram",
         "x": [
          1123773
         ],
         "xaxis": "x",
         "y": [
          "2022-12-31T00:00:00"
         ],
         "yaxis": "y"
        },
        {
         "alignmentgroup": "True",
         "bingroup": "y",
         "histfunc": "sum",
         "hovertemplate": "COUNTRY=Mexico<br>sum of Population Vaccinated=%{x}<br>DATE_UPDATED=%{y}<extra></extra>",
         "legendgroup": "Mexico",
         "marker": {
          "color": "rgb(190,186,218)",
          "pattern": {
           "shape": ""
          }
         },
         "name": "Mexico",
         "nbinsy": 14,
         "offsetgroup": "Mexico",
         "orientation": "h",
         "showlegend": true,
         "type": "histogram",
         "x": [
          99071001
         ],
         "xaxis": "x",
         "y": [
          "2022-12-31T00:00:00"
         ],
         "yaxis": "y"
        },
        {
         "alignmentgroup": "True",
         "bingroup": "y",
         "histfunc": "sum",
         "hovertemplate": "COUNTRY=Mongolia<br>sum of Population Vaccinated=%{x}<br>DATE_UPDATED=%{y}<extra></extra>",
         "legendgroup": "Mongolia",
         "marker": {
          "color": "rgb(255,255,179)",
          "pattern": {
           "shape": ""
          }
         },
         "name": "Mongolia",
         "nbinsy": 14,
         "offsetgroup": "Mongolia",
         "orientation": "h",
         "showlegend": true,
         "type": "histogram",
         "x": [
          2272965
         ],
         "xaxis": "x",
         "y": [
          "2022-12-31T00:00:00"
         ],
         "yaxis": "y"
        },
        {
         "alignmentgroup": "True",
         "bingroup": "y",
         "histfunc": "sum",
         "hovertemplate": "COUNTRY=Montenegro<br>sum of Population Vaccinated=%{x}<br>DATE_UPDATED=%{y}<extra></extra>",
         "legendgroup": "Montenegro",
         "marker": {
          "color": "rgb(141,211,199)",
          "pattern": {
           "shape": ""
          }
         },
         "name": "Montenegro",
         "nbinsy": 14,
         "offsetgroup": "Montenegro",
         "orientation": "h",
         "showlegend": true,
         "type": "histogram",
         "x": [
          292783
         ],
         "xaxis": "x",
         "y": [
          "2022-12-31T00:00:00"
         ],
         "yaxis": "y"
        },
        {
         "alignmentgroup": "True",
         "bingroup": "y",
         "histfunc": "sum",
         "hovertemplate": "COUNTRY=Montserrat<br>sum of Population Vaccinated=%{x}<br>DATE_UPDATED=%{y}<extra></extra>",
         "legendgroup": "Montserrat",
         "marker": {
          "color": "rgb(255,237,111)",
          "pattern": {
           "shape": ""
          }
         },
         "name": "Montserrat",
         "nbinsy": 14,
         "offsetgroup": "Montserrat",
         "orientation": "h",
         "showlegend": true,
         "type": "histogram",
         "x": [
          2104
         ],
         "xaxis": "x",
         "y": [
          "2022-12-31T00:00:00"
         ],
         "yaxis": "y"
        },
        {
         "alignmentgroup": "True",
         "bingroup": "y",
         "histfunc": "sum",
         "hovertemplate": "COUNTRY=Morocco<br>sum of Population Vaccinated=%{x}<br>DATE_UPDATED=%{y}<extra></extra>",
         "legendgroup": "Morocco",
         "marker": {
          "color": "rgb(204,235,197)",
          "pattern": {
           "shape": ""
          }
         },
         "name": "Morocco",
         "nbinsy": 14,
         "offsetgroup": "Morocco",
         "orientation": "h",
         "showlegend": true,
         "type": "histogram",
         "x": [
          25017528
         ],
         "xaxis": "x",
         "y": [
          "2022-12-31T00:00:00"
         ],
         "yaxis": "y"
        },
        {
         "alignmentgroup": "True",
         "bingroup": "y",
         "histfunc": "sum",
         "hovertemplate": "COUNTRY=Mozambique<br>sum of Population Vaccinated=%{x}<br>DATE_UPDATED=%{y}<extra></extra>",
         "legendgroup": "Mozambique",
         "marker": {
          "color": "rgb(188,128,189)",
          "pattern": {
           "shape": ""
          }
         },
         "name": "Mozambique",
         "nbinsy": 14,
         "offsetgroup": "Mozambique",
         "orientation": "h",
         "showlegend": true,
         "type": "histogram",
         "x": [
          18640008
         ],
         "xaxis": "x",
         "y": [
          "2022-12-31T00:00:00"
         ],
         "yaxis": "y"
        },
        {
         "alignmentgroup": "True",
         "bingroup": "y",
         "histfunc": "sum",
         "hovertemplate": "COUNTRY=Namibia<br>sum of Population Vaccinated=%{x}<br>DATE_UPDATED=%{y}<extra></extra>",
         "legendgroup": "Namibia",
         "marker": {
          "color": "rgb(217,217,217)",
          "pattern": {
           "shape": ""
          }
         },
         "name": "Namibia",
         "nbinsy": 14,
         "offsetgroup": "Namibia",
         "orientation": "h",
         "showlegend": true,
         "type": "histogram",
         "x": [
          817482
         ],
         "xaxis": "x",
         "y": [
          "2022-12-31T00:00:00"
         ],
         "yaxis": "y"
        },
        {
         "alignmentgroup": "True",
         "bingroup": "y",
         "histfunc": "sum",
         "hovertemplate": "COUNTRY=Nepal<br>sum of Population Vaccinated=%{x}<br>DATE_UPDATED=%{y}<extra></extra>",
         "legendgroup": "Nepal",
         "marker": {
          "color": "rgb(252,205,229)",
          "pattern": {
           "shape": ""
          }
         },
         "name": "Nepal",
         "nbinsy": 14,
         "offsetgroup": "Nepal",
         "orientation": "h",
         "showlegend": true,
         "type": "histogram",
         "x": [
          27678479
         ],
         "xaxis": "x",
         "y": [
          "2022-12-31T00:00:00"
         ],
         "yaxis": "y"
        },
        {
         "alignmentgroup": "True",
         "bingroup": "y",
         "histfunc": "sum",
         "hovertemplate": "COUNTRY=New Caledonia<br>sum of Population Vaccinated=%{x}<br>DATE_UPDATED=%{y}<extra></extra>",
         "legendgroup": "New Caledonia",
         "marker": {
          "color": "rgb(179,222,105)",
          "pattern": {
           "shape": ""
          }
         },
         "name": "New Caledonia",
         "nbinsy": 14,
         "offsetgroup": "New Caledonia",
         "orientation": "h",
         "showlegend": true,
         "type": "histogram",
         "x": [
          192241
         ],
         "xaxis": "x",
         "y": [
          "2022-12-31T00:00:00"
         ],
         "yaxis": "y"
        },
        {
         "alignmentgroup": "True",
         "bingroup": "y",
         "histfunc": "sum",
         "hovertemplate": "COUNTRY=New Zealand<br>sum of Population Vaccinated=%{x}<br>DATE_UPDATED=%{y}<extra></extra>",
         "legendgroup": "New Zealand",
         "marker": {
          "color": "rgb(253,180,98)",
          "pattern": {
           "shape": ""
          }
         },
         "name": "New Zealand",
         "nbinsy": 14,
         "offsetgroup": "New Zealand",
         "orientation": "h",
         "showlegend": true,
         "type": "histogram",
         "x": [
          4300684
         ],
         "xaxis": "x",
         "y": [
          "2022-12-31T00:00:00"
         ],
         "yaxis": "y"
        },
        {
         "alignmentgroup": "True",
         "bingroup": "y",
         "histfunc": "sum",
         "hovertemplate": "COUNTRY=Nicaragua<br>sum of Population Vaccinated=%{x}<br>DATE_UPDATED=%{y}<extra></extra>",
         "legendgroup": "Nicaragua",
         "marker": {
          "color": "rgb(128,177,211)",
          "pattern": {
           "shape": ""
          }
         },
         "name": "Nicaragua",
         "nbinsy": 14,
         "offsetgroup": "Nicaragua",
         "orientation": "h",
         "showlegend": true,
         "type": "histogram",
         "x": [
          6216083
         ],
         "xaxis": "x",
         "y": [
          "2022-12-31T00:00:00"
         ],
         "yaxis": "y"
        },
        {
         "alignmentgroup": "True",
         "bingroup": "y",
         "histfunc": "sum",
         "hovertemplate": "COUNTRY=Niger<br>sum of Population Vaccinated=%{x}<br>DATE_UPDATED=%{y}<extra></extra>",
         "legendgroup": "Niger",
         "marker": {
          "color": "rgb(251,128,114)",
          "pattern": {
           "shape": ""
          }
         },
         "name": "Niger",
         "nbinsy": 14,
         "offsetgroup": "Niger",
         "orientation": "h",
         "showlegend": true,
         "type": "histogram",
         "x": [
          6072321
         ],
         "xaxis": "x",
         "y": [
          "2022-12-31T00:00:00"
         ],
         "yaxis": "y"
        },
        {
         "alignmentgroup": "True",
         "bingroup": "y",
         "histfunc": "sum",
         "hovertemplate": "COUNTRY=Nigeria<br>sum of Population Vaccinated=%{x}<br>DATE_UPDATED=%{y}<extra></extra>",
         "legendgroup": "Nigeria",
         "marker": {
          "color": "rgb(190,186,218)",
          "pattern": {
           "shape": ""
          }
         },
         "name": "Nigeria",
         "nbinsy": 14,
         "offsetgroup": "Nigeria",
         "orientation": "h",
         "showlegend": true,
         "type": "histogram",
         "x": [
          76507342
         ],
         "xaxis": "x",
         "y": [
          "2022-12-31T00:00:00"
         ],
         "yaxis": "y"
        },
        {
         "alignmentgroup": "True",
         "bingroup": "y",
         "histfunc": "sum",
         "hovertemplate": "COUNTRY=North Macedonia<br>sum of Population Vaccinated=%{x}<br>DATE_UPDATED=%{y}<extra></extra>",
         "legendgroup": "North Macedonia",
         "marker": {
          "color": "rgb(255,255,179)",
          "pattern": {
           "shape": ""
          }
         },
         "name": "North Macedonia",
         "nbinsy": 14,
         "offsetgroup": "North Macedonia",
         "orientation": "h",
         "showlegend": true,
         "type": "histogram",
         "x": [
          854479
         ],
         "xaxis": "x",
         "y": [
          "2022-12-31T00:00:00"
         ],
         "yaxis": "y"
        },
        {
         "alignmentgroup": "True",
         "bingroup": "y",
         "histfunc": "sum",
         "hovertemplate": "COUNTRY=Norway<br>sum of Population Vaccinated=%{x}<br>DATE_UPDATED=%{y}<extra></extra>",
         "legendgroup": "Norway",
         "marker": {
          "color": "rgb(141,211,199)",
          "pattern": {
           "shape": ""
          }
         },
         "name": "Norway",
         "nbinsy": 14,
         "offsetgroup": "Norway",
         "orientation": "h",
         "showlegend": true,
         "type": "histogram",
         "x": [
          4346995
         ],
         "xaxis": "x",
         "y": [
          "2022-12-31T00:00:00"
         ],
         "yaxis": "y"
        },
        {
         "alignmentgroup": "True",
         "bingroup": "y",
         "histfunc": "sum",
         "hovertemplate": "COUNTRY=Pakistan<br>sum of Population Vaccinated=%{x}<br>DATE_UPDATED=%{y}<extra></extra>",
         "legendgroup": "Pakistan",
         "marker": {
          "color": "rgb(255,237,111)",
          "pattern": {
           "shape": ""
          }
         },
         "name": "Pakistan",
         "nbinsy": 14,
         "offsetgroup": "Pakistan",
         "orientation": "h",
         "showlegend": true,
         "type": "histogram",
         "x": [
          162206190
         ],
         "xaxis": "x",
         "y": [
          "2022-12-31T00:00:00"
         ],
         "yaxis": "y"
        },
        {
         "alignmentgroup": "True",
         "bingroup": "y",
         "histfunc": "sum",
         "hovertemplate": "COUNTRY=Panama<br>sum of Population Vaccinated=%{x}<br>DATE_UPDATED=%{y}<extra></extra>",
         "legendgroup": "Panama",
         "marker": {
          "color": "rgb(204,235,197)",
          "pattern": {
           "shape": ""
          }
         },
         "name": "Panama",
         "nbinsy": 14,
         "offsetgroup": "Panama",
         "orientation": "h",
         "showlegend": true,
         "type": "histogram",
         "x": [
          3525536
         ],
         "xaxis": "x",
         "y": [
          "2022-12-31T00:00:00"
         ],
         "yaxis": "y"
        },
        {
         "alignmentgroup": "True",
         "bingroup": "y",
         "histfunc": "sum",
         "hovertemplate": "COUNTRY=Papua New Guinea<br>sum of Population Vaccinated=%{x}<br>DATE_UPDATED=%{y}<extra></extra>",
         "legendgroup": "Papua New Guinea",
         "marker": {
          "color": "rgb(188,128,189)",
          "pattern": {
           "shape": ""
          }
         },
         "name": "Papua New Guinea",
         "nbinsy": 14,
         "offsetgroup": "Papua New Guinea",
         "orientation": "h",
         "showlegend": true,
         "type": "histogram",
         "x": [
          371474
         ],
         "xaxis": "x",
         "y": [
          "2022-12-31T00:00:00"
         ],
         "yaxis": "y"
        },
        {
         "alignmentgroup": "True",
         "bingroup": "y",
         "histfunc": "sum",
         "hovertemplate": "COUNTRY=Paraguay<br>sum of Population Vaccinated=%{x}<br>DATE_UPDATED=%{y}<extra></extra>",
         "legendgroup": "Paraguay",
         "marker": {
          "color": "rgb(217,217,217)",
          "pattern": {
           "shape": ""
          }
         },
         "name": "Paraguay",
         "nbinsy": 14,
         "offsetgroup": "Paraguay",
         "orientation": "h",
         "showlegend": true,
         "type": "histogram",
         "x": [
          3984150
         ],
         "xaxis": "x",
         "y": [
          "2022-12-31T00:00:00"
         ],
         "yaxis": "y"
        },
        {
         "alignmentgroup": "True",
         "bingroup": "y",
         "histfunc": "sum",
         "hovertemplate": "COUNTRY=Peru<br>sum of Population Vaccinated=%{x}<br>DATE_UPDATED=%{y}<extra></extra>",
         "legendgroup": "Peru",
         "marker": {
          "color": "rgb(252,205,229)",
          "pattern": {
           "shape": ""
          }
         },
         "name": "Peru",
         "nbinsy": 14,
         "offsetgroup": "Peru",
         "orientation": "h",
         "showlegend": true,
         "type": "histogram",
         "x": [
          30276778
         ],
         "xaxis": "x",
         "y": [
          "2022-12-31T00:00:00"
         ],
         "yaxis": "y"
        },
        {
         "alignmentgroup": "True",
         "bingroup": "y",
         "histfunc": "sum",
         "hovertemplate": "COUNTRY=Philippines<br>sum of Population Vaccinated=%{x}<br>DATE_UPDATED=%{y}<extra></extra>",
         "legendgroup": "Philippines",
         "marker": {
          "color": "rgb(179,222,105)",
          "pattern": {
           "shape": ""
          }
         },
         "name": "Philippines",
         "nbinsy": 14,
         "offsetgroup": "Philippines",
         "orientation": "h",
         "showlegend": true,
         "type": "histogram",
         "x": [
          78397169
         ],
         "xaxis": "x",
         "y": [
          "2022-12-31T00:00:00"
         ],
         "yaxis": "y"
        },
        {
         "alignmentgroup": "True",
         "bingroup": "y",
         "histfunc": "sum",
         "hovertemplate": "COUNTRY=Poland<br>sum of Population Vaccinated=%{x}<br>DATE_UPDATED=%{y}<extra></extra>",
         "legendgroup": "Poland",
         "marker": {
          "color": "rgb(253,180,98)",
          "pattern": {
           "shape": ""
          }
         },
         "name": "Poland",
         "nbinsy": 14,
         "offsetgroup": "Poland",
         "orientation": "h",
         "showlegend": true,
         "type": "histogram",
         "x": [
          22868045
         ],
         "xaxis": "x",
         "y": [
          "2022-12-31T00:00:00"
         ],
         "yaxis": "y"
        },
        {
         "alignmentgroup": "True",
         "bingroup": "y",
         "histfunc": "sum",
         "hovertemplate": "COUNTRY=Portugal<br>sum of Population Vaccinated=%{x}<br>DATE_UPDATED=%{y}<extra></extra>",
         "legendgroup": "Portugal",
         "marker": {
          "color": "rgb(128,177,211)",
          "pattern": {
           "shape": ""
          }
         },
         "name": "Portugal",
         "nbinsy": 14,
         "offsetgroup": "Portugal",
         "orientation": "h",
         "showlegend": true,
         "type": "histogram",
         "x": [
          9777719
         ],
         "xaxis": "x",
         "y": [
          "2022-12-31T00:00:00"
         ],
         "yaxis": "y"
        },
        {
         "alignmentgroup": "True",
         "bingroup": "y",
         "histfunc": "sum",
         "hovertemplate": "COUNTRY=Puerto Rico<br>sum of Population Vaccinated=%{x}<br>DATE_UPDATED=%{y}<extra></extra>",
         "legendgroup": "Puerto Rico",
         "marker": {
          "color": "rgb(251,128,114)",
          "pattern": {
           "shape": ""
          }
         },
         "name": "Puerto Rico",
         "nbinsy": 14,
         "offsetgroup": "Puerto Rico",
         "orientation": "h",
         "showlegend": true,
         "type": "histogram",
         "x": [
          0
         ],
         "xaxis": "x",
         "y": [
          "2022-12-31T00:00:00"
         ],
         "yaxis": "y"
        },
        {
         "alignmentgroup": "True",
         "bingroup": "y",
         "histfunc": "sum",
         "hovertemplate": "COUNTRY=Qatar<br>sum of Population Vaccinated=%{x}<br>DATE_UPDATED=%{y}<extra></extra>",
         "legendgroup": "Qatar",
         "marker": {
          "color": "rgb(190,186,218)",
          "pattern": {
           "shape": ""
          }
         },
         "name": "Qatar",
         "nbinsy": 14,
         "offsetgroup": "Qatar",
         "orientation": "h",
         "showlegend": true,
         "type": "histogram",
         "x": [
          2851272
         ],
         "xaxis": "x",
         "y": [
          "2022-12-31T00:00:00"
         ],
         "yaxis": "y"
        },
        {
         "alignmentgroup": "True",
         "bingroup": "y",
         "histfunc": "sum",
         "hovertemplate": "COUNTRY=Republic of Moldova<br>sum of Population Vaccinated=%{x}<br>DATE_UPDATED=%{y}<extra></extra>",
         "legendgroup": "Republic of Moldova",
         "marker": {
          "color": "rgb(255,255,179)",
          "pattern": {
           "shape": ""
          }
         },
         "name": "Republic of Moldova",
         "nbinsy": 14,
         "offsetgroup": "Republic of Moldova",
         "orientation": "h",
         "showlegend": true,
         "type": "histogram",
         "x": [
          1106068
         ],
         "xaxis": "x",
         "y": [
          "2022-12-31T00:00:00"
         ],
         "yaxis": "y"
        },
        {
         "alignmentgroup": "True",
         "bingroup": "y",
         "histfunc": "sum",
         "hovertemplate": "COUNTRY=Romania<br>sum of Population Vaccinated=%{x}<br>DATE_UPDATED=%{y}<extra></extra>",
         "legendgroup": "Romania",
         "marker": {
          "color": "rgb(141,211,199)",
          "pattern": {
           "shape": ""
          }
         },
         "name": "Romania",
         "nbinsy": 14,
         "offsetgroup": "Romania",
         "orientation": "h",
         "showlegend": true,
         "type": "histogram",
         "x": [
          8186209
         ],
         "xaxis": "x",
         "y": [
          "2022-12-31T00:00:00"
         ],
         "yaxis": "y"
        },
        {
         "alignmentgroup": "True",
         "bingroup": "y",
         "histfunc": "sum",
         "hovertemplate": "COUNTRY=Russian Federation<br>sum of Population Vaccinated=%{x}<br>DATE_UPDATED=%{y}<extra></extra>",
         "legendgroup": "Russian Federation",
         "marker": {
          "color": "rgb(255,237,111)",
          "pattern": {
           "shape": ""
          }
         },
         "name": "Russian Federation",
         "nbinsy": 14,
         "offsetgroup": "Russian Federation",
         "orientation": "h",
         "showlegend": true,
         "type": "histogram",
         "x": [
          87965577
         ],
         "xaxis": "x",
         "y": [
          "2022-12-31T00:00:00"
         ],
         "yaxis": "y"
        },
        {
         "alignmentgroup": "True",
         "bingroup": "y",
         "histfunc": "sum",
         "hovertemplate": "COUNTRY=Saint Kitts and Nevis<br>sum of Population Vaccinated=%{x}<br>DATE_UPDATED=%{y}<extra></extra>",
         "legendgroup": "Saint Kitts and Nevis",
         "marker": {
          "color": "rgb(204,235,197)",
          "pattern": {
           "shape": ""
          }
         },
         "name": "Saint Kitts and Nevis",
         "nbinsy": 14,
         "offsetgroup": "Saint Kitts and Nevis",
         "orientation": "h",
         "showlegend": true,
         "type": "histogram",
         "x": [
          33794
         ],
         "xaxis": "x",
         "y": [
          "2022-12-31T00:00:00"
         ],
         "yaxis": "y"
        },
        {
         "alignmentgroup": "True",
         "bingroup": "y",
         "histfunc": "sum",
         "hovertemplate": "COUNTRY=Saint Lucia<br>sum of Population Vaccinated=%{x}<br>DATE_UPDATED=%{y}<extra></extra>",
         "legendgroup": "Saint Lucia",
         "marker": {
          "color": "rgb(188,128,189)",
          "pattern": {
           "shape": ""
          }
         },
         "name": "Saint Lucia",
         "nbinsy": 14,
         "offsetgroup": "Saint Lucia",
         "orientation": "h",
         "showlegend": true,
         "type": "histogram",
         "x": [
          60140
         ],
         "xaxis": "x",
         "y": [
          "2022-12-31T00:00:00"
         ],
         "yaxis": "y"
        },
        {
         "alignmentgroup": "True",
         "bingroup": "y",
         "histfunc": "sum",
         "hovertemplate": "COUNTRY=Saint Vincent and the Grenadines<br>sum of Population Vaccinated=%{x}<br>DATE_UPDATED=%{y}<extra></extra>",
         "legendgroup": "Saint Vincent and the Grenadines",
         "marker": {
          "color": "rgb(217,217,217)",
          "pattern": {
           "shape": ""
          }
         },
         "name": "Saint Vincent and the Grenadines",
         "nbinsy": 14,
         "offsetgroup": "Saint Vincent and the Grenadines",
         "orientation": "h",
         "showlegend": true,
         "type": "histogram",
         "x": [
          37481
         ],
         "xaxis": "x",
         "y": [
          "2022-12-31T00:00:00"
         ],
         "yaxis": "y"
        },
        {
         "alignmentgroup": "True",
         "bingroup": "y",
         "histfunc": "sum",
         "hovertemplate": "COUNTRY=Saudi Arabia<br>sum of Population Vaccinated=%{x}<br>DATE_UPDATED=%{y}<extra></extra>",
         "legendgroup": "Saudi Arabia",
         "marker": {
          "color": "rgb(252,205,229)",
          "pattern": {
           "shape": ""
          }
         },
         "name": "Saudi Arabia",
         "nbinsy": 14,
         "offsetgroup": "Saudi Arabia",
         "orientation": "h",
         "showlegend": true,
         "type": "histogram",
         "x": [
          26951666
         ],
         "xaxis": "x",
         "y": [
          "2022-12-31T00:00:00"
         ],
         "yaxis": "y"
        },
        {
         "alignmentgroup": "True",
         "bingroup": "y",
         "histfunc": "sum",
         "hovertemplate": "COUNTRY=Seychelles<br>sum of Population Vaccinated=%{x}<br>DATE_UPDATED=%{y}<extra></extra>",
         "legendgroup": "Seychelles",
         "marker": {
          "color": "rgb(179,222,105)",
          "pattern": {
           "shape": ""
          }
         },
         "name": "Seychelles",
         "nbinsy": 14,
         "offsetgroup": "Seychelles",
         "orientation": "h",
         "showlegend": true,
         "type": "histogram",
         "x": [
          85803
         ],
         "xaxis": "x",
         "y": [
          "2022-12-31T00:00:00"
         ],
         "yaxis": "y"
        },
        {
         "alignmentgroup": "True",
         "bingroup": "y",
         "histfunc": "sum",
         "hovertemplate": "COUNTRY=Sierra Leone<br>sum of Population Vaccinated=%{x}<br>DATE_UPDATED=%{y}<extra></extra>",
         "legendgroup": "Sierra Leone",
         "marker": {
          "color": "rgb(253,180,98)",
          "pattern": {
           "shape": ""
          }
         },
         "name": "Sierra Leone",
         "nbinsy": 14,
         "offsetgroup": "Sierra Leone",
         "orientation": "h",
         "showlegend": true,
         "type": "histogram",
         "x": [
          4506129
         ],
         "xaxis": "x",
         "y": [
          "2022-12-31T00:00:00"
         ],
         "yaxis": "y"
        },
        {
         "alignmentgroup": "True",
         "bingroup": "y",
         "histfunc": "sum",
         "hovertemplate": "COUNTRY=Sint Maarten<br>sum of Population Vaccinated=%{x}<br>DATE_UPDATED=%{y}<extra></extra>",
         "legendgroup": "Sint Maarten",
         "marker": {
          "color": "rgb(128,177,211)",
          "pattern": {
           "shape": ""
          }
         },
         "name": "Sint Maarten",
         "nbinsy": 14,
         "offsetgroup": "Sint Maarten",
         "orientation": "h",
         "showlegend": true,
         "type": "histogram",
         "x": [
          29788
         ],
         "xaxis": "x",
         "y": [
          "2022-12-31T00:00:00"
         ],
         "yaxis": "y"
        },
        {
         "alignmentgroup": "True",
         "bingroup": "y",
         "histfunc": "sum",
         "hovertemplate": "COUNTRY=Slovakia<br>sum of Population Vaccinated=%{x}<br>DATE_UPDATED=%{y}<extra></extra>",
         "legendgroup": "Slovakia",
         "marker": {
          "color": "rgb(251,128,114)",
          "pattern": {
           "shape": ""
          }
         },
         "name": "Slovakia",
         "nbinsy": 14,
         "offsetgroup": "Slovakia",
         "orientation": "h",
         "showlegend": true,
         "type": "histogram",
         "x": [
          2595901
         ],
         "xaxis": "x",
         "y": [
          "2022-12-31T00:00:00"
         ],
         "yaxis": "y"
        },
        {
         "alignmentgroup": "True",
         "bingroup": "y",
         "histfunc": "sum",
         "hovertemplate": "COUNTRY=Slovenia<br>sum of Population Vaccinated=%{x}<br>DATE_UPDATED=%{y}<extra></extra>",
         "legendgroup": "Slovenia",
         "marker": {
          "color": "rgb(190,186,218)",
          "pattern": {
           "shape": ""
          }
         },
         "name": "Slovenia",
         "nbinsy": 14,
         "offsetgroup": "Slovenia",
         "orientation": "h",
         "showlegend": true,
         "type": "histogram",
         "x": [
          1265802
         ],
         "xaxis": "x",
         "y": [
          "2022-12-31T00:00:00"
         ],
         "yaxis": "y"
        },
        {
         "alignmentgroup": "True",
         "bingroup": "y",
         "histfunc": "sum",
         "hovertemplate": "COUNTRY=Somalia<br>sum of Population Vaccinated=%{x}<br>DATE_UPDATED=%{y}<extra></extra>",
         "legendgroup": "Somalia",
         "marker": {
          "color": "rgb(255,255,179)",
          "pattern": {
           "shape": ""
          }
         },
         "name": "Somalia",
         "nbinsy": 14,
         "offsetgroup": "Somalia",
         "orientation": "h",
         "showlegend": true,
         "type": "histogram",
         "x": [
          7729842
         ],
         "xaxis": "x",
         "y": [
          "2022-12-31T00:00:00"
         ],
         "yaxis": "y"
        },
        {
         "alignmentgroup": "True",
         "bingroup": "y",
         "histfunc": "sum",
         "hovertemplate": "COUNTRY=South Africa<br>sum of Population Vaccinated=%{x}<br>DATE_UPDATED=%{y}<extra></extra>",
         "legendgroup": "South Africa",
         "marker": {
          "color": "rgb(141,211,199)",
          "pattern": {
           "shape": ""
          }
         },
         "name": "South Africa",
         "nbinsy": 14,
         "offsetgroup": "South Africa",
         "orientation": "h",
         "showlegend": true,
         "type": "histogram",
         "x": [
          23970891
         ],
         "xaxis": "x",
         "y": [
          "2022-12-31T00:00:00"
         ],
         "yaxis": "y"
        },
        {
         "alignmentgroup": "True",
         "bingroup": "y",
         "histfunc": "sum",
         "hovertemplate": "COUNTRY=South Sudan<br>sum of Population Vaccinated=%{x}<br>DATE_UPDATED=%{y}<extra></extra>",
         "legendgroup": "South Sudan",
         "marker": {
          "color": "rgb(255,237,111)",
          "pattern": {
           "shape": ""
          }
         },
         "name": "South Sudan",
         "nbinsy": 14,
         "offsetgroup": "South Sudan",
         "orientation": "h",
         "showlegend": true,
         "type": "histogram",
         "x": [
          2271802
         ],
         "xaxis": "x",
         "y": [
          "2022-12-31T00:00:00"
         ],
         "yaxis": "y"
        },
        {
         "alignmentgroup": "True",
         "bingroup": "y",
         "histfunc": "sum",
         "hovertemplate": "COUNTRY=Spain<br>sum of Population Vaccinated=%{x}<br>DATE_UPDATED=%{y}<extra></extra>",
         "legendgroup": "Spain",
         "marker": {
          "color": "rgb(204,235,197)",
          "pattern": {
           "shape": ""
          }
         },
         "name": "Spain",
         "nbinsy": 14,
         "offsetgroup": "Spain",
         "orientation": "h",
         "showlegend": true,
         "type": "histogram",
         "x": [
          41340052
         ],
         "xaxis": "x",
         "y": [
          "2022-12-31T00:00:00"
         ],
         "yaxis": "y"
        },
        {
         "alignmentgroup": "True",
         "bingroup": "y",
         "histfunc": "sum",
         "hovertemplate": "COUNTRY=Sudan<br>sum of Population Vaccinated=%{x}<br>DATE_UPDATED=%{y}<extra></extra>",
         "legendgroup": "Sudan",
         "marker": {
          "color": "rgb(188,128,189)",
          "pattern": {
           "shape": ""
          }
         },
         "name": "Sudan",
         "nbinsy": 14,
         "offsetgroup": "Sudan",
         "orientation": "h",
         "showlegend": true,
         "type": "histogram",
         "x": [
          10504568
         ],
         "xaxis": "x",
         "y": [
          "2022-12-31T00:00:00"
         ],
         "yaxis": "y"
        },
        {
         "alignmentgroup": "True",
         "bingroup": "y",
         "histfunc": "sum",
         "hovertemplate": "COUNTRY=Suriname<br>sum of Population Vaccinated=%{x}<br>DATE_UPDATED=%{y}<extra></extra>",
         "legendgroup": "Suriname",
         "marker": {
          "color": "rgb(217,217,217)",
          "pattern": {
           "shape": ""
          }
         },
         "name": "Suriname",
         "nbinsy": 14,
         "offsetgroup": "Suriname",
         "orientation": "h",
         "showlegend": true,
         "type": "histogram",
         "x": [
          267820
         ],
         "xaxis": "x",
         "y": [
          "2022-12-31T00:00:00"
         ],
         "yaxis": "y"
        },
        {
         "alignmentgroup": "True",
         "bingroup": "y",
         "histfunc": "sum",
         "hovertemplate": "COUNTRY=Sweden<br>sum of Population Vaccinated=%{x}<br>DATE_UPDATED=%{y}<extra></extra>",
         "legendgroup": "Sweden",
         "marker": {
          "color": "rgb(252,205,229)",
          "pattern": {
           "shape": ""
          }
         },
         "name": "Sweden",
         "nbinsy": 14,
         "offsetgroup": "Sweden",
         "orientation": "h",
         "showlegend": true,
         "type": "histogram",
         "x": [
          7817893
         ],
         "xaxis": "x",
         "y": [
          "2022-12-31T00:00:00"
         ],
         "yaxis": "y"
        },
        {
         "alignmentgroup": "True",
         "bingroup": "y",
         "histfunc": "sum",
         "hovertemplate": "COUNTRY=Switzerland<br>sum of Population Vaccinated=%{x}<br>DATE_UPDATED=%{y}<extra></extra>",
         "legendgroup": "Switzerland",
         "marker": {
          "color": "rgb(179,222,105)",
          "pattern": {
           "shape": ""
          }
         },
         "name": "Switzerland",
         "nbinsy": 14,
         "offsetgroup": "Switzerland",
         "orientation": "h",
         "showlegend": true,
         "type": "histogram",
         "x": [
          6095843
         ],
         "xaxis": "x",
         "y": [
          "2022-12-31T00:00:00"
         ],
         "yaxis": "y"
        },
        {
         "alignmentgroup": "True",
         "bingroup": "y",
         "histfunc": "sum",
         "hovertemplate": "COUNTRY=Syrian Arab Republic<br>sum of Population Vaccinated=%{x}<br>DATE_UPDATED=%{y}<extra></extra>",
         "legendgroup": "Syrian Arab Republic",
         "marker": {
          "color": "rgb(253,180,98)",
          "pattern": {
           "shape": ""
          }
         },
         "name": "Syrian Arab Republic",
         "nbinsy": 14,
         "offsetgroup": "Syrian Arab Republic",
         "orientation": "h",
         "showlegend": true,
         "type": "histogram",
         "x": [
          3209797
         ],
         "xaxis": "x",
         "y": [
          "2022-12-31T00:00:00"
         ],
         "yaxis": "y"
        },
        {
         "alignmentgroup": "True",
         "bingroup": "y",
         "histfunc": "sum",
         "hovertemplate": "COUNTRY=Tajikistan<br>sum of Population Vaccinated=%{x}<br>DATE_UPDATED=%{y}<extra></extra>",
         "legendgroup": "Tajikistan",
         "marker": {
          "color": "rgb(128,177,211)",
          "pattern": {
           "shape": ""
          }
         },
         "name": "Tajikistan",
         "nbinsy": 14,
         "offsetgroup": "Tajikistan",
         "orientation": "h",
         "showlegend": true,
         "type": "histogram",
         "x": [
          5311967
         ],
         "xaxis": "x",
         "y": [
          "2022-12-31T00:00:00"
         ],
         "yaxis": "y"
        },
        {
         "alignmentgroup": "True",
         "bingroup": "y",
         "histfunc": "sum",
         "hovertemplate": "COUNTRY=Timor-Leste<br>sum of Population Vaccinated=%{x}<br>DATE_UPDATED=%{y}<extra></extra>",
         "legendgroup": "Timor-Leste",
         "marker": {
          "color": "rgb(251,128,114)",
          "pattern": {
           "shape": ""
          }
         },
         "name": "Timor-Leste",
         "nbinsy": 14,
         "offsetgroup": "Timor-Leste",
         "orientation": "h",
         "showlegend": true,
         "type": "histogram",
         "x": [
          882547
         ],
         "xaxis": "x",
         "y": [
          "2022-12-31T00:00:00"
         ],
         "yaxis": "y"
        },
        {
         "alignmentgroup": "True",
         "bingroup": "y",
         "histfunc": "sum",
         "hovertemplate": "COUNTRY=Togo<br>sum of Population Vaccinated=%{x}<br>DATE_UPDATED=%{y}<extra></extra>",
         "legendgroup": "Togo",
         "marker": {
          "color": "rgb(190,186,218)",
          "pattern": {
           "shape": ""
          }
         },
         "name": "Togo",
         "nbinsy": 14,
         "offsetgroup": "Togo",
         "orientation": "h",
         "showlegend": true,
         "type": "histogram",
         "x": [
          2244456
         ],
         "xaxis": "x",
         "y": [
          "2022-12-31T00:00:00"
         ],
         "yaxis": "y"
        },
        {
         "alignmentgroup": "True",
         "bingroup": "y",
         "histfunc": "sum",
         "hovertemplate": "COUNTRY=Trinidad and Tobago<br>sum of Population Vaccinated=%{x}<br>DATE_UPDATED=%{y}<extra></extra>",
         "legendgroup": "Trinidad and Tobago",
         "marker": {
          "color": "rgb(255,255,179)",
          "pattern": {
           "shape": ""
          }
         },
         "name": "Trinidad and Tobago",
         "nbinsy": 14,
         "offsetgroup": "Trinidad and Tobago",
         "orientation": "h",
         "showlegend": true,
         "type": "histogram",
         "x": [
          753588
         ],
         "xaxis": "x",
         "y": [
          "2022-12-31T00:00:00"
         ],
         "yaxis": "y"
        },
        {
         "alignmentgroup": "True",
         "bingroup": "y",
         "histfunc": "sum",
         "hovertemplate": "COUNTRY=Tunisia<br>sum of Population Vaccinated=%{x}<br>DATE_UPDATED=%{y}<extra></extra>",
         "legendgroup": "Tunisia",
         "marker": {
          "color": "rgb(141,211,199)",
          "pattern": {
           "shape": ""
          }
         },
         "name": "Tunisia",
         "nbinsy": 14,
         "offsetgroup": "Tunisia",
         "orientation": "h",
         "showlegend": true,
         "type": "histogram",
         "x": [
          7217571
         ],
         "xaxis": "x",
         "y": [
          "2022-12-31T00:00:00"
         ],
         "yaxis": "y"
        },
        {
         "alignmentgroup": "True",
         "bingroup": "y",
         "histfunc": "sum",
         "hovertemplate": "COUNTRY=Turkey<br>sum of Population Vaccinated=%{x}<br>DATE_UPDATED=%{y}<extra></extra>",
         "legendgroup": "Turkey",
         "marker": {
          "color": "rgb(255,237,111)",
          "pattern": {
           "shape": ""
          }
         },
         "name": "Turkey",
         "nbinsy": 14,
         "offsetgroup": "Turkey",
         "orientation": "h",
         "showlegend": true,
         "type": "histogram",
         "x": [
          57941051
         ],
         "xaxis": "x",
         "y": [
          "2022-12-31T00:00:00"
         ],
         "yaxis": "y"
        },
        {
         "alignmentgroup": "True",
         "bingroup": "y",
         "histfunc": "sum",
         "hovertemplate": "COUNTRY=Turks and Caicos Islands<br>sum of Population Vaccinated=%{x}<br>DATE_UPDATED=%{y}<extra></extra>",
         "legendgroup": "Turks and Caicos Islands",
         "marker": {
          "color": "rgb(204,235,197)",
          "pattern": {
           "shape": ""
          }
         },
         "name": "Turks and Caicos Islands",
         "nbinsy": 14,
         "offsetgroup": "Turks and Caicos Islands",
         "orientation": "h",
         "showlegend": true,
         "type": "histogram",
         "x": [
          32815
         ],
         "xaxis": "x",
         "y": [
          "2022-12-31T00:00:00"
         ],
         "yaxis": "y"
        },
        {
         "alignmentgroup": "True",
         "bingroup": "y",
         "histfunc": "sum",
         "hovertemplate": "COUNTRY=Uganda<br>sum of Population Vaccinated=%{x}<br>DATE_UPDATED=%{y}<extra></extra>",
         "legendgroup": "Uganda",
         "marker": {
          "color": "rgb(188,128,189)",
          "pattern": {
           "shape": ""
          }
         },
         "name": "Uganda",
         "nbinsy": 14,
         "offsetgroup": "Uganda",
         "orientation": "h",
         "showlegend": true,
         "type": "histogram",
         "x": [
          18867075
         ],
         "xaxis": "x",
         "y": [
          "2022-12-31T00:00:00"
         ],
         "yaxis": "y"
        },
        {
         "alignmentgroup": "True",
         "bingroup": "y",
         "histfunc": "sum",
         "hovertemplate": "COUNTRY=United Republic of Tanzania<br>sum of Population Vaccinated=%{x}<br>DATE_UPDATED=%{y}<extra></extra>",
         "legendgroup": "United Republic of Tanzania",
         "marker": {
          "color": "rgb(217,217,217)",
          "pattern": {
           "shape": ""
          }
         },
         "name": "United Republic of Tanzania",
         "nbinsy": 14,
         "offsetgroup": "United Republic of Tanzania",
         "orientation": "h",
         "showlegend": true,
         "type": "histogram",
         "x": [
          31191545
         ],
         "xaxis": "x",
         "y": [
          "2022-12-31T00:00:00"
         ],
         "yaxis": "y"
        },
        {
         "alignmentgroup": "True",
         "bingroup": "y",
         "histfunc": "sum",
         "hovertemplate": "COUNTRY=United States of America<br>sum of Population Vaccinated=%{x}<br>DATE_UPDATED=%{y}<extra></extra>",
         "legendgroup": "United States of America",
         "marker": {
          "color": "rgb(252,205,229)",
          "pattern": {
           "shape": ""
          }
         },
         "name": "United States of America",
         "nbinsy": 14,
         "offsetgroup": "United States of America",
         "orientation": "h",
         "showlegend": true,
         "type": "histogram",
         "x": [
          269064626
         ],
         "xaxis": "x",
         "y": [
          "2022-12-31T00:00:00"
         ],
         "yaxis": "y"
        },
        {
         "alignmentgroup": "True",
         "bingroup": "y",
         "histfunc": "sum",
         "hovertemplate": "COUNTRY=Uruguay<br>sum of Population Vaccinated=%{x}<br>DATE_UPDATED=%{y}<extra></extra>",
         "legendgroup": "Uruguay",
         "marker": {
          "color": "rgb(179,222,105)",
          "pattern": {
           "shape": ""
          }
         },
         "name": "Uruguay",
         "nbinsy": 14,
         "offsetgroup": "Uruguay",
         "orientation": "h",
         "showlegend": true,
         "type": "histogram",
         "x": [
          3005815
         ],
         "xaxis": "x",
         "y": [
          "2022-12-31T00:00:00"
         ],
         "yaxis": "y"
        },
        {
         "alignmentgroup": "True",
         "bingroup": "y",
         "histfunc": "sum",
         "hovertemplate": "COUNTRY=Uzbekistan<br>sum of Population Vaccinated=%{x}<br>DATE_UPDATED=%{y}<extra></extra>",
         "legendgroup": "Uzbekistan",
         "marker": {
          "color": "rgb(253,180,98)",
          "pattern": {
           "shape": ""
          }
         },
         "name": "Uzbekistan",
         "nbinsy": 14,
         "offsetgroup": "Uzbekistan",
         "orientation": "h",
         "showlegend": true,
         "type": "histogram",
         "x": [
          21543755
         ],
         "xaxis": "x",
         "y": [
          "2022-12-31T00:00:00"
         ],
         "yaxis": "y"
        },
        {
         "alignmentgroup": "True",
         "bingroup": "y",
         "histfunc": "sum",
         "hovertemplate": "COUNTRY=Venezuela (Bolivarian Republic of)<br>sum of Population Vaccinated=%{x}<br>DATE_UPDATED=%{y}<extra></extra>",
         "legendgroup": "Venezuela (Bolivarian Republic of)",
         "marker": {
          "color": "rgb(128,177,211)",
          "pattern": {
           "shape": ""
          }
         },
         "name": "Venezuela (Bolivarian Republic of)",
         "nbinsy": 14,
         "offsetgroup": "Venezuela (Bolivarian Republic of)",
         "orientation": "h",
         "showlegend": true,
         "type": "histogram",
         "x": [
          22157232
         ],
         "xaxis": "x",
         "y": [
          "2022-12-31T00:00:00"
         ],
         "yaxis": "y"
        },
        {
         "alignmentgroup": "True",
         "bingroup": "y",
         "histfunc": "sum",
         "hovertemplate": "COUNTRY=Vietnam <br>sum of Population Vaccinated=%{x}<br>DATE_UPDATED=%{y}<extra></extra>",
         "legendgroup": "Vietnam ",
         "marker": {
          "color": "rgb(251,128,114)",
          "pattern": {
           "shape": ""
          }
         },
         "name": "Vietnam ",
         "nbinsy": 14,
         "offsetgroup": "Vietnam ",
         "orientation": "h",
         "showlegend": true,
         "type": "histogram",
         "x": [
          90454197
         ],
         "xaxis": "x",
         "y": [
          "2022-12-31T00:00:00"
         ],
         "yaxis": "y"
        },
        {
         "alignmentgroup": "True",
         "bingroup": "y",
         "histfunc": "sum",
         "hovertemplate": "COUNTRY=Yemen<br>sum of Population Vaccinated=%{x}<br>DATE_UPDATED=%{y}<extra></extra>",
         "legendgroup": "Yemen",
         "marker": {
          "color": "rgb(190,186,218)",
          "pattern": {
           "shape": ""
          }
         },
         "name": "Yemen",
         "nbinsy": 14,
         "offsetgroup": "Yemen",
         "orientation": "h",
         "showlegend": true,
         "type": "histogram",
         "x": [
          1006274
         ],
         "xaxis": "x",
         "y": [
          "2022-12-31T00:00:00"
         ],
         "yaxis": "y"
        },
        {
         "alignmentgroup": "True",
         "bingroup": "y",
         "histfunc": "sum",
         "hovertemplate": "COUNTRY=Zambia<br>sum of Population Vaccinated=%{x}<br>DATE_UPDATED=%{y}<extra></extra>",
         "legendgroup": "Zambia",
         "marker": {
          "color": "rgb(255,255,179)",
          "pattern": {
           "shape": ""
          }
         },
         "name": "Zambia",
         "nbinsy": 14,
         "offsetgroup": "Zambia",
         "orientation": "h",
         "showlegend": true,
         "type": "histogram",
         "x": [
          10802844
         ],
         "xaxis": "x",
         "y": [
          "2022-12-31T00:00:00"
         ],
         "yaxis": "y"
        }
       ],
       "layout": {
        "bargap": 0,
        "barmode": "relative",
        "legend": {
         "title": {
          "text": "COUNTRY"
         },
         "tracegroupgap": 0
        },
        "template": {
         "data": {
          "bar": [
           {
            "error_x": {
             "color": "#2a3f5f"
            },
            "error_y": {
             "color": "#2a3f5f"
            },
            "marker": {
             "line": {
              "color": "#E5ECF6",
              "width": 0.5
             },
             "pattern": {
              "fillmode": "overlay",
              "size": 10,
              "solidity": 0.2
             }
            },
            "type": "bar"
           }
          ],
          "barpolar": [
           {
            "marker": {
             "line": {
              "color": "#E5ECF6",
              "width": 0.5
             },
             "pattern": {
              "fillmode": "overlay",
              "size": 10,
              "solidity": 0.2
             }
            },
            "type": "barpolar"
           }
          ],
          "carpet": [
           {
            "aaxis": {
             "endlinecolor": "#2a3f5f",
             "gridcolor": "white",
             "linecolor": "white",
             "minorgridcolor": "white",
             "startlinecolor": "#2a3f5f"
            },
            "baxis": {
             "endlinecolor": "#2a3f5f",
             "gridcolor": "white",
             "linecolor": "white",
             "minorgridcolor": "white",
             "startlinecolor": "#2a3f5f"
            },
            "type": "carpet"
           }
          ],
          "choropleth": [
           {
            "colorbar": {
             "outlinewidth": 0,
             "ticks": ""
            },
            "type": "choropleth"
           }
          ],
          "contour": [
           {
            "colorbar": {
             "outlinewidth": 0,
             "ticks": ""
            },
            "colorscale": [
             [
              0,
              "#0d0887"
             ],
             [
              0.1111111111111111,
              "#46039f"
             ],
             [
              0.2222222222222222,
              "#7201a8"
             ],
             [
              0.3333333333333333,
              "#9c179e"
             ],
             [
              0.4444444444444444,
              "#bd3786"
             ],
             [
              0.5555555555555556,
              "#d8576b"
             ],
             [
              0.6666666666666666,
              "#ed7953"
             ],
             [
              0.7777777777777778,
              "#fb9f3a"
             ],
             [
              0.8888888888888888,
              "#fdca26"
             ],
             [
              1,
              "#f0f921"
             ]
            ],
            "type": "contour"
           }
          ],
          "contourcarpet": [
           {
            "colorbar": {
             "outlinewidth": 0,
             "ticks": ""
            },
            "type": "contourcarpet"
           }
          ],
          "heatmap": [
           {
            "colorbar": {
             "outlinewidth": 0,
             "ticks": ""
            },
            "colorscale": [
             [
              0,
              "#0d0887"
             ],
             [
              0.1111111111111111,
              "#46039f"
             ],
             [
              0.2222222222222222,
              "#7201a8"
             ],
             [
              0.3333333333333333,
              "#9c179e"
             ],
             [
              0.4444444444444444,
              "#bd3786"
             ],
             [
              0.5555555555555556,
              "#d8576b"
             ],
             [
              0.6666666666666666,
              "#ed7953"
             ],
             [
              0.7777777777777778,
              "#fb9f3a"
             ],
             [
              0.8888888888888888,
              "#fdca26"
             ],
             [
              1,
              "#f0f921"
             ]
            ],
            "type": "heatmap"
           }
          ],
          "heatmapgl": [
           {
            "colorbar": {
             "outlinewidth": 0,
             "ticks": ""
            },
            "colorscale": [
             [
              0,
              "#0d0887"
             ],
             [
              0.1111111111111111,
              "#46039f"
             ],
             [
              0.2222222222222222,
              "#7201a8"
             ],
             [
              0.3333333333333333,
              "#9c179e"
             ],
             [
              0.4444444444444444,
              "#bd3786"
             ],
             [
              0.5555555555555556,
              "#d8576b"
             ],
             [
              0.6666666666666666,
              "#ed7953"
             ],
             [
              0.7777777777777778,
              "#fb9f3a"
             ],
             [
              0.8888888888888888,
              "#fdca26"
             ],
             [
              1,
              "#f0f921"
             ]
            ],
            "type": "heatmapgl"
           }
          ],
          "histogram": [
           {
            "marker": {
             "pattern": {
              "fillmode": "overlay",
              "size": 10,
              "solidity": 0.2
             }
            },
            "type": "histogram"
           }
          ],
          "histogram2d": [
           {
            "colorbar": {
             "outlinewidth": 0,
             "ticks": ""
            },
            "colorscale": [
             [
              0,
              "#0d0887"
             ],
             [
              0.1111111111111111,
              "#46039f"
             ],
             [
              0.2222222222222222,
              "#7201a8"
             ],
             [
              0.3333333333333333,
              "#9c179e"
             ],
             [
              0.4444444444444444,
              "#bd3786"
             ],
             [
              0.5555555555555556,
              "#d8576b"
             ],
             [
              0.6666666666666666,
              "#ed7953"
             ],
             [
              0.7777777777777778,
              "#fb9f3a"
             ],
             [
              0.8888888888888888,
              "#fdca26"
             ],
             [
              1,
              "#f0f921"
             ]
            ],
            "type": "histogram2d"
           }
          ],
          "histogram2dcontour": [
           {
            "colorbar": {
             "outlinewidth": 0,
             "ticks": ""
            },
            "colorscale": [
             [
              0,
              "#0d0887"
             ],
             [
              0.1111111111111111,
              "#46039f"
             ],
             [
              0.2222222222222222,
              "#7201a8"
             ],
             [
              0.3333333333333333,
              "#9c179e"
             ],
             [
              0.4444444444444444,
              "#bd3786"
             ],
             [
              0.5555555555555556,
              "#d8576b"
             ],
             [
              0.6666666666666666,
              "#ed7953"
             ],
             [
              0.7777777777777778,
              "#fb9f3a"
             ],
             [
              0.8888888888888888,
              "#fdca26"
             ],
             [
              1,
              "#f0f921"
             ]
            ],
            "type": "histogram2dcontour"
           }
          ],
          "mesh3d": [
           {
            "colorbar": {
             "outlinewidth": 0,
             "ticks": ""
            },
            "type": "mesh3d"
           }
          ],
          "parcoords": [
           {
            "line": {
             "colorbar": {
              "outlinewidth": 0,
              "ticks": ""
             }
            },
            "type": "parcoords"
           }
          ],
          "pie": [
           {
            "automargin": true,
            "type": "pie"
           }
          ],
          "scatter": [
           {
            "fillpattern": {
             "fillmode": "overlay",
             "size": 10,
             "solidity": 0.2
            },
            "type": "scatter"
           }
          ],
          "scatter3d": [
           {
            "line": {
             "colorbar": {
              "outlinewidth": 0,
              "ticks": ""
             }
            },
            "marker": {
             "colorbar": {
              "outlinewidth": 0,
              "ticks": ""
             }
            },
            "type": "scatter3d"
           }
          ],
          "scattercarpet": [
           {
            "marker": {
             "colorbar": {
              "outlinewidth": 0,
              "ticks": ""
             }
            },
            "type": "scattercarpet"
           }
          ],
          "scattergeo": [
           {
            "marker": {
             "colorbar": {
              "outlinewidth": 0,
              "ticks": ""
             }
            },
            "type": "scattergeo"
           }
          ],
          "scattergl": [
           {
            "marker": {
             "colorbar": {
              "outlinewidth": 0,
              "ticks": ""
             }
            },
            "type": "scattergl"
           }
          ],
          "scattermapbox": [
           {
            "marker": {
             "colorbar": {
              "outlinewidth": 0,
              "ticks": ""
             }
            },
            "type": "scattermapbox"
           }
          ],
          "scatterpolar": [
           {
            "marker": {
             "colorbar": {
              "outlinewidth": 0,
              "ticks": ""
             }
            },
            "type": "scatterpolar"
           }
          ],
          "scatterpolargl": [
           {
            "marker": {
             "colorbar": {
              "outlinewidth": 0,
              "ticks": ""
             }
            },
            "type": "scatterpolargl"
           }
          ],
          "scatterternary": [
           {
            "marker": {
             "colorbar": {
              "outlinewidth": 0,
              "ticks": ""
             }
            },
            "type": "scatterternary"
           }
          ],
          "surface": [
           {
            "colorbar": {
             "outlinewidth": 0,
             "ticks": ""
            },
            "colorscale": [
             [
              0,
              "#0d0887"
             ],
             [
              0.1111111111111111,
              "#46039f"
             ],
             [
              0.2222222222222222,
              "#7201a8"
             ],
             [
              0.3333333333333333,
              "#9c179e"
             ],
             [
              0.4444444444444444,
              "#bd3786"
             ],
             [
              0.5555555555555556,
              "#d8576b"
             ],
             [
              0.6666666666666666,
              "#ed7953"
             ],
             [
              0.7777777777777778,
              "#fb9f3a"
             ],
             [
              0.8888888888888888,
              "#fdca26"
             ],
             [
              1,
              "#f0f921"
             ]
            ],
            "type": "surface"
           }
          ],
          "table": [
           {
            "cells": {
             "fill": {
              "color": "#EBF0F8"
             },
             "line": {
              "color": "white"
             }
            },
            "header": {
             "fill": {
              "color": "#C8D4E3"
             },
             "line": {
              "color": "white"
             }
            },
            "type": "table"
           }
          ]
         },
         "layout": {
          "annotationdefaults": {
           "arrowcolor": "#2a3f5f",
           "arrowhead": 0,
           "arrowwidth": 1
          },
          "autotypenumbers": "strict",
          "coloraxis": {
           "colorbar": {
            "outlinewidth": 0,
            "ticks": ""
           }
          },
          "colorscale": {
           "diverging": [
            [
             0,
             "#8e0152"
            ],
            [
             0.1,
             "#c51b7d"
            ],
            [
             0.2,
             "#de77ae"
            ],
            [
             0.3,
             "#f1b6da"
            ],
            [
             0.4,
             "#fde0ef"
            ],
            [
             0.5,
             "#f7f7f7"
            ],
            [
             0.6,
             "#e6f5d0"
            ],
            [
             0.7,
             "#b8e186"
            ],
            [
             0.8,
             "#7fbc41"
            ],
            [
             0.9,
             "#4d9221"
            ],
            [
             1,
             "#276419"
            ]
           ],
           "sequential": [
            [
             0,
             "#0d0887"
            ],
            [
             0.1111111111111111,
             "#46039f"
            ],
            [
             0.2222222222222222,
             "#7201a8"
            ],
            [
             0.3333333333333333,
             "#9c179e"
            ],
            [
             0.4444444444444444,
             "#bd3786"
            ],
            [
             0.5555555555555556,
             "#d8576b"
            ],
            [
             0.6666666666666666,
             "#ed7953"
            ],
            [
             0.7777777777777778,
             "#fb9f3a"
            ],
            [
             0.8888888888888888,
             "#fdca26"
            ],
            [
             1,
             "#f0f921"
            ]
           ],
           "sequentialminus": [
            [
             0,
             "#0d0887"
            ],
            [
             0.1111111111111111,
             "#46039f"
            ],
            [
             0.2222222222222222,
             "#7201a8"
            ],
            [
             0.3333333333333333,
             "#9c179e"
            ],
            [
             0.4444444444444444,
             "#bd3786"
            ],
            [
             0.5555555555555556,
             "#d8576b"
            ],
            [
             0.6666666666666666,
             "#ed7953"
            ],
            [
             0.7777777777777778,
             "#fb9f3a"
            ],
            [
             0.8888888888888888,
             "#fdca26"
            ],
            [
             1,
             "#f0f921"
            ]
           ]
          },
          "colorway": [
           "#636efa",
           "#EF553B",
           "#00cc96",
           "#ab63fa",
           "#FFA15A",
           "#19d3f3",
           "#FF6692",
           "#B6E880",
           "#FF97FF",
           "#FECB52"
          ],
          "font": {
           "color": "#2a3f5f"
          },
          "geo": {
           "bgcolor": "white",
           "lakecolor": "white",
           "landcolor": "#E5ECF6",
           "showlakes": true,
           "showland": true,
           "subunitcolor": "white"
          },
          "hoverlabel": {
           "align": "left"
          },
          "hovermode": "closest",
          "mapbox": {
           "style": "light"
          },
          "paper_bgcolor": "white",
          "plot_bgcolor": "#E5ECF6",
          "polar": {
           "angularaxis": {
            "gridcolor": "white",
            "linecolor": "white",
            "ticks": ""
           },
           "bgcolor": "#E5ECF6",
           "radialaxis": {
            "gridcolor": "white",
            "linecolor": "white",
            "ticks": ""
           }
          },
          "scene": {
           "xaxis": {
            "backgroundcolor": "#E5ECF6",
            "gridcolor": "white",
            "gridwidth": 2,
            "linecolor": "white",
            "showbackground": true,
            "ticks": "",
            "zerolinecolor": "white"
           },
           "yaxis": {
            "backgroundcolor": "#E5ECF6",
            "gridcolor": "white",
            "gridwidth": 2,
            "linecolor": "white",
            "showbackground": true,
            "ticks": "",
            "zerolinecolor": "white"
           },
           "zaxis": {
            "backgroundcolor": "#E5ECF6",
            "gridcolor": "white",
            "gridwidth": 2,
            "linecolor": "white",
            "showbackground": true,
            "ticks": "",
            "zerolinecolor": "white"
           }
          },
          "shapedefaults": {
           "line": {
            "color": "#2a3f5f"
           }
          },
          "ternary": {
           "aaxis": {
            "gridcolor": "white",
            "linecolor": "white",
            "ticks": ""
           },
           "baxis": {
            "gridcolor": "white",
            "linecolor": "white",
            "ticks": ""
           },
           "bgcolor": "#E5ECF6",
           "caxis": {
            "gridcolor": "white",
            "linecolor": "white",
            "ticks": ""
           }
          },
          "title": {
           "x": 0.05
          },
          "xaxis": {
           "automargin": true,
           "gridcolor": "white",
           "linecolor": "white",
           "ticks": "",
           "title": {
            "standoff": 15
           },
           "zerolinecolor": "white",
           "zerolinewidth": 2
          },
          "yaxis": {
           "automargin": true,
           "gridcolor": "white",
           "linecolor": "white",
           "ticks": "",
           "title": {
            "standoff": 15
           },
           "zerolinecolor": "white",
           "zerolinewidth": 2
          }
         }
        },
        "title": {
         "text": "Total Population vaccinated by Month and Country"
        },
        "xaxis": {
         "anchor": "y",
         "domain": [
          0,
          1
         ],
         "title": {
          "text": "Total number of vaccinations"
         }
        },
        "yaxis": {
         "anchor": "x",
         "domain": [
          0,
          1
         ],
         "title": {
          "text": "Month"
         }
        }
       }
      }
     },
     "metadata": {},
     "output_type": "display_data"
    }
   ],
   "source": [
    "vaccines_admin = df[[\"COUNTRY\", \"DATE_UPDATED\", \"TOTAL Population\", \"Population Vaccinated\"]]\n",
    "vaccines_admin = vaccines_admin.sort_values('DATE_UPDATED')\n",
    "\n",
    "df_grouped = vaccines_admin.groupby([pd.Grouper(key='DATE_UPDATED', freq='M'), 'COUNTRY']).sum().reset_index()\n",
    "\n",
    "fig = px.histogram(df_grouped, x='Population Vaccinated', y='DATE_UPDATED', color='COUNTRY', \n",
    "                   histfunc='sum', nbins=len(df_grouped['DATE_UPDATED'].unique()),\n",
    "                   labels={'Population Vaccinated': 'Population Vaccinated'},\n",
    "                   title='Total Population vaccinated by Month and Country',\n",
    "                   color_discrete_sequence=px.colors.qualitative.Set3_r)\n",
    "\n",
    "fig.update_layout(bargap=0)\n",
    "fig.update_layout(\n",
    "    bargap=0,\n",
    "    yaxis_title='Month'\n",
    ")\n",
    "fig.update_layout(\n",
    "    bargap=0,\n",
    "    xaxis_title='Total number of vaccinations'\n",
    ")\n",
    "\n",
    "fig.show()"
   ]
  },
  {
   "cell_type": "code",
   "execution_count": 11,
   "metadata": {},
   "outputs": [
    {
     "ename": "ValueError",
     "evalue": "The length of the y vector must match the length of the first dimension of the img matrix.",
     "output_type": "error",
     "traceback": [
      "\u001b[1;31m---------------------------------------------------------------------------\u001b[0m",
      "\u001b[1;31mValueError\u001b[0m                                Traceback (most recent call last)",
      "\u001b[1;32md:\\CCNY\\Spring 2023\\CSc 47400\\informative-graphics\\COVID-19 Data Analysis\\1\\Q1\\Updated 1.ipynb Cell 6\u001b[0m in \u001b[0;36m1\n\u001b[1;32m----> <a href='vscode-notebook-cell:/d%3A/CCNY/Spring%202023/CSc%2047400/informative-graphics/COVID-19%20Data%20Analysis/1/Q1/Updated%201.ipynb#W5sZmlsZQ%3D%3D?line=0'>1</a>\u001b[0m heatmap \u001b[39m=\u001b[39m px\u001b[39m.\u001b[39mimshow(df,\n\u001b[0;32m      <a href='vscode-notebook-cell:/d%3A/CCNY/Spring%202023/CSc%2047400/informative-graphics/COVID-19%20Data%20Analysis/1/Q1/Updated%201.ipynb#W5sZmlsZQ%3D%3D?line=1'>2</a>\u001b[0m                      x\u001b[39m=\u001b[39m\u001b[39m\"\u001b[39m\u001b[39mCOUNTRY\u001b[39m\u001b[39m\"\u001b[39m,\n\u001b[0;32m      <a href='vscode-notebook-cell:/d%3A/CCNY/Spring%202023/CSc%2047400/informative-graphics/COVID-19%20Data%20Analysis/1/Q1/Updated%201.ipynb#W5sZmlsZQ%3D%3D?line=2'>3</a>\u001b[0m                      y\u001b[39m=\u001b[39m[\u001b[39m\"\u001b[39m\u001b[39m%\u001b[39m\u001b[39m SUCEPTIBLE for BREAKTHROUGH ORGINAL SEVERE\u001b[39m\u001b[39m\"\u001b[39m, \u001b[39m\"\u001b[39m\u001b[39m%\u001b[39m\u001b[39m SUCEPTIBLE for BREAKTHROUGH ORIGINAL INFECTION\u001b[39m\u001b[39m\"\u001b[39m, \u001b[39m\"\u001b[39m\u001b[39m%\u001b[39m\u001b[39m SUCEPTIBLE for BREAKTHROUGH OMICRON SEVERE\u001b[39m\u001b[39m\"\u001b[39m, \u001b[39m\"\u001b[39m\u001b[39m%\u001b[39m\u001b[39m SUCEPTIBLE for BREAKTHROUGH OMICRON INFECTION\u001b[39m\u001b[39m\"\u001b[39m],\n\u001b[0;32m      <a href='vscode-notebook-cell:/d%3A/CCNY/Spring%202023/CSc%2047400/informative-graphics/COVID-19%20Data%20Analysis/1/Q1/Updated%201.ipynb#W5sZmlsZQ%3D%3D?line=3'>4</a>\u001b[0m                      color_continuous_scale\u001b[39m=\u001b[39m\u001b[39m\"\u001b[39m\u001b[39mRdYlGn\u001b[39m\u001b[39m\"\u001b[39m,\n\u001b[0;32m      <a href='vscode-notebook-cell:/d%3A/CCNY/Spring%202023/CSc%2047400/informative-graphics/COVID-19%20Data%20Analysis/1/Q1/Updated%201.ipynb#W5sZmlsZQ%3D%3D?line=4'>5</a>\u001b[0m                      color_continuous_midpoint\u001b[39m=\u001b[39m\u001b[39m50\u001b[39m,\n\u001b[0;32m      <a href='vscode-notebook-cell:/d%3A/CCNY/Spring%202023/CSc%2047400/informative-graphics/COVID-19%20Data%20Analysis/1/Q1/Updated%201.ipynb#W5sZmlsZQ%3D%3D?line=5'>6</a>\u001b[0m                      labels\u001b[39m=\u001b[39m\u001b[39mdict\u001b[39m(x\u001b[39m=\u001b[39m\u001b[39m\"\u001b[39m\u001b[39mVaccine Used\u001b[39m\u001b[39m\"\u001b[39m, y\u001b[39m=\u001b[39m\u001b[39m\"\u001b[39m\u001b[39mPercentage of People Susceptible to Breakthrough Infections\u001b[39m\u001b[39m\"\u001b[39m))\n\u001b[0;32m      <a href='vscode-notebook-cell:/d%3A/CCNY/Spring%202023/CSc%2047400/informative-graphics/COVID-19%20Data%20Analysis/1/Q1/Updated%201.ipynb#W5sZmlsZQ%3D%3D?line=7'>8</a>\u001b[0m heatmap\u001b[39m.\u001b[39mshow()\n",
      "File \u001b[1;32mc:\\Users\\V\\AppData\\Local\\Programs\\Python\\Python310\\lib\\site-packages\\plotly\\express\\_imshow.py:383\u001b[0m, in \u001b[0;36mimshow\u001b[1;34m(img, zmin, zmax, origin, labels, x, y, animation_frame, facet_col, facet_col_wrap, facet_col_spacing, facet_row_spacing, color_continuous_scale, color_continuous_midpoint, range_color, title, template, width, height, aspect, contrast_rescaling, binary_string, binary_backend, binary_compression_level, binary_format, text_auto)\u001b[0m\n\u001b[0;32m    381\u001b[0m y_index \u001b[39m=\u001b[39m slice_dimensions\n\u001b[0;32m    382\u001b[0m \u001b[39mif\u001b[39;00m y \u001b[39mis\u001b[39;00m \u001b[39mnot\u001b[39;00m \u001b[39mNone\u001b[39;00m \u001b[39mand\u001b[39;00m img\u001b[39m.\u001b[39mshape[y_index] \u001b[39m!=\u001b[39m \u001b[39mlen\u001b[39m(y):\n\u001b[1;32m--> 383\u001b[0m     \u001b[39mraise\u001b[39;00m \u001b[39mValueError\u001b[39;00m(\n\u001b[0;32m    384\u001b[0m         \u001b[39m\"\u001b[39m\u001b[39mThe length of the y vector must match the length of the first \u001b[39m\u001b[39m\"\u001b[39m\n\u001b[0;32m    385\u001b[0m         \u001b[39m+\u001b[39m \u001b[39m\"\u001b[39m\u001b[39mdimension of the img matrix.\u001b[39m\u001b[39m\"\u001b[39m\n\u001b[0;32m    386\u001b[0m     )\n\u001b[0;32m    387\u001b[0m x_index \u001b[39m=\u001b[39m slice_dimensions \u001b[39m+\u001b[39m \u001b[39m1\u001b[39m\n\u001b[0;32m    388\u001b[0m \u001b[39mif\u001b[39;00m x \u001b[39mis\u001b[39;00m \u001b[39mnot\u001b[39;00m \u001b[39mNone\u001b[39;00m \u001b[39mand\u001b[39;00m img\u001b[39m.\u001b[39mshape[x_index] \u001b[39m!=\u001b[39m \u001b[39mlen\u001b[39m(x):\n",
      "\u001b[1;31mValueError\u001b[0m: The length of the y vector must match the length of the first dimension of the img matrix."
     ]
    }
   ],
   "source": [
    "heatmap = px.imshow(df,\n",
    "                     x=\"COUNTRY\",\n",
    "                     y=[\"% SUCEPTIBLE for BREAKTHROUGH ORGINAL SEVERE\", \"% SUCEPTIBLE for BREAKTHROUGH ORIGINAL INFECTION\", \"% SUCEPTIBLE for BREAKTHROUGH OMICRON SEVERE\", \"% SUCEPTIBLE for BREAKTHROUGH OMICRON INFECTION\"],\n",
    "                     color_continuous_scale=\"RdYlGn\",\n",
    "                     color_continuous_midpoint=50,\n",
    "                     labels=dict(x=\"Vaccine Used\", y=\"Percentage of People Susceptible to Breakthrough Infections\"))\n",
    "\n",
    "heatmap.show()\n"
   ]
  }
 ],
 "metadata": {
  "kernelspec": {
   "display_name": "Python 3",
   "language": "python",
   "name": "python3"
  },
  "language_info": {
   "codemirror_mode": {
    "name": "ipython",
    "version": 3
   },
   "file_extension": ".py",
   "mimetype": "text/x-python",
   "name": "python",
   "nbconvert_exporter": "python",
   "pygments_lexer": "ipython3",
   "version": "3.10.4"
  },
  "orig_nbformat": 4
 },
 "nbformat": 4,
 "nbformat_minor": 2
}
