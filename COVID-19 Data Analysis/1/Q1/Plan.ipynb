{
 "cells": [
  {
   "attachments": {},
   "cell_type": "markdown",
   "metadata": {},
   "source": [
    "In this dataset there is: \n",
    "\n",
    "Country \n",
    "\n",
    "ISO3\n",
    "\n",
    "Who Region \n",
    "\n",
    "Dated updated (not accurate)\n",
    "\n",
    "Vaccine used \n",
    "\n",
    "Average protection against [severe infection] of the original varient \n",
    "\n",
    "Average protection against [infection] of the original varient \n",
    "\n",
    "Average protection against [severe infection] of the BA1.n varient \n",
    "\n",
    "Average protection against [infection] of the BA1.n varient \n",
    "\n",
    "Total population \n",
    "\n",
    "population vaccinated \n",
    "\n",
    "percent population vaccinated \n",
    "\n",
    "percent of people protected from servere infection from the original variant\n",
    "\n",
    "percent of people protected from infection from the original variant\n",
    "\n",
    "percent of people protected from servere infection from the Omicron variant\n",
    "\n",
    "percent of people protected from infection from the Omicron variant\n",
    "\n",
    "percent SUCEPTIBLE for  BREAKTHROUGH  ORGINAL SEVERE \n",
    "\n",
    "percent SUCEPTIBLE for  BREAKTHROUGH ORIGINAL  INFECTION\n",
    "\n",
    "% SUCEPTIBLE for  BREAKTHROUGH OMICRON SEVERE\n",
    "\n",
    "% SUCEPTIBLE for  BREAKTHROUGH OMICRON INFECTION\n",
    "\n",
    "% Population NOT VACCINATED"
   ]
  }
 ],
 "metadata": {
  "language_info": {
   "name": "python"
  },
  "orig_nbformat": 4
 },
 "nbformat": 4,
 "nbformat_minor": 2
}
